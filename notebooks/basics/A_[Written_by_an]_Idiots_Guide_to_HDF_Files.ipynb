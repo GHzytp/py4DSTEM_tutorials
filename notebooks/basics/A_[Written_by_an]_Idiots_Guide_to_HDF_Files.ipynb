{
 "cells": [
  {
   "cell_type": "markdown",
   "metadata": {},
   "source": [
    "# HDF5 Basics"
   ]
  },
  {
   "cell_type": "markdown",
   "metadata": {},
   "source": [
    "Hierarchical Data Format (HDF) is a set of file formats (HDF4, HDF5) designed to store and organize large amounts of data. Originally developed at the National Center for Supercomputing Applications, it is supported by The HDF Group, a non-profit corporation whose mission is to ensure continued development of HDF5 technologies and the continued accessibility of data stored in HDF.[1](https://en.wikipedia.org/wiki/Hierarchical_Data_Format) \n",
    "\n",
    "They are widely used format for open source projects, the python ecosystem e.g. pandas, are the backend for other file formats e.g. [netcdf-4](https://www.unidata.ucar.edu/software/netcdf/docs/faq.html#What-Is-netCDF), and are use extensively in electron microscopy libraries such as:\n",
    "- [Prismatic S/TEM/Simulation program](https://github.com/prism-em/prismatic),\n",
    "- [hyperspy (.hspy)](https://github.com/hyperspy/hyperspy), \n",
    "- [Electron Microscopy Dataformat(.emd)](https://emdatasets.com/) and ... \n",
    "- **[py4DSTEM](https://github.com/py4dstem/py4DSTEM)**  "
   ]
  },
  {
   "cell_type": "markdown",
   "metadata": {},
   "source": [
    "HDF5 files are based the concept of groups (python dictionary like) and datasets (numpy like)"
   ]
  },
  {
   "cell_type": "markdown",
   "metadata": {},
   "source": [
    "Two basic packages for dealing with hdf5 files in python:\n",
    "\n",
    "1. [h5py](https://docs.h5py.org/en/stable/) (import h5py)\n",
    "2. [pytables](https://www.pytables.org/) (import tables)\n",
    "\n",
    "We'll use h5py here"
   ]
  },
  {
   "cell_type": "markdown",
   "metadata": {},
   "source": [
    "## Toy Problem"
   ]
  },
  {
   "cell_type": "code",
   "execution_count": 1,
   "metadata": {},
   "outputs": [],
   "source": [
    "import h5py # handle the hdf5 (h5) files\n",
    "import numpy as np # create the data\n",
    "import os # create a tempoary directory\n",
    "import shutil\n",
    "from pathlib import Path # handle paths\n",
    "import matplotlib.pyplot as plt"
   ]
  },
  {
   "cell_type": "code",
   "execution_count": 2,
   "metadata": {},
   "outputs": [],
   "source": [
    "# lets create an tempory file file directory to store all our files"
   ]
  },
  {
   "cell_type": "code",
   "execution_count": 3,
   "metadata": {},
   "outputs": [],
   "source": [
    "os.mkdir('temp_hdf5s')\n",
    "path = Path('temp_hdf5s/')"
   ]
  },
  {
   "cell_type": "markdown",
   "metadata": {},
   "source": [
    "lets create some fake data"
   ]
  },
  {
   "cell_type": "code",
   "execution_count": 4,
   "metadata": {},
   "outputs": [],
   "source": [
    "data_2D = np.kron([[1, 0] * 16, [0, 1] * 16] * 16, np.ones((8, 8))) # make a \n",
    "data_4D = np.tile(data_2D, (10,10,1,1)) # repeat the 2D data in 4D \n",
    "metadata_text = \"some string of text\" \n",
    "metadata_values_x = np.arange(10)\n",
    "metadata_values_y = np.arange(10)"
   ]
  },
  {
   "cell_type": "markdown",
   "metadata": {},
   "source": [
    "lets create a the h5 file"
   ]
  },
  {
   "cell_type": "code",
   "execution_count": 5,
   "metadata": {},
   "outputs": [],
   "source": [
    "file = h5py.File(path/'my_first_hdf.h5', 'w') "
   ]
  },
  {
   "cell_type": "markdown",
   "metadata": {},
   "source": [
    "lets look at what that returns"
   ]
  },
  {
   "cell_type": "code",
   "execution_count": 6,
   "metadata": {},
   "outputs": [
    {
     "data": {
      "text/plain": [
       "<HDF5 file \"my_first_hdf.h5\" (mode r+)>"
      ]
     },
     "execution_count": 6,
     "metadata": {},
     "output_type": "execute_result"
    }
   ],
   "source": [
    "file"
   ]
  },
  {
   "cell_type": "markdown",
   "metadata": {},
   "source": [
    "hdf5 files behave like python dictionaries, and will return keys"
   ]
  },
  {
   "cell_type": "code",
   "execution_count": 7,
   "metadata": {},
   "outputs": [
    {
     "data": {
      "text/plain": [
       "<KeysViewHDF5 []>"
      ]
     },
     "execution_count": 7,
     "metadata": {},
     "output_type": "execute_result"
    }
   ],
   "source": [
    "file.keys()"
   ]
  },
  {
   "cell_type": "markdown",
   "metadata": {},
   "source": [
    "currently its empty lets create a group"
   ]
  },
  {
   "cell_type": "code",
   "execution_count": 8,
   "metadata": {},
   "outputs": [
    {
     "data": {
      "text/plain": [
       "<HDF5 group \"/Custom-hdf5\" (0 members)>"
      ]
     },
     "execution_count": 8,
     "metadata": {},
     "output_type": "execute_result"
    }
   ],
   "source": [
    "file.create_group('/Custom-hdf5')"
   ]
  },
  {
   "cell_type": "markdown",
   "metadata": {},
   "source": [
    "now if we run keys it will return teh group we just created "
   ]
  },
  {
   "cell_type": "code",
   "execution_count": 9,
   "metadata": {},
   "outputs": [
    {
     "data": {
      "text/plain": [
       "<KeysViewHDF5 ['Custom-hdf5']>"
      ]
     },
     "execution_count": 9,
     "metadata": {},
     "output_type": "execute_result"
    }
   ],
   "source": [
    "file.keys()"
   ]
  },
  {
   "cell_type": "markdown",
   "metadata": {},
   "source": [
    "we can see what keys this group has just like we did earlier"
   ]
  },
  {
   "cell_type": "code",
   "execution_count": 10,
   "metadata": {},
   "outputs": [
    {
     "data": {
      "text/plain": [
       "<KeysViewHDF5 []>"
      ]
     },
     "execution_count": 10,
     "metadata": {},
     "output_type": "execute_result"
    }
   ],
   "source": [
    "file['Custom-hdf5'].keys()"
   ]
  },
  {
   "cell_type": "markdown",
   "metadata": {},
   "source": [
    "lets create a dataset for our 4D-dataset"
   ]
  },
  {
   "cell_type": "code",
   "execution_count": 11,
   "metadata": {},
   "outputs": [
    {
     "data": {
      "text/plain": [
       "<HDF5 group \"/Custom-hdf5/4D-dataset\" (0 members)>"
      ]
     },
     "execution_count": 11,
     "metadata": {},
     "output_type": "execute_result"
    }
   ],
   "source": [
    "file['Custom-hdf5'].create_group('4D-dataset')"
   ]
  },
  {
   "cell_type": "markdown",
   "metadata": {},
   "source": [
    "we can check that it is empty"
   ]
  },
  {
   "cell_type": "code",
   "execution_count": 12,
   "metadata": {},
   "outputs": [
    {
     "data": {
      "text/plain": [
       "<KeysViewHDF5 []>"
      ]
     },
     "execution_count": 12,
     "metadata": {},
     "output_type": "execute_result"
    }
   ],
   "source": [
    "file['Custom-hdf5/4D-dataset'].keys()"
   ]
  },
  {
   "cell_type": "markdown",
   "metadata": {},
   "source": [
    "inside this group we will add some datsets "
   ]
  },
  {
   "cell_type": "code",
   "execution_count": 13,
   "metadata": {},
   "outputs": [
    {
     "data": {
      "text/plain": [
       "<HDF5 dataset \"string_field\": shape (), type \"|O\">"
      ]
     },
     "execution_count": 13,
     "metadata": {},
     "output_type": "execute_result"
    }
   ],
   "source": [
    "file['Custom-hdf5/4D-dataset'].create_dataset('data', data=data_4D)\n",
    "file['Custom-hdf5/4D-dataset'].create_dataset('metadata_x', data=metadata_values_x)\n",
    "file['Custom-hdf5/4D-dataset'].create_dataset('metadata_y', data=metadata_values_y)\n",
    "file['Custom-hdf5/4D-dataset'].create_dataset('string_field', data=metadata_text)"
   ]
  },
  {
   "cell_type": "markdown",
   "metadata": {},
   "source": [
    "now if we look at the keys"
   ]
  },
  {
   "cell_type": "code",
   "execution_count": 14,
   "metadata": {},
   "outputs": [
    {
     "data": {
      "text/plain": [
       "<KeysViewHDF5 ['data', 'metadata_x', 'metadata_y', 'string_field']>"
      ]
     },
     "execution_count": 14,
     "metadata": {},
     "output_type": "execute_result"
    }
   ],
   "source": [
    "file['Custom-hdf5/4D-dataset'].keys()"
   ]
  },
  {
   "cell_type": "markdown",
   "metadata": {},
   "source": [
    "lets create another group for our 2D-dataset  "
   ]
  },
  {
   "cell_type": "code",
   "execution_count": 15,
   "metadata": {},
   "outputs": [
    {
     "data": {
      "text/plain": [
       "<HDF5 group \"/Custom-hdf5/2D-dataset\" (0 members)>"
      ]
     },
     "execution_count": 15,
     "metadata": {},
     "output_type": "execute_result"
    }
   ],
   "source": [
    "file['Custom-hdf5'].create_group('2D-dataset')"
   ]
  },
  {
   "cell_type": "code",
   "execution_count": 16,
   "metadata": {},
   "outputs": [
    {
     "data": {
      "text/plain": [
       "<HDF5 dataset \"metadata_y\": shape (256,), type \"<i4\">"
      ]
     },
     "execution_count": 16,
     "metadata": {},
     "output_type": "execute_result"
    }
   ],
   "source": [
    "file['Custom-hdf5/2D-dataset'].create_dataset('data', data=data_2D)\n",
    "file['Custom-hdf5/2D-dataset'].create_dataset('metadata_x', data=np.arange(256, dtype=np.int32))\n",
    "file['Custom-hdf5/2D-dataset'].create_dataset('metadata_y', data=np.arange(256, dtype=np.int32))"
   ]
  },
  {
   "cell_type": "markdown",
   "metadata": {},
   "source": [
    "we can start to see the tree like structure to the folder. Also notice the different way we can access the groups"
   ]
  },
  {
   "cell_type": "code",
   "execution_count": 17,
   "metadata": {},
   "outputs": [
    {
     "name": "stdout",
     "output_type": "stream",
     "text": [
      "<KeysViewHDF5 ['Custom-hdf5']>\n",
      "<KeysViewHDF5 ['2D-dataset', '4D-dataset']>\n",
      "<KeysViewHDF5 ['data', 'metadata_x', 'metadata_y', 'string_field']>\n",
      "<KeysViewHDF5 ['data', 'metadata_x', 'metadata_y']>\n"
     ]
    }
   ],
   "source": [
    "print(file.keys())\n",
    "print(file['Custom-hdf5'].keys())\n",
    "print(file['Custom-hdf5']['4D-dataset'].keys())\n",
    "print(file['Custom-hdf5']['2D-dataset'].keys())"
   ]
  },
  {
   "cell_type": "code",
   "execution_count": 18,
   "metadata": {},
   "outputs": [
    {
     "name": "stdout",
     "output_type": "stream",
     "text": [
      "<class 'h5py._hl.group.Group'>\n",
      "<class 'h5py._hl.group.Group'>\n",
      "<class 'h5py._hl.dataset.Dataset'>\n",
      "<class 'h5py._hl.dataset.Dataset'>\n"
     ]
    }
   ],
   "source": [
    "print(type(file['Custom-hdf5']))\n",
    "print(type(file['Custom-hdf5/4D-dataset/'])),\n",
    "print(type(file['Custom-hdf5/4D-dataset/data']))\n",
    "print(type(file['Custom-hdf5/4D-dataset/string_field']))"
   ]
  },
  {
   "cell_type": "markdown",
   "metadata": {},
   "source": [
    "There are better ways to walk through a hdf5 file, here's one example"
   ]
  },
  {
   "cell_type": "code",
   "execution_count": 19,
   "metadata": {},
   "outputs": [
    {
     "name": "stdout",
     "output_type": "stream",
     "text": [
      "Custom-hdf5 <HDF5 group \"/Custom-hdf5\" (2 members)>\n",
      "Custom-hdf5/2D-dataset <HDF5 group \"/Custom-hdf5/2D-dataset\" (3 members)>\n",
      "Custom-hdf5/2D-dataset/data <HDF5 dataset \"data\": shape (256, 256), type \"<f8\">\n",
      "Custom-hdf5/2D-dataset/metadata_x <HDF5 dataset \"metadata_x\": shape (256,), type \"<i4\">\n",
      "Custom-hdf5/2D-dataset/metadata_y <HDF5 dataset \"metadata_y\": shape (256,), type \"<i4\">\n",
      "Custom-hdf5/4D-dataset <HDF5 group \"/Custom-hdf5/4D-dataset\" (4 members)>\n",
      "Custom-hdf5/4D-dataset/data <HDF5 dataset \"data\": shape (10, 10, 256, 256), type \"<f8\">\n",
      "Custom-hdf5/4D-dataset/metadata_x <HDF5 dataset \"metadata_x\": shape (10,), type \"<i4\">\n",
      "Custom-hdf5/4D-dataset/metadata_y <HDF5 dataset \"metadata_y\": shape (10,), type \"<i4\">\n",
      "Custom-hdf5/4D-dataset/string_field <HDF5 dataset \"string_field\": shape (), type \"|O\">\n"
     ]
    }
   ],
   "source": [
    "def hdf5_printer(name, obj):\n",
    "    print(name, obj)\n",
    "    return None \n",
    "\n",
    "file.visititems(hdf5_printer)\n"
   ]
  },
  {
   "cell_type": "markdown",
   "metadata": {},
   "source": [
    "### lets look at the data"
   ]
  },
  {
   "cell_type": "code",
   "execution_count": 20,
   "metadata": {},
   "outputs": [
    {
     "data": {
      "text/plain": [
       "<HDF5 dataset \"data\": shape (10, 10, 256, 256), type \"<f8\">"
      ]
     },
     "execution_count": 20,
     "metadata": {},
     "output_type": "execute_result"
    }
   ],
   "source": [
    "file['Custom-hdf5/4D-dataset/data']"
   ]
  },
  {
   "cell_type": "markdown",
   "metadata": {},
   "source": [
    "The above didn't return the data like we might expect, instead it returns a pointer to the data with some of metadata. The shape is as we expect, the type '<f8' might look strange but it stands for float 64 with little [endian](https://en.wikipedia.org/wiki/Endianness) order, which is the type of data from our orignal dataset. To read [here](https://numpy.org/doc/stable/reference/arrays.dtypes.html) for more information  "
   ]
  },
  {
   "cell_type": "markdown",
   "metadata": {},
   "source": [
    "To access our data we instead need to do one of two (maybe more ways) things"
   ]
  },
  {
   "cell_type": "code",
   "execution_count": 21,
   "metadata": {},
   "outputs": [
    {
     "name": "stdout",
     "output_type": "stream",
     "text": [
      "(10, 10, 256, 256)\n",
      "(10, 10, 256, 256)\n",
      "(256, 256)\n",
      "(256, 256)\n",
      "<class 'numpy.ndarray'> <class 'numpy.ndarray'>\n",
      "True\n"
     ]
    }
   ],
   "source": [
    "# get all of the dataset\n",
    "print(file['Custom-hdf5/4D-dataset/data'][...].shape) # ... c.f. numpy and returns all  all indexes, equiv to [:,:,:,:]\n",
    "print(np.array(file['Custom-hdf5/4D-dataset/data']).shape) # numpy handles this for us\n",
    "#slice the dataset \n",
    "print(file['Custom-hdf5/4D-dataset/data'][0,0,...].shape) # equiv to [0,0,:,:]\n",
    "print(np.array(file['Custom-hdf5/4D-dataset/data'])[0,0,:,:].shape)\n",
    "\n",
    "# these methods yield the same result, numpy arrays which are equal\n",
    "print(type(file['Custom-hdf5/4D-dataset/data'][0,0,...]), \n",
    "      type(np.array(file['Custom-hdf5/4D-dataset/data'])[0,0,:,:]))\n",
    "print(np.all(np.array(file['Custom-hdf5/4D-dataset/data'])[0,0,:,:] == file['Custom-hdf5/4D-dataset/data'][0,0,...]))"
   ]
  },
  {
   "cell_type": "markdown",
   "metadata": {},
   "source": [
    "quick demonstration that that data is what we'd expect"
   ]
  },
  {
   "cell_type": "code",
   "execution_count": 23,
   "metadata": {},
   "outputs": [
    {
     "data": {
      "image/png": "[encoded data removed]",
      "text/plain": [
       "<Figure size 432x288 with 1 Axes>"
      ]
     },
     "metadata": {
      "needs_background": "light"
     },
     "output_type": "display_data"
    }
   ],
   "source": [
    "plt.imshow(file['Custom-hdf5/4D-dataset/data'][0,0,...])\n",
    "plt.axis('off')\n",
    "plt.tight_layout()\n",
    "plt.show()"
   ]
  },
  {
   "cell_type": "markdown",
   "metadata": {},
   "source": [
    "It's important to remember to close the file"
   ]
  },
  {
   "cell_type": "code",
   "execution_count": 24,
   "metadata": {},
   "outputs": [],
   "source": [
    "file.close()"
   ]
  },
  {
   "cell_type": "markdown",
   "metadata": {},
   "source": [
    "A prefered way to handle opening and closing the files as flowing "
   ]
  },
  {
   "cell_type": "code",
   "execution_count": 25,
   "metadata": {},
   "outputs": [],
   "source": [
    "with h5py.File(path/'my_first_hdf.h5', 'r') as f: # here we are opening the file in 'r' == read only mode\n",
    "    data_4d = f['Custom-hdf5/4D-dataset/data'][...] # get all the data "
   ]
  },
  {
   "cell_type": "markdown",
   "metadata": {},
   "source": [
    "We can check the file, f is closed, but we got our data"
   ]
  },
  {
   "cell_type": "code",
   "execution_count": 26,
   "metadata": {},
   "outputs": [
    {
     "data": {
      "text/plain": [
       "(<Closed HDF5 file>, (10, 10, 256, 256))"
      ]
     },
     "execution_count": 26,
     "metadata": {},
     "output_type": "execute_result"
    }
   ],
   "source": [
    "f, data_4d.shape"
   ]
  },
  {
   "cell_type": "code",
   "execution_count": 27,
   "metadata": {},
   "outputs": [
    {
     "data": {
      "image/png": "[encoded data removed]",
      "text/plain": [
       "<Figure size 432x288 with 1 Axes>"
      ]
     },
     "metadata": {
      "needs_background": "light"
     },
     "output_type": "display_data"
    }
   ],
   "source": [
    "plt.imshow(data_4d[0,0,...])\n",
    "plt.axis('off')\n",
    "plt.tight_layout()\n",
    "plt.show()"
   ]
  },
  {
   "cell_type": "markdown",
   "metadata": {},
   "source": [
    "## Real World "
   ]
  },
  {
   "cell_type": "markdown",
   "metadata": {},
   "source": [
    "Thankfully most packages handle this for us proivided the hdf5 are formatted in a way they expect. However, sometimes we need to extract the data from a non-native file type.  "
   ]
  },
  {
   "cell_type": "code",
   "execution_count": 28,
   "metadata": {},
   "outputs": [],
   "source": [
    "import py4DSTEM\n",
    "from py4DSTEM.io import download_file_from_google_drive"
   ]
  },
  {
   "cell_type": "markdown",
   "metadata": {},
   "source": [
    "this downloads ~ 900mb h5 file "
   ]
  },
  {
   "cell_type": "code",
   "execution_count": 29,
   "metadata": {},
   "outputs": [
    {
     "name": "stdout",
     "output_type": "stream",
     "text": [
      "Downloading\n"
     ]
    }
   ],
   "source": [
    "download_file_from_google_drive(\"1bHv3u61Cr-y_GkdWHrJGh1lw2VKmt3UM\", path/\"carbon_nanotube_data.h5\")"
   ]
  },
  {
   "cell_type": "markdown",
   "metadata": {},
   "source": [
    "First we examine the structure of the file type and identify the path to the data"
   ]
  },
  {
   "cell_type": "code",
   "execution_count": 30,
   "metadata": {},
   "outputs": [
    {
     "name": "stdout",
     "output_type": "stream",
     "text": [
      "4D-STEM_data <HDF5 group \"/4D-STEM_data\" (1 members)>\n",
      "4D-STEM_data/metadata <HDF5 group \"/4D-STEM_data/metadata\" (7 members)>\n",
      "4D-STEM_data/metadata/calibration <HDF5 group \"/4D-STEM_data/metadata/calibration\" (0 members)>\n",
      "4D-STEM_data/metadata/comments <HDF5 group \"/4D-STEM_data/metadata/comments\" (0 members)>\n",
      "4D-STEM_data/metadata/microscope <HDF5 group \"/4D-STEM_data/metadata/microscope\" (0 members)>\n",
      "4D-STEM_data/metadata/original <HDF5 group \"/4D-STEM_data/metadata/original\" (2 members)>\n",
      "4D-STEM_data/metadata/original/all <HDF5 group \"/4D-STEM_data/metadata/original/all\" (0 members)>\n",
      "4D-STEM_data/metadata/original/shortlist <HDF5 group \"/4D-STEM_data/metadata/original/shortlist\" (0 members)>\n",
      "4D-STEM_data/metadata/processing <HDF5 group \"/4D-STEM_data/metadata/processing\" (0 members)>\n",
      "4D-STEM_data/metadata/sample <HDF5 group \"/4D-STEM_data/metadata/sample\" (0 members)>\n",
      "4D-STEM_data/metadata/user <HDF5 group \"/4D-STEM_data/metadata/user\" (0 members)>\n",
      "4DSTEM_experiment <HDF5 group \"/4DSTEM_experiment\" (1 members)>\n",
      "4DSTEM_experiment/data <HDF5 group \"/4DSTEM_experiment/data\" (5 members)>\n",
      "4DSTEM_experiment/data/datacubes <HDF5 group \"/4DSTEM_experiment/data/datacubes\" (1 members)>\n",
      "4DSTEM_experiment/data/datacubes/datacube_0 <HDF5 group \"/4DSTEM_experiment/data/datacubes/datacube_0\" (1 members)>\n",
      "4DSTEM_experiment/data/datacubes/datacube_0/datacube <HDF5 dataset \"datacube\": shape (253, 253, 44, 44), type \"<f8\">\n",
      "4DSTEM_experiment/data/diffractionslices <HDF5 group \"/4DSTEM_experiment/data/diffractionslices\" (0 members)>\n",
      "4DSTEM_experiment/data/pointlistarrays <HDF5 group \"/4DSTEM_experiment/data/pointlistarrays\" (0 members)>\n",
      "4DSTEM_experiment/data/pointlists <HDF5 group \"/4DSTEM_experiment/data/pointlists\" (0 members)>\n",
      "4DSTEM_experiment/data/realslices <HDF5 group \"/4DSTEM_experiment/data/realslices\" (0 members)>\n"
     ]
    }
   ],
   "source": [
    "with  h5py.File(path/\"carbon_nanotube_data.h5\",'r') as f: \n",
    "\n",
    "    f.visititems(hdf5_printer)\n"
   ]
  },
  {
   "cell_type": "markdown",
   "metadata": {},
   "source": [
    "Then we can extract the data we need and load with py4DSTEM "
   ]
  },
  {
   "cell_type": "code",
   "execution_count": 31,
   "metadata": {},
   "outputs": [],
   "source": [
    "with  h5py.File(path/\"carbon_nanotube_data.h5\",'r') as f:\n",
    "    data = f['4DSTEM_experiment']['data']['datacubes']['datacube_0']['datacube'][...]"
   ]
  },
  {
   "cell_type": "code",
   "execution_count": 32,
   "metadata": {},
   "outputs": [],
   "source": [
    "# The next step is to import this experiment as a py4DSTEM datacube.\n",
    "# note that we are accessing a \"dataset\" inside various groups (groups are the HDF5 equivalent of directories)\n",
    "dataset = py4DSTEM.io.DataCube(data=data)"
   ]
  },
  {
   "cell_type": "code",
   "execution_count": 33,
   "metadata": {},
   "outputs": [
    {
     "data": {
      "image/png": "[encoded data removed]",
      "text/plain": [
       "<Figure size 576x576 with 1 Axes>"
      ]
     },
     "metadata": {
      "needs_background": "light"
     },
     "output_type": "display_data"
    }
   ],
   "source": [
    "# Let's examine the mean diffraction space image, by taking the average over all probe positions:\n",
    "diffraction_pattern_mean = np.mean(dataset.data, axis=(0,1))\n",
    "py4DSTEM.visualize.show(diffraction_pattern_mean)"
   ]
  },
  {
   "cell_type": "markdown",
   "metadata": {},
   "source": [
    "We can explore the fields like we did with our fake dataset "
   ]
  },
  {
   "cell_type": "markdown",
   "metadata": {},
   "source": [
    "We'll remove the folder "
   ]
  },
  {
   "cell_type": "code",
   "execution_count": 34,
   "metadata": {},
   "outputs": [],
   "source": [
    "shutil.rmtree(path)"
   ]
  },
  {
   "cell_type": "code",
   "execution_count": null,
   "metadata": {},
   "outputs": [],
   "source": []
  }
 ],
 "metadata": {
  "kernelspec": {
   "display_name": "py4dstem_dev",
   "language": "python",
   "name": "py4dstem_dev"
  },
  "language_info": {
   "codemirror_mode": {
    "name": "ipython",
    "version": 3
   },
   "file_extension": ".py",
   "mimetype": "text/x-python",
   "name": "python",
   "nbconvert_exporter": "python",
   "pygments_lexer": "ipython3",
   "version": "3.7.10"
  }
 },
 "nbformat": 4,
 "nbformat_minor": 4
}
