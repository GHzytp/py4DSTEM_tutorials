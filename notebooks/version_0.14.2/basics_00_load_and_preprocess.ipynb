{
 "cells": [
  {
   "cell_type": "markdown",
   "metadata": {
    "id": "dWtjuR0PzrAJ"
   },
   "source": [
    "# Intro to 4D-STEM data: Load and Basic Preprocessing\n",
    "\n",
    "Here we:\n",
    "- load a 4D datacube from a .dm4 file\n",
    "- examine the datacube and its calibrations\n",
    "- filter hot pixels\n",
    "- bin in diffraction space\n",
    "- crop in real space\n",
    "- save\n",
    "\n",
    "\n",
    "\n",
    "### Acknowledgements\n",
    "\n",
    "This tutorial was created by the py4DSTEM instructor team:\n",
    "- Ben Savitzky (bhsavitzky@lbl.gov)\n",
    "- Steve Zeltmann (steven.zeltmann@berkeley.edu)\n",
    "- Stephanie Ribet (sribet@u.northwestern.edu)\n",
    "- Alex Rakowski (arakowski@lbl.gov)\n",
    "- Colin Ophus (clophus@lbl.gov)\n",
    "\n",
    "\n",
    "Updated 07/10/2023"
   ]
  },
  {
   "cell_type": "markdown",
   "metadata": {
    "id": "wyDwnLNsz-pO"
   },
   "source": [
    "## Set up the environment"
   ]
  },
  {
   "cell_type": "code",
   "execution_count": 1,
   "metadata": {},
   "outputs": [
    {
     "data": {
      "text/plain": [
       "'0.14.2'"
      ]
     },
     "execution_count": 1,
     "metadata": {},
     "output_type": "execute_result"
    }
   ],
   "source": [
    "import py4DSTEM\n",
    "\n",
    "py4DSTEM.__version__"
   ]
  },
  {
   "cell_type": "markdown",
   "metadata": {},
   "source": [
    "---\n",
    "# Download the tutorial data <a class=\"anchor\" id=\"part_00\"></a>\n",
    "\n",
    "You can download the tutorial dataset here: (200 megabytes)\n",
    "* [Small .dm4 vacuum probe file](https://drive.google.com/file/d/1QTcSKzZjHZd1fDimSI_q9_WsAU25NIXe/view?usp=drive_link)"
   ]
  },
  {
   "cell_type": "markdown",
   "metadata": {
    "id": "bZfLN2Ra0jxG"
   },
   "source": [
    "# Load data"
   ]
  },
  {
   "cell_type": "code",
   "execution_count": 2,
   "metadata": {
    "colab": {
     "base_uri": "https://localhost:8080/"
    },
    "executionInfo": {
     "elapsed": 2683,
     "status": "ok",
     "timestamp": 1646781495318,
     "user": {
      "displayName": "Benjamin Savitzky",
      "photoUrl": "https://lh3.googleusercontent.com/a-/AOh14GhuUyU1rnhC9SeJ8DzVa-96cw06-D15BrLxJ1BR=s64",
      "userId": "01089621796660637532"
     },
     "user_tz": 300
    },
    "id": "SoU8kLbUnyf0",
    "outputId": "ab08c1a4-0d19-4d06-e6af-6dcd857f221e"
   },
   "outputs": [],
   "source": [
    "# Set the filepath - please change the string below to the location of the data on your system\n",
    "\n",
    "filepath_data = \"/Users/Ben/work/data/py4DSTEM_sampleData/vacuum_probe_20x20.dm4\""
   ]
  },
  {
   "cell_type": "code",
   "execution_count": 3,
   "metadata": {
    "executionInfo": {
     "elapsed": 2639,
     "status": "ok",
     "timestamp": 1646781497953,
     "user": {
      "displayName": "Benjamin Savitzky",
      "photoUrl": "https://lh3.googleusercontent.com/a-/AOh14GhuUyU1rnhC9SeJ8DzVa-96cw06-D15BrLxJ1BR=s64",
      "userId": "01089621796660637532"
     },
     "user_tz": 300
    },
    "id": "Eur6TtF5qcZI"
   },
   "outputs": [],
   "source": [
    "# Load a datacube from a .dm4 file\n",
    "\n",
    "# py4DSTEM uses `import_file` for loading file formats other than it's own,\n",
    "# and uses `read` for native files, i.e. files that py4DSTEM wrote\n",
    "\n",
    "datacube = py4DSTEM.import_file(\n",
    "    filepath_data,\n",
    ")"
   ]
  },
  {
   "cell_type": "code",
   "execution_count": 4,
   "metadata": {},
   "outputs": [
    {
     "data": {
      "text/plain": [
       "DataCube( A 4-dimensional array of shape (20, 20, 512, 512) called 'dm_dataset',\n",
       "          with dimensions:\n",
       "\n",
       "          Rx = [0.0,1.0,...] pixels\n",
       "          Ry = [0.0,1.0,...] pixels\n",
       "          Qx = [0.0,0.0046968888491392136,...] A^-1\n",
       "          Qy = [0.0,0.0046968888491392136,...] A^-1\n",
       ")"
      ]
     },
     "execution_count": 4,
     "metadata": {},
     "output_type": "execute_result"
    }
   ],
   "source": [
    "# Let's look at datacube by just passing it directly to the Python interpreter and seeing\n",
    "# what it spits out\n",
    "\n",
    "datacube"
   ]
  },
  {
   "cell_type": "code",
   "execution_count": 5,
   "metadata": {},
   "outputs": [],
   "source": [
    "# This tells us that our datacube is a 4D array with shape (20,20,512,512), and that:\n",
    "\n",
    "\n",
    "# 'Real space', or the plane of the sample, has a shape of (20,20), meaning the electron beam\n",
    "# was rastered over a 20x20 grid, and \n",
    "\n",
    "# 'Diffraction space' or reciprocal space, or the plane of the detector, has a shape of (512,512),\n",
    "# meaning the scattered electron intensities are represented in a 512x512 grid.\n",
    "\n",
    "\n",
    "# In py4DSTEM we use 'R' for real space and 'Q' for diffraction space.\n",
    "# Another common convention is to use 'K' for diffraction space."
   ]
  },
  {
   "cell_type": "code",
   "execution_count": 6,
   "metadata": {},
   "outputs": [
    {
     "name": "stderr",
     "output_type": "stream",
     "text": [
      "100%|█████████████████████████████████████████████| 400/400 [00:00<00:00, 1394.05it/s]\n"
     ]
    },
    {
     "data": {
      "text/plain": [
       "DataCube( A 4-dimensional array of shape (20, 20, 128, 128) called 'dm_dataset',\n",
       "          with dimensions:\n",
       "\n",
       "          Rx = [0.0,1.0,...] pixels\n",
       "          Ry = [0.0,1.0,...] pixels\n",
       "          Qx = [0.0,0.018787555396556854,...] A^-1\n",
       "          Qy = [0.0,0.018787555396556854,...] A^-1\n",
       ")"
      ]
     },
     "execution_count": 6,
     "metadata": {},
     "output_type": "execute_result"
    }
   ],
   "source": [
    "# If we have a large dataset that we know we'll want to bin - or even a dataset that's\n",
    "# too large to fit in our computer's memory but that *would* fit, if only it were a little\n",
    "# bit smaller - we can bin the data in diffraction space as it's loaded.  Note that this\n",
    "# is currently only supported for .dm files.  If you'd like bin-on-load functionality for\n",
    "# another format, let us know by filing an issue!\n",
    "\n",
    "# Notice that the diffraction pixel size is now 4 times larger than in the unbinned data above\n",
    "\n",
    "datacube_binned = py4DSTEM.import_file(\n",
    "    filepath_data,\n",
    "    binfactor = 4\n",
    ")\n",
    "\n",
    "datacube_binned"
   ]
  },
  {
   "cell_type": "code",
   "execution_count": 7,
   "metadata": {},
   "outputs": [],
   "source": [
    "# We're going to work with `datacube` from here, so let's delete `datacube_binned`\n",
    "\n",
    "del(datacube_binned)"
   ]
  },
  {
   "cell_type": "code",
   "execution_count": 8,
   "metadata": {},
   "outputs": [
    {
     "data": {
      "text/plain": [
       "array([[[[ 0,  0,  0, ...,  0,  0,  2],\n",
       "         [ 0,  4,  0, ...,  0,  0,  8],\n",
       "         [ 0,  0,  0, ...,  8,  1,  3],\n",
       "         ...,\n",
       "         [ 0, 22,  0, ..., 10, 13,  2],\n",
       "         [ 2,  6,  6, ...,  1,  0,  5],\n",
       "         [ 0,  0,  0, ...,  4,  3,  0]],\n",
       "\n",
       "        [[ 0,  0,  0, ...,  0,  6,  0],\n",
       "         [ 0,  3,  0, ..., 11,  0,  6],\n",
       "         [ 0,  5,  0, ...,  3,  0,  7],\n",
       "         ...,\n",
       "         [ 0,  1,  0, ...,  0, 14,  0],\n",
       "         [ 4,  0,  0, ...,  1,  0,  0],\n",
       "         [ 0,  0,  0, ..., 10,  0,  0]],\n",
       "\n",
       "        [[ 2,  0,  0, ...,  0,  0,  0],\n",
       "         [ 0,  5,  5, ...,  6,  0,  0],\n",
       "         [ 0,  5,  0, ...,  4,  8,  0],\n",
       "         ...,\n",
       "         [ 0,  3,  1, ...,  0,  5,  0],\n",
       "         [ 0, 10,  0, ...,  0,  0,  0],\n",
       "         [ 0,  8,  1, ...,  5,  2,  0]],\n",
       "\n",
       "        ...,\n",
       "\n",
       "        [[ 0,  0,  8, ...,  0,  0,  0],\n",
       "         [ 5,  6,  0, ...,  8,  0, 15],\n",
       "         [ 0,  3,  0, ..., 12,  5,  0],\n",
       "         ...,\n",
       "         [ 0,  6,  2, ...,  0,  5,  0],\n",
       "         [ 0,  0,  0, ...,  0,  4,  3],\n",
       "         [ 6,  9,  2, ...,  0,  1,  0]],\n",
       "\n",
       "        [[ 0,  0,  1, ...,  0,  1,  0],\n",
       "         [ 0,  0,  0, ...,  1,  0,  3],\n",
       "         [ 0,  0,  2, ...,  4,  4,  0],\n",
       "         ...,\n",
       "         [ 5,  5,  0, ...,  0,  0,  8],\n",
       "         [ 0,  0,  0, ...,  0,  0,  0],\n",
       "         [ 0,  2,  3, ...,  0,  0,  0]],\n",
       "\n",
       "        [[ 0,  0,  0, ...,  4, 14,  4],\n",
       "         [ 0,  0, 14, ...,  1,  1,  8],\n",
       "         [ 0, 13,  0, ..., 18,  0,  0],\n",
       "         ...,\n",
       "         [ 0,  6,  0, ...,  0,  0,  4],\n",
       "         [ 0,  0,  0, ...,  0,  0,  0],\n",
       "         [ 0,  0,  0, ...,  0,  0,  0]]],\n",
       "\n",
       "\n",
       "       [[[ 2,  0,  0, ...,  0,  3,  0],\n",
       "         [ 0,  7,  7, ...,  0,  2,  0],\n",
       "         [ 0,  2,  0, ...,  0,  3,  0],\n",
       "         ...,\n",
       "         [ 2, 10,  0, ...,  0,  0,  3],\n",
       "         [ 0,  0,  0, ...,  0,  0,  0],\n",
       "         [ 0,  0, 14, ...,  0,  5,  0]],\n",
       "\n",
       "        [[ 0,  0,  0, ...,  3,  0,  0],\n",
       "         [11,  0,  3, ...,  7,  0,  0],\n",
       "         [ 1,  0,  0, ...,  2,  0,  1],\n",
       "         ...,\n",
       "         [ 0,  7,  5, ...,  0, 11,  2],\n",
       "         [ 0,  1,  2, ...,  3,  0,  1],\n",
       "         [ 0,  8,  0, ...,  0,  0,  0]],\n",
       "\n",
       "        [[ 0,  0,  0, ...,  0,  0,  0],\n",
       "         [ 0,  4,  0, ...,  0,  0,  0],\n",
       "         [ 0,  0,  0, ...,  1, 11,  0],\n",
       "         ...,\n",
       "         [ 0,  0,  0, ...,  0, 13,  0],\n",
       "         [ 3,  0,  3, ...,  0,  3,  0],\n",
       "         [ 2,  5,  0, ...,  0,  0,  0]],\n",
       "\n",
       "        ...,\n",
       "\n",
       "        [[ 0,  0,  0, ...,  0,  0,  6],\n",
       "         [ 0,  1,  5, ...,  0,  0,  5],\n",
       "         [ 1, 12,  0, ...,  6,  0,  5],\n",
       "         ...,\n",
       "         [ 0,  0,  0, ...,  0,  5,  4],\n",
       "         [ 0,  0,  0, ...,  0,  7,  6],\n",
       "         [ 9,  0,  2, ...,  4,  3,  0]],\n",
       "\n",
       "        [[ 4,  1,  0, ...,  0,  0,  0],\n",
       "         [ 0,  5,  6, ...,  0,  0,  0],\n",
       "         [ 0,  0,  0, ...,  1,  2,  2],\n",
       "         ...,\n",
       "         [ 0,  0,  0, ...,  8,  2,  4],\n",
       "         [ 0,  0,  0, ...,  0,  0,  5],\n",
       "         [ 0,  0,  8, ...,  0,  8,  8]],\n",
       "\n",
       "        [[ 4, 11,  0, ...,  0,  5,  0],\n",
       "         [ 0,  0, 11, ...,  5,  5,  0],\n",
       "         [ 0,  0,  0, ...,  1,  9,  4],\n",
       "         ...,\n",
       "         [ 0,  0,  0, ...,  2,  8,  0],\n",
       "         [ 0,  0,  0, ...,  1,  0,  0],\n",
       "         [ 7,  7,  4, ...,  5,  3,  0]]],\n",
       "\n",
       "\n",
       "       [[[ 0, 10,  0, ...,  0,  8,  9],\n",
       "         [ 0,  0,  0, ...,  9,  0,  0],\n",
       "         [ 0,  0,  0, ...,  2, 11,  2],\n",
       "         ...,\n",
       "         [ 0,  4, 12, ...,  0,  0,  3],\n",
       "         [ 0,  0,  0, ..., 13,  0,  0],\n",
       "         [ 0,  2,  2, ...,  0, 13,  0]],\n",
       "\n",
       "        [[ 0,  0,  1, ..., 10,  0,  5],\n",
       "         [11,  6,  1, ...,  0,  0,  9],\n",
       "         [ 2,  0,  0, ...,  0,  0,  0],\n",
       "         ...,\n",
       "         [ 6, 17,  5, ...,  9, 14,  5],\n",
       "         [ 6,  0,  0, ...,  0,  7,  2],\n",
       "         [ 0,  0,  5, ...,  0,  6,  0]],\n",
       "\n",
       "        [[ 0,  0,  0, ...,  0,  3,  0],\n",
       "         [ 0,  8,  9, ...,  2,  0,  2],\n",
       "         [11,  0,  0, ...,  2, 13,  0],\n",
       "         ...,\n",
       "         [ 0, 10,  0, ...,  0,  0,  0],\n",
       "         [ 0,  2,  1, ...,  1,  7,  0],\n",
       "         [ 1,  0,  4, ...,  0, 12,  0]],\n",
       "\n",
       "        ...,\n",
       "\n",
       "        [[ 0,  0, 12, ...,  0,  0,  6],\n",
       "         [ 5,  6,  2, ...,  0,  0,  0],\n",
       "         [ 1,  0,  0, ...,  0,  5,  5],\n",
       "         ...,\n",
       "         [ 4,  0,  0, ...,  6,  7,  3],\n",
       "         [ 0,  0,  0, ...,  1,  4,  0],\n",
       "         [ 5,  0, 14, ...,  7,  5,  0]],\n",
       "\n",
       "        [[ 0,  0,  1, ...,  0,  0,  0],\n",
       "         [ 0,  1,  8, ..., 12,  4,  5],\n",
       "         [ 0,  0,  0, ...,  0,  2,  0],\n",
       "         ...,\n",
       "         [ 0,  5,  0, ...,  7,  0,  3],\n",
       "         [ 1,  0,  0, ...,  0,  0,  0],\n",
       "         [ 6,  2,  7, ..., 13,  0,  3]],\n",
       "\n",
       "        [[12,  0,  0, ...,  0,  2, 10],\n",
       "         [10,  0,  0, ...,  3,  0,  1],\n",
       "         [ 8,  2,  5, ..., 15,  2,  6],\n",
       "         ...,\n",
       "         [ 0,  6,  4, ...,  7,  0,  8],\n",
       "         [ 0,  0,  0, ...,  0, 15,  0],\n",
       "         [ 8,  2,  0, ...,  0,  3,  0]]],\n",
       "\n",
       "\n",
       "       ...,\n",
       "\n",
       "\n",
       "       [[[ 0,  2,  0, ...,  0,  0,  0],\n",
       "         [ 0,  0,  5, ...,  8,  0,  6],\n",
       "         [ 0,  0,  0, ...,  0,  0,  6],\n",
       "         ...,\n",
       "         [ 1,  7,  4, ...,  0,  5,  0],\n",
       "         [ 0,  0,  3, ...,  0,  0,  0],\n",
       "         [ 0,  0,  0, ...,  0,  7,  2]],\n",
       "\n",
       "        [[ 0, 13,  0, ...,  2,  8,  0],\n",
       "         [ 0,  0,  2, ...,  0,  0,  7],\n",
       "         [ 0,  0,  0, ...,  3,  3,  0],\n",
       "         ...,\n",
       "         [ 1,  2, 14, ...,  0,  0,  0],\n",
       "         [ 0,  0,  0, ...,  0, 10,  0],\n",
       "         [ 2,  0,  3, ...,  0,  0,  0]],\n",
       "\n",
       "        [[ 0,  3,  0, ...,  0,  0,  0],\n",
       "         [11, 11,  0, ...,  0,  0,  6],\n",
       "         [ 2,  4,  1, ...,  0,  0,  3],\n",
       "         ...,\n",
       "         [ 0, 17, 12, ...,  9,  1,  4],\n",
       "         [ 0,  0,  0, ..., 11,  0,  0],\n",
       "         [ 0,  4,  0, ..., 15,  4,  6]],\n",
       "\n",
       "        ...,\n",
       "\n",
       "        [[ 0,  3,  0, ...,  0,  6,  0],\n",
       "         [ 0,  3,  0, ...,  3,  0,  0],\n",
       "         [ 0,  0,  0, ...,  0,  5,  0],\n",
       "         ...,\n",
       "         [ 0,  0,  0, ...,  0,  0,  0],\n",
       "         [ 0,  2,  0, ...,  2,  0,  7],\n",
       "         [ 0,  0,  4, ...,  2,  4,  0]],\n",
       "\n",
       "        [[ 8,  0,  0, ...,  1,  2,  0],\n",
       "         [ 0, 17,  0, ...,  0,  0, 23],\n",
       "         [ 0,  0,  3, ..., 11,  9,  0],\n",
       "         ...,\n",
       "         [ 0,  0,  0, ...,  0,  0,  8],\n",
       "         [ 0,  0,  0, ...,  0,  0,  5],\n",
       "         [ 0,  2,  2, ...,  0, 10,  0]],\n",
       "\n",
       "        [[ 5,  0,  0, ...,  0, 10,  5],\n",
       "         [ 0,  0,  5, ...,  0,  0,  1],\n",
       "         [ 0,  0,  3, ...,  0,  2,  0],\n",
       "         ...,\n",
       "         [ 0,  5,  8, ...,  9,  0,  4],\n",
       "         [ 0,  4,  0, ...,  0,  0,  5],\n",
       "         [ 0,  0,  3, ...,  0,  2,  0]]],\n",
       "\n",
       "\n",
       "       [[[ 1,  0,  0, ...,  0,  6,  0],\n",
       "         [ 0,  5,  4, ...,  3,  0,  0],\n",
       "         [ 0,  0,  0, ...,  0,  0,  0],\n",
       "         ...,\n",
       "         [13,  0,  0, ...,  0,  9,  0],\n",
       "         [ 0,  0,  0, ...,  0,  0,  0],\n",
       "         [11,  0,  9, ...,  5,  0,  0]],\n",
       "\n",
       "        [[ 2,  0,  1, ...,  0,  0,  0],\n",
       "         [ 0,  0,  0, ...,  1,  0,  6],\n",
       "         [ 0,  2,  4, ...,  6,  4,  0],\n",
       "         ...,\n",
       "         [ 0,  0,  1, ...,  8,  4,  4],\n",
       "         [ 0,  3,  0, ...,  0,  0,  4],\n",
       "         [ 3,  1,  3, ...,  4,  4,  0]],\n",
       "\n",
       "        [[ 0,  3,  0, ...,  0,  0,  0],\n",
       "         [ 3,  0,  0, ...,  5,  0,  0],\n",
       "         [ 0,  0,  5, ...,  0, 14,  0],\n",
       "         ...,\n",
       "         [ 2,  8, 11, ...,  0,  0,  8],\n",
       "         [ 7,  1,  0, ...,  3,  0,  0],\n",
       "         [ 0,  4,  0, ..., 13,  0,  0]],\n",
       "\n",
       "        ...,\n",
       "\n",
       "        [[ 0,  0,  2, ...,  6,  2,  0],\n",
       "         [ 0,  4,  1, ...,  0,  4,  6],\n",
       "         [ 0,  0,  0, ...,  8,  0,  6],\n",
       "         ...,\n",
       "         [ 0,  0,  0, ...,  0,  2,  0],\n",
       "         [ 7,  0,  5, ...,  0,  0,  0],\n",
       "         [ 0,  0,  0, ...,  0,  0,  0]],\n",
       "\n",
       "        [[11,  0,  0, ...,  0,  2,  0],\n",
       "         [ 8,  0,  0, ...,  5,  1, 12],\n",
       "         [ 0,  0,  1, ...,  0,  0,  0],\n",
       "         ...,\n",
       "         [ 0,  7,  0, ...,  0,  4,  0],\n",
       "         [ 0,  4,  0, ...,  0,  0,  1],\n",
       "         [ 0,  0,  2, ...,  0, 13,  1]],\n",
       "\n",
       "        [[ 2,  0,  0, ...,  0,  1,  2],\n",
       "         [ 0,  0,  0, ...,  3,  0,  0],\n",
       "         [ 3,  1,  0, ...,  5,  4,  0],\n",
       "         ...,\n",
       "         [ 7,  4,  4, ..., 12, 14,  0],\n",
       "         [ 0,  6,  0, ...,  5,  0,  0],\n",
       "         [ 0,  0,  0, ...,  3,  2,  8]]],\n",
       "\n",
       "\n",
       "       [[[10,  0,  6, ...,  0,  0,  0],\n",
       "         [ 0,  6,  7, ...,  2,  0,  0],\n",
       "         [ 0,  7,  0, ...,  3,  5,  3],\n",
       "         ...,\n",
       "         [ 1, 14,  3, ..., 11,  0, 18],\n",
       "         [ 2,  0,  2, ...,  0,  0,  0],\n",
       "         [ 7,  0,  4, ...,  0,  6,  1]],\n",
       "\n",
       "        [[18, 12,  2, ...,  0,  5,  0],\n",
       "         [10,  0,  7, ...,  1,  0,  4],\n",
       "         [ 0,  0,  0, ...,  0,  0,  1],\n",
       "         ...,\n",
       "         [ 0,  3,  0, ...,  0,  5,  4],\n",
       "         [ 0,  0,  8, ...,  0,  6,  0],\n",
       "         [ 3,  4,  4, ...,  0,  0,  2]],\n",
       "\n",
       "        [[ 4,  0,  8, ...,  0,  5,  0],\n",
       "         [ 9,  6,  2, ...,  0,  6,  8],\n",
       "         [ 0,  0,  0, ...,  4,  4,  6],\n",
       "         ...,\n",
       "         [ 0,  0,  5, ...,  0, 14,  1],\n",
       "         [ 4,  7,  0, ...,  0,  4,  5],\n",
       "         [ 0, 12,  0, ...,  0, 12,  3]],\n",
       "\n",
       "        ...,\n",
       "\n",
       "        [[ 7,  0,  6, ...,  0, 13, 13],\n",
       "         [ 2,  0,  0, ...,  1,  0,  0],\n",
       "         [11,  0,  0, ...,  0,  0,  0],\n",
       "         ...,\n",
       "         [ 0,  0,  0, ...,  0,  0,  0],\n",
       "         [ 0,  0,  0, ...,  0,  0,  5],\n",
       "         [ 4,  0,  3, ...,  2,  6,  8]],\n",
       "\n",
       "        [[ 0,  0,  0, ...,  0,  1,  0],\n",
       "         [ 0,  0,  0, ...,  5,  0,  4],\n",
       "         [ 0,  0,  0, ...,  2, 13,  4],\n",
       "         ...,\n",
       "         [ 0,  0,  5, ...,  0, 14,  0],\n",
       "         [ 0,  4,  0, ...,  0,  7,  1],\n",
       "         [ 0,  0,  1, ...,  8,  0,  0]],\n",
       "\n",
       "        [[ 6,  0,  0, ...,  0,  2,  0],\n",
       "         [ 1,  3,  0, ...,  1,  0,  5],\n",
       "         [ 4,  0,  0, ...,  0,  0,  5],\n",
       "         ...,\n",
       "         [ 0,  7,  0, ...,  5, 13,  7],\n",
       "         [ 0,  1,  0, ...,  0,  2,  0],\n",
       "         [ 9,  0,  0, ...,  3,  1,  0]]]], dtype=uint16)"
      ]
     },
     "execution_count": 8,
     "metadata": {},
     "output_type": "execute_result"
    }
   ],
   "source": [
    "# The data itself lives here\n",
    "\n",
    "datacube.data"
   ]
  },
  {
   "cell_type": "code",
   "execution_count": 9,
   "metadata": {},
   "outputs": [
    {
     "name": "stdout",
     "output_type": "stream",
     "text": [
      "(20, 20, 512, 512)\n",
      "(20, 20, 512, 512)\n",
      "(20, 20)\n",
      "(512, 512)\n"
     ]
    }
   ],
   "source": [
    "# A few more shape properties -\n",
    "\n",
    "print(datacube.data.shape)\n",
    "print(datacube.shape)\n",
    "print(datacube.Rshape)\n",
    "print(datacube.Qshape)"
   ]
  },
  {
   "cell_type": "code",
   "execution_count": 10,
   "metadata": {
    "scrolled": false
   },
   "outputs": [
    {
     "name": "stdout",
     "output_type": "stream",
     "text": [
      "The first dimension:\n",
      "dimension name: Rx\n",
      "dimension units: pixels\n",
      "[ 0.  1.  2.  3.  4.  5.  6.  7.  8.  9. 10. 11. 12. 13. 14. 15. 16. 17.\n",
      " 18. 19.]\n",
      "\n",
      "The third dimension:\n",
      "dimension name: Qx\n",
      "dimension units: A^-1\n",
      "[0.         0.00469689 0.00939378 0.01409067 0.01878756 0.02348444\n",
      " 0.02818133 0.03287822 0.03757511 0.042272  ]\n",
      "\n",
      "The diffraction space pixels are each 0.0047 A^-1\n",
      "The real space pixels are each 1.0000 pixels\n"
     ]
    }
   ],
   "source": [
    "# Vectors which calibrate each dimension of the dataset are included as a\n",
    "# part of the datacube, using any calibrations retrieved from the file\n",
    "\n",
    "# dimension vectors -\n",
    "print('The first dimension:')\n",
    "print(f'dimension name: {datacube.dim_names[0]}')\n",
    "print(f'dimension units: {datacube.dim_units[0]}')\n",
    "print(datacube.dims[0])\n",
    "print()\n",
    "print('The third dimension:')\n",
    "print(f'dimension name: {datacube.dim_names[2]}')\n",
    "print(f'dimension units: {datacube.dim_units[2]}')\n",
    "print(datacube.dims[2][:10])  # note the `[:10]` - we're only displaying the first 10 entries\n",
    "\n",
    "print()\n",
    "\n",
    "# pixel sizes -\n",
    "qpix = datacube.calibration.get_Q_pixel_size()\n",
    "qpixunit = datacube.calibration.get_Q_pixel_units()\n",
    "print(f\"The diffraction space pixels are each {qpix:.4f} {qpixunit}\")\n",
    "rpix = datacube.calibration.get_R_pixel_size()\n",
    "rpixunit = datacube.calibration.get_R_pixel_units()\n",
    "print(f\"The real space pixels are each {rpix:.4f} {rpixunit}\")"
   ]
  },
  {
   "cell_type": "code",
   "execution_count": 11,
   "metadata": {},
   "outputs": [
    {
     "data": {
      "text/plain": [
       "Calibration( A Metadata instance called 'calibration', containing the following fields:\n",
       "\n",
       "             Q_pixel_size:    0.0046968888491392136\n",
       "             R_pixel_size:    1.0\n",
       "             Q_pixel_units:   A^-1\n",
       "             R_pixel_units:   pixels\n",
       ")"
      ]
     },
     "execution_count": 11,
     "metadata": {},
     "output_type": "execute_result"
    }
   ],
   "source": [
    "# A complete list of calibrations live here\n",
    "# The vectors above are derived from these values\n",
    "\n",
    "datacube.calibration"
   ]
  },
  {
   "cell_type": "code",
   "execution_count": 12,
   "metadata": {},
   "outputs": [
    {
     "data": {
      "text/plain": [
       "Calibration( A Metadata instance called 'calibration', containing the following fields:\n",
       "\n",
       "             Q_pixel_size:    0.0046968888491392136\n",
       "             R_pixel_size:    5\n",
       "             Q_pixel_units:   A^-1\n",
       "             R_pixel_units:   nm\n",
       ")"
      ]
     },
     "execution_count": 12,
     "metadata": {},
     "output_type": "execute_result"
    }
   ],
   "source": [
    "# Right now the real space pixel size is listed as 1 pixel, telling us that this\n",
    "# information was not available or was not scraped from the .dm4 file.\n",
    "\n",
    "# Let's say we know that the real space pixel size between beam positions was 5 nanometers.\n",
    "# We can set a new value with:\n",
    "\n",
    "datacube.calibration.set_R_pixel_size(5)\n",
    "datacube.calibration.set_R_pixel_units('nm')\n",
    "\n",
    "datacube.calibration"
   ]
  },
  {
   "cell_type": "code",
   "execution_count": 13,
   "metadata": {},
   "outputs": [
    {
     "name": "stdout",
     "output_type": "stream",
     "text": [
      "The first dimension:\n",
      "dimension name: Rx\n",
      "dimension units: nm\n",
      "[ 0  5 10 15 20 25 30 35 40 45 50 55 60 65 70 75 80 85 90 95]\n",
      "\n",
      "The real space pixels are each 5.0000 nm\n"
     ]
    }
   ],
   "source": [
    "# The appropriate values are automatically updated in the datacube:\n",
    "\n",
    "# dimension vectors\n",
    "print('The first dimension:')\n",
    "print(f'dimension name: {datacube.dim_names[0]}')\n",
    "print(f'dimension units: {datacube.dim_units[0]}')\n",
    "print(datacube.dims[0])\n",
    "print()\n",
    "\n",
    "# pixel sizes\n",
    "rpix = datacube.calibration.get_R_pixel_size()\n",
    "rpixunit = datacube.calibration.get_R_pixel_units()\n",
    "print(f\"The real space pixels are each {rpix:.4f} {rpixunit}\")"
   ]
  },
  {
   "cell_type": "markdown",
   "metadata": {},
   "source": [
    "# Filter hot pixels"
   ]
  },
  {
   "cell_type": "code",
   "execution_count": 14,
   "metadata": {},
   "outputs": [
    {
     "name": "stderr",
     "output_type": "stream",
     "text": [
      "Cleaning pixels: 100%|███████████████████████| 400/400 [00:00<00:00, 6904.89 images/s]\n"
     ]
    },
    {
     "data": {
      "text/plain": [
       "DataCube( A 4-dimensional array of shape (20, 20, 512, 512) called 'dm_dataset',\n",
       "          with dimensions:\n",
       "\n",
       "          Rx = [0,5,...] nm\n",
       "          Ry = [0,5,...] nm\n",
       "          Qx = [0.0,0.0046968888491392136,...] A^-1\n",
       "          Qy = [0.0,0.0046968888491392136,...] A^-1\n",
       ")"
      ]
     },
     "execution_count": 14,
     "metadata": {},
     "output_type": "execute_result"
    }
   ],
   "source": [
    "# This is a simple function for finding and removing hot pixels, i.e. too-bright pixels\n",
    "# whose intensity comes from an artifact like a stray x-ray or detector error rather than\n",
    "# electron scattering.\n",
    "\n",
    "# Pixels in the mean diffraction image which are `thresh` times brighter than any other\n",
    "# pixel in their local neighborhood, and replaces those pixels in each diffraction\n",
    "# pattern by their local median.\n",
    "\n",
    "datacube.filter_hot_pixels(\n",
    "    thresh = 8\n",
    ")"
   ]
  },
  {
   "cell_type": "markdown",
   "metadata": {},
   "source": [
    "# Bin in diffraction space"
   ]
  },
  {
   "cell_type": "code",
   "execution_count": 15,
   "metadata": {},
   "outputs": [
    {
     "data": {
      "text/plain": [
       "DataCube( A 4-dimensional array of shape (20, 20, 128, 128) called 'dm_dataset',\n",
       "          with dimensions:\n",
       "\n",
       "          Rx = [0,5,...] nm\n",
       "          Ry = [0,5,...] nm\n",
       "          Qx = [0.0,0.018787555396556854,...] A^-1\n",
       "          Qy = [0.0,0.018787555396556854,...] A^-1\n",
       ")"
      ]
     },
     "execution_count": 15,
     "metadata": {},
     "output_type": "execute_result"
    }
   ],
   "source": [
    "# Bin the data in diffraction space\n",
    "\n",
    "# Loading an unbinned datacube and then binning later may be preferable to binning on-load\n",
    "# in some cases, e.g. if preprocessing using unbinned data is desired.\n",
    "\n",
    "datacube.bin_Q(4)"
   ]
  },
  {
   "cell_type": "code",
   "execution_count": 16,
   "metadata": {},
   "outputs": [
    {
     "name": "stdout",
     "output_type": "stream",
     "text": [
      "The first dimension:\n",
      "dimension name: Rx\n",
      "dimension units: nm\n",
      "[ 0  5 10 15 20 25 30 35 40 45 50 55 60 65 70 75 80 85 90 95]\n",
      "\n",
      "The third dimension:\n",
      "dimension name: Qx\n",
      "dimension units: A^-1\n",
      "[0.         0.01878756 0.03757511 0.05636267 0.07515022 0.09393778\n",
      " 0.11272533 0.13151289 0.15030044 0.169088  ]\n",
      "\n",
      "The diffraction space pixels are each 0.0188 A^-1\n",
      "The real space pixels are each 5.0000 nm\n"
     ]
    }
   ],
   "source": [
    "# Examine the updated calibrations and dimension vectors\n",
    "\n",
    "# dimension vectors -\n",
    "print('The first dimension:')\n",
    "print(f'dimension name: {datacube.dim_names[0]}')\n",
    "print(f'dimension units: {datacube.dim_units[0]}')\n",
    "print(datacube.dims[0])\n",
    "print()\n",
    "print('The third dimension:')\n",
    "print(f'dimension name: {datacube.dim_names[2]}')\n",
    "print(f'dimension units: {datacube.dim_units[2]}')\n",
    "print(datacube.dims[2][:10])  # note the `[:10]` - we're only displaying the first 10 entries\n",
    "\n",
    "print()\n",
    "\n",
    "# pixel sizes -\n",
    "qpix = datacube.calibration.get_Q_pixel_size()\n",
    "qpixunit = datacube.calibration.get_Q_pixel_units()\n",
    "print(f\"The diffraction space pixels are each {qpix:.4f} {qpixunit}\")\n",
    "rpix = datacube.calibration.get_R_pixel_size()\n",
    "rpixunit = datacube.calibration.get_R_pixel_units()\n",
    "print(f\"The real space pixels are each {rpix:.4f} {rpixunit}\")"
   ]
  },
  {
   "cell_type": "markdown",
   "metadata": {},
   "source": [
    "# Write and read"
   ]
  },
  {
   "cell_type": "code",
   "execution_count": 17,
   "metadata": {},
   "outputs": [],
   "source": [
    "# Generally its worth being a little thoughtful about whether or not to re-write\n",
    "# a datacube into computer storage. Because they tend to be large, and we already\n",
    "# have access to the datacube from the original microscope file, it's best not to\n",
    "# write the datacube to a new file unless there is a good reason to.\n",
    "\n",
    "# That said, sometimes you'll have such a reason!  Common cases where you might want\n",
    "# to do this are if you've done significant downsampling such that the new datacube\n",
    "# is much smaller than the original, or if you've done time consuming pre-processing\n",
    "# which you don't want to repeat for each analysis you do on this dataset."
   ]
  },
  {
   "cell_type": "code",
   "execution_count": 18,
   "metadata": {},
   "outputs": [
    {
     "name": "stdout",
     "output_type": "stream",
     "text": [
      "/Users/Ben/work/data/py4DSTEM_sampleData/vacuum_probe_20x20_preprocessed_filtered_bin4.h5\n"
     ]
    }
   ],
   "source": [
    "# Set a filepath\n",
    "\n",
    "# Here we're going to use the name and location of our original dataset, after\n",
    "# removing it's file extension and appending some info to the end to indicate\n",
    "# how we've modified it\n",
    "\n",
    "from os.path import splitext\n",
    "filepath_save = splitext(filepath_data)[0] + '_preprocessed_filtered_bin4.h5'\n",
    "\n",
    "print(filepath_save)"
   ]
  },
  {
   "cell_type": "code",
   "execution_count": 20,
   "metadata": {},
   "outputs": [],
   "source": [
    "# Save\n",
    "\n",
    "py4DSTEM.save(\n",
    "    filepath_save,\n",
    "    datacube,\n",
    "    #mode = 'o'    # 'overwrite' mode\n",
    ")"
   ]
  },
  {
   "cell_type": "code",
   "execution_count": 21,
   "metadata": {},
   "outputs": [
    {
     "name": "stdout",
     "output_type": "stream",
     "text": [
      "/\n",
      "|---dm_dataset_root\n",
      "    |---dm_dataset\n",
      "\n",
      "\n"
     ]
    }
   ],
   "source": [
    "# Inspect the resulting HDF5 file\n",
    "\n",
    "# This lets us look at what data lives in some native py4DSTEM .h5 file without needing\n",
    "# to open and read the whole thing\n",
    "\n",
    "py4DSTEM.print_h5_tree(filepath_save)"
   ]
  },
  {
   "cell_type": "code",
   "execution_count": 22,
   "metadata": {},
   "outputs": [
    {
     "data": {
      "text/plain": [
       "'dm_dataset'"
      ]
     },
     "execution_count": 22,
     "metadata": {},
     "output_type": "execute_result"
    }
   ],
   "source": [
    "# So what are 'dm_dataset' and 'dm_dataset_root'?\n",
    "\n",
    "# 'dm_dataset' is the default name that was given to our datacube when\n",
    "# we loaded it from a .dm file.  You can always modify this by re-assigning the\n",
    "# datacube.name attribute\n",
    "\n",
    "# 'dm_dataset_root' is just a holder for 'dm_dataset'.  \n",
    "\n",
    "datacube.name"
   ]
  },
  {
   "cell_type": "code",
   "execution_count": 23,
   "metadata": {},
   "outputs": [],
   "source": [
    "# Read the file\n",
    "\n",
    "d = py4DSTEM.read(\n",
    "    filepath_save,\n",
    ")"
   ]
  },
  {
   "cell_type": "code",
   "execution_count": 24,
   "metadata": {},
   "outputs": [
    {
     "data": {
      "text/plain": [
       "DataCube( A 4-dimensional array of shape (20, 20, 128, 128) called 'dm_dataset',\n",
       "          with dimensions:\n",
       "\n",
       "          Rx = [0,5,...] nm\n",
       "          Ry = [0,5,...] nm\n",
       "          Qx = [0.0,0.018787555396556854,...] A^-1\n",
       "          Qy = [0.0,0.018787555396556854,...] A^-1\n",
       ")"
      ]
     },
     "execution_count": 24,
     "metadata": {},
     "output_type": "execute_result"
    }
   ],
   "source": [
    "# Tada!  Our datacube has been loaded from the new .h5 file\n",
    "\n",
    "d"
   ]
  },
  {
   "cell_type": "code",
   "execution_count": 25,
   "metadata": {},
   "outputs": [
    {
     "data": {
      "text/plain": [
       "Calibration( A Metadata instance called 'calibration', containing the following fields:\n",
       "\n",
       "             Q_pixel_size:     0.018787555396556854\n",
       "             R_pixel_size:     5\n",
       "             Q_pixel_units:    A^-1\n",
       "             R_pixel_units:    nm\n",
       "             _root_treepath:   \n",
       ")"
      ]
     },
     "execution_count": 25,
     "metadata": {},
     "output_type": "execute_result"
    }
   ],
   "source": [
    "d.calibration"
   ]
  },
  {
   "cell_type": "code",
   "execution_count": 26,
   "metadata": {
    "scrolled": false
   },
   "outputs": [
    {
     "data": {
      "text/plain": [
       "(array([ 0,  5, 10, 15, 20, 25, 30, 35, 40, 45, 50, 55, 60, 65, 70, 75, 80,\n",
       "        85, 90, 95]),\n",
       " array([ 0,  5, 10, 15, 20, 25, 30, 35, 40, 45, 50, 55, 60, 65, 70, 75, 80,\n",
       "        85, 90, 95]),\n",
       " array([0.        , 0.01878756, 0.03757511, 0.05636267, 0.07515022,\n",
       "        0.09393778, 0.11272533, 0.13151289, 0.15030044, 0.169088  ,\n",
       "        0.18787555, 0.20666311, 0.22545066, 0.24423822, 0.26302578,\n",
       "        0.28181333, 0.30060089, 0.31938844, 0.338176  , 0.35696355,\n",
       "        0.37575111, 0.39453866, 0.41332622, 0.43211377, 0.45090133,\n",
       "        0.46968888, 0.48847644, 0.507264  , 0.52605155, 0.54483911,\n",
       "        0.56362666, 0.58241422, 0.60120177, 0.61998933, 0.63877688,\n",
       "        0.65756444, 0.67635199, 0.69513955, 0.71392711, 0.73271466,\n",
       "        0.75150222, 0.77028977, 0.78907733, 0.80786488, 0.82665244,\n",
       "        0.84543999, 0.86422755, 0.8830151 , 0.90180266, 0.92059021,\n",
       "        0.93937777, 0.95816533, 0.97695288, 0.99574044, 1.01452799,\n",
       "        1.03331555, 1.0521031 , 1.07089066, 1.08967821, 1.10846577,\n",
       "        1.12725332, 1.14604088, 1.16482843, 1.18361599, 1.20240355,\n",
       "        1.2211911 , 1.23997866, 1.25876621, 1.27755377, 1.29634132,\n",
       "        1.31512888, 1.33391643, 1.35270399, 1.37149154, 1.3902791 ,\n",
       "        1.40906665, 1.42785421, 1.44664177, 1.46542932, 1.48421688,\n",
       "        1.50300443, 1.52179199, 1.54057954, 1.5593671 , 1.57815465,\n",
       "        1.59694221, 1.61572976, 1.63451732, 1.65330487, 1.67209243,\n",
       "        1.69087999, 1.70966754, 1.7284551 , 1.74724265, 1.76603021,\n",
       "        1.78481776, 1.80360532, 1.82239287, 1.84118043, 1.85996798,\n",
       "        1.87875554, 1.8975431 , 1.91633065, 1.93511821, 1.95390576,\n",
       "        1.97269332, 1.99148087, 2.01026843, 2.02905598, 2.04784354,\n",
       "        2.06663109, 2.08541865, 2.1042062 , 2.12299376, 2.14178132,\n",
       "        2.16056887, 2.17935643, 2.19814398, 2.21693154, 2.23571909,\n",
       "        2.25450665, 2.2732942 , 2.29208176, 2.31086931, 2.32965687,\n",
       "        2.34844442, 2.36723198, 2.38601954]),\n",
       " array([0.        , 0.01878756, 0.03757511, 0.05636267, 0.07515022,\n",
       "        0.09393778, 0.11272533, 0.13151289, 0.15030044, 0.169088  ,\n",
       "        0.18787555, 0.20666311, 0.22545066, 0.24423822, 0.26302578,\n",
       "        0.28181333, 0.30060089, 0.31938844, 0.338176  , 0.35696355,\n",
       "        0.37575111, 0.39453866, 0.41332622, 0.43211377, 0.45090133,\n",
       "        0.46968888, 0.48847644, 0.507264  , 0.52605155, 0.54483911,\n",
       "        0.56362666, 0.58241422, 0.60120177, 0.61998933, 0.63877688,\n",
       "        0.65756444, 0.67635199, 0.69513955, 0.71392711, 0.73271466,\n",
       "        0.75150222, 0.77028977, 0.78907733, 0.80786488, 0.82665244,\n",
       "        0.84543999, 0.86422755, 0.8830151 , 0.90180266, 0.92059021,\n",
       "        0.93937777, 0.95816533, 0.97695288, 0.99574044, 1.01452799,\n",
       "        1.03331555, 1.0521031 , 1.07089066, 1.08967821, 1.10846577,\n",
       "        1.12725332, 1.14604088, 1.16482843, 1.18361599, 1.20240355,\n",
       "        1.2211911 , 1.23997866, 1.25876621, 1.27755377, 1.29634132,\n",
       "        1.31512888, 1.33391643, 1.35270399, 1.37149154, 1.3902791 ,\n",
       "        1.40906665, 1.42785421, 1.44664177, 1.46542932, 1.48421688,\n",
       "        1.50300443, 1.52179199, 1.54057954, 1.5593671 , 1.57815465,\n",
       "        1.59694221, 1.61572976, 1.63451732, 1.65330487, 1.67209243,\n",
       "        1.69087999, 1.70966754, 1.7284551 , 1.74724265, 1.76603021,\n",
       "        1.78481776, 1.80360532, 1.82239287, 1.84118043, 1.85996798,\n",
       "        1.87875554, 1.8975431 , 1.91633065, 1.93511821, 1.95390576,\n",
       "        1.97269332, 1.99148087, 2.01026843, 2.02905598, 2.04784354,\n",
       "        2.06663109, 2.08541865, 2.1042062 , 2.12299376, 2.14178132,\n",
       "        2.16056887, 2.17935643, 2.19814398, 2.21693154, 2.23571909,\n",
       "        2.25450665, 2.2732942 , 2.29208176, 2.31086931, 2.32965687,\n",
       "        2.34844442, 2.36723198, 2.38601954]))"
      ]
     },
     "execution_count": 26,
     "metadata": {},
     "output_type": "execute_result"
    }
   ],
   "source": [
    "d.dims"
   ]
  },
  {
   "cell_type": "code",
   "execution_count": null,
   "metadata": {},
   "outputs": [],
   "source": []
  }
 ],
 "metadata": {
  "colab": {
   "collapsed_sections": [],
   "name": "4DSTEM basics and visualization.ipynb",
   "provenance": []
  },
  "kernelspec": {
   "display_name": "Python 3 (ipykernel)",
   "language": "python",
   "name": "python3"
  },
  "language_info": {
   "codemirror_mode": {
    "name": "ipython",
    "version": 3
   },
   "file_extension": ".py",
   "mimetype": "text/x-python",
   "name": "python",
   "nbconvert_exporter": "python",
   "pygments_lexer": "ipython3",
   "version": "3.10.9"
  }
 },
 "nbformat": 4,
 "nbformat_minor": 4
}
