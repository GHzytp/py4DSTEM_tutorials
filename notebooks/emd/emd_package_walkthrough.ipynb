{
 "cells": [
  {
   "cell_type": "markdown",
   "id": "c319b309",
   "metadata": {},
   "source": [
    "> \"We aim to develop a completely open file format flexible enough to store any possible type of electron microscopy data, while also allowing metadata of any type to be included.\"\n",
    ">> Colin Ophus, https://emdatasets.com/format/\n",
    "\n",
    "\n",
    "# `emd` package walkthrough\n",
    "\n",
    "This notebook is a somewhat detailed walkthrough of the `emd` package from a user-facing perspective. If you haven't looked at `emd_package_basic examples.ipynb`, you may want to start there.  For an example of implementation of the `emd.Custom` class, see `emd_custom_class_example.py`.\n",
    "\n",
    "`emd` defines a write and a read function, along with a set of classes which interface between long term storage (HDF5 files) and Python runtime objects.  The classes are designed to quickly build, save to, and read from filetree-like representations of data and metadata.  While the focus here is the Python package, along the way we'll arrive at the EMD 1.0 file specification, to which this package provides a Pythonic interface."
   ]
  },
  {
   "cell_type": "code",
   "execution_count": 1,
   "id": "640064b3",
   "metadata": {},
   "outputs": [],
   "source": [
    "%load_ext autoreload\n",
    "%autoreload 2"
   ]
  },
  {
   "cell_type": "code",
   "execution_count": 2,
   "id": "8178d5e8",
   "metadata": {},
   "outputs": [],
   "source": [
    "from py4DSTEM import emd"
   ]
  },
  {
   "cell_type": "code",
   "execution_count": 3,
   "id": "78ef5ef4",
   "metadata": {},
   "outputs": [],
   "source": [
    "# utility for writing and cleaning a filepath\n",
    "\n",
    "fp = \"/Users/Ben/Desktop/test.h5\"\n",
    "\n",
    "from os.path import exists\n",
    "from os import remove\n",
    "\n",
    "def clean():\n",
    "    if exists(fp):\n",
    "        remove(fp)\n",
    "        \n",
    "clean()"
   ]
  },
  {
   "cell_type": "markdown",
   "id": "bc186360",
   "metadata": {},
   "source": [
    "# 1. numpy arrays, Python dictionaries, and lists\n",
    "\n",
    "This section demos the simplest write operations, which don't even use the `emd` objects yet.  Here we write a numpy array to file, then read the file and confirm that the contents are correct.  Then we do the same thing with a Python dictionary, then with a list of arrays and dictionaries."
   ]
  },
  {
   "cell_type": "markdown",
   "id": "2ed0267c",
   "metadata": {},
   "source": [
    "## 1.1 `np.array` io\n"
   ]
  },
  {
   "cell_type": "code",
   "execution_count": 4,
   "id": "fd4b8ab4",
   "metadata": {},
   "outputs": [],
   "source": [
    "clean()"
   ]
  },
  {
   "cell_type": "code",
   "execution_count": 5,
   "id": "708a4bb6",
   "metadata": {},
   "outputs": [],
   "source": [
    "import numpy as np"
   ]
  },
  {
   "cell_type": "code",
   "execution_count": 6,
   "id": "0c7721ac",
   "metadata": {},
   "outputs": [
    {
     "data": {
      "text/plain": [
       "array([[ 0,  1,  2,  3],\n",
       "       [ 4,  5,  6,  7],\n",
       "       [ 8,  9, 10, 11]])"
      ]
     },
     "execution_count": 6,
     "metadata": {},
     "output_type": "execute_result"
    }
   ],
   "source": [
    "# Make a numpy array\n",
    "\n",
    "ar = np.arange(12).reshape((3,4))\n",
    "ar"
   ]
  },
  {
   "cell_type": "code",
   "execution_count": 7,
   "id": "1b901dc4",
   "metadata": {},
   "outputs": [],
   "source": [
    "# Save it\n",
    "\n",
    "emd.save(fp, ar)"
   ]
  },
  {
   "cell_type": "code",
   "execution_count": 8,
   "id": "e00a2e1a",
   "metadata": {},
   "outputs": [
    {
     "name": "stdout",
     "output_type": "stream",
     "text": [
      "Reading group /np.array/np.array\n"
     ]
    }
   ],
   "source": [
    "# Read it\n",
    "\n",
    "loaded_data = emd.read(fp)"
   ]
  },
  {
   "cell_type": "code",
   "execution_count": 9,
   "id": "968f08a5",
   "metadata": {},
   "outputs": [
    {
     "data": {
      "text/plain": [
       "Root( A Node called 'np.array', containing the following top-level objects in its tree:\n",
       "\n",
       "          np.array \t\t (Array)\n",
       ")"
      ]
     },
     "execution_count": 9,
     "metadata": {},
     "output_type": "execute_result"
    }
   ],
   "source": [
    "# The loaded object is a `Root` - the base file storage unit of the format\n",
    "# the message here tells us that the root we've loaded contains a single\n",
    "# data object, that it's type is Array, and that it's name is 'np.array'\n",
    "\n",
    "loaded_data"
   ]
  },
  {
   "cell_type": "code",
   "execution_count": 10,
   "id": "a1b6e974",
   "metadata": {},
   "outputs": [],
   "source": [
    "# We can access the data with the .tree method, using the object's name as a key\n",
    "\n",
    "loaded_ar = loaded_data.tree('np.array')"
   ]
  },
  {
   "cell_type": "code",
   "execution_count": 11,
   "id": "d72406c7",
   "metadata": {},
   "outputs": [
    {
     "data": {
      "text/plain": [
       "Array( A 2-dimensional array of shape (3, 4) called 'np.array',\n",
       "       with dimensions:\n",
       "\n",
       "       dim0 = [0,1,...] pixels\n",
       "       dim1 = [0,1,...] pixels\n",
       ")"
      ]
     },
     "execution_count": 11,
     "metadata": {},
     "output_type": "execute_result"
    }
   ],
   "source": [
    "# The data is now stored inside an emd.Array object instance\n",
    "\n",
    "loaded_ar"
   ]
  },
  {
   "cell_type": "code",
   "execution_count": 12,
   "id": "59ae8f3d",
   "metadata": {},
   "outputs": [
    {
     "data": {
      "text/plain": [
       "array([[ 0,  1,  2,  3],\n",
       "       [ 4,  5,  6,  7],\n",
       "       [ 8,  9, 10, 11]])"
      ]
     },
     "execution_count": 12,
     "metadata": {},
     "output_type": "execute_result"
    }
   ],
   "source": [
    "# It's data, like all EMD data objects(*), is stored in its .data attribute\n",
    "\n",
    "loaded_ar.data\n",
    "\n",
    "# (*) excludes Metadata(**)\n",
    "# (**) should it?"
   ]
  },
  {
   "cell_type": "code",
   "execution_count": 13,
   "id": "9091c03c",
   "metadata": {},
   "outputs": [],
   "source": [
    "# Confirm the save and loaded arrays are identical\n",
    "\n",
    "assert(np.array_equal( ar , loaded_ar.data ))"
   ]
  },
  {
   "cell_type": "markdown",
   "id": "47dd2548",
   "metadata": {},
   "source": [
    "## 1.2 `dict`s"
   ]
  },
  {
   "cell_type": "code",
   "execution_count": 14,
   "id": "061fe6b5",
   "metadata": {},
   "outputs": [],
   "source": [
    "clean()"
   ]
  },
  {
   "cell_type": "code",
   "execution_count": 15,
   "id": "6d099624",
   "metadata": {},
   "outputs": [
    {
     "data": {
      "text/plain": [
       "{'hey': 1, 'diddlediddle': 1, 'thecat': 2, 'andthe': 3, 'fiddle': 5}"
      ]
     },
     "execution_count": 15,
     "metadata": {},
     "output_type": "execute_result"
    }
   ],
   "source": [
    "# Make a dictionary\n",
    "\n",
    "very_important_knowledge = {\n",
    "    'hey' : 1,\n",
    "    'diddlediddle' : 1,\n",
    "    'thecat' : 2,\n",
    "    'andthe' : 3,\n",
    "    'fiddle' : 5\n",
    "}\n",
    "\n",
    "very_important_knowledge"
   ]
  },
  {
   "cell_type": "code",
   "execution_count": 16,
   "id": "0a7e3682",
   "metadata": {},
   "outputs": [],
   "source": [
    "# Save it\n",
    "\n",
    "emd.save(fp, very_important_knowledge)"
   ]
  },
  {
   "cell_type": "code",
   "execution_count": 17,
   "id": "0c6f53e7",
   "metadata": {},
   "outputs": [],
   "source": [
    "# Load it\n",
    "\n",
    "loaded_data = emd.read(fp)"
   ]
  },
  {
   "cell_type": "code",
   "execution_count": 18,
   "id": "65df3a85",
   "metadata": {},
   "outputs": [
    {
     "data": {
      "text/plain": [
       "Root( A Node called 'dictionary', containing the following top-level objects in its tree:\n",
       "\n",
       ")"
      ]
     },
     "execution_count": 18,
     "metadata": {},
     "output_type": "execute_result"
    }
   ],
   "source": [
    "# The loaded data again lives inside a Root\n",
    "# This time, however, no data appears to live in the tree under this root!\n",
    "\n",
    "loaded_data"
   ]
  },
  {
   "cell_type": "code",
   "execution_count": 19,
   "id": "c477ab34",
   "metadata": {},
   "outputs": [
    {
     "data": {
      "text/plain": [
       "{'dictionary': Metadata( A Metadata instance called 'dictionary', containing the following fields:\n",
       " \n",
       "           andthe:         3\n",
       "           diddlediddle:   1\n",
       "           fiddle:         5\n",
       "           hey:            1\n",
       "           thecat:         2\n",
       " )}"
      ]
     },
     "execution_count": 19,
     "metadata": {},
     "output_type": "execute_result"
    }
   ],
   "source": [
    "# The reason is that metadata is handled differently from data...\n",
    "# The root has a .metadata property, which points to a dictionary of Metadata objects.\n",
    "# Each Metadata object wraps a single, depth-1 (i.e. non-nested) dictionary\n",
    "# We only saved a single dictionary, so the .metadata dictionary contains one member:\n",
    "# a Metadata instance storing the data we saved\n",
    "\n",
    "loaded_data.metadata"
   ]
  },
  {
   "cell_type": "code",
   "execution_count": 20,
   "id": "b1176327",
   "metadata": {},
   "outputs": [
    {
     "data": {
      "text/plain": [
       "Metadata( A Metadata instance called 'dictionary', containing the following fields:\n",
       "\n",
       "          andthe:         3\n",
       "          diddlediddle:   1\n",
       "          fiddle:         5\n",
       "          hey:            1\n",
       "          thecat:         2\n",
       ")"
      ]
     },
     "execution_count": 20,
     "metadata": {},
     "output_type": "execute_result"
    }
   ],
   "source": [
    "# We can\n",
    "# ...access the Metadata instance with its key, 'dictionary'\n",
    "\n",
    "md = loaded_data.metadata['dictionary']\n",
    "\n",
    "md"
   ]
  },
  {
   "cell_type": "code",
   "execution_count": 21,
   "id": "785a5c51",
   "metadata": {},
   "outputs": [
    {
     "data": {
      "text/plain": [
       "dict_keys(['andthe', 'diddlediddle', 'fiddle', 'hey', 'thecat'])"
      ]
     },
     "execution_count": 21,
     "metadata": {},
     "output_type": "execute_result"
    }
   ],
   "source": [
    "# ...get the dictionary keys\n",
    "\n",
    "md.keys"
   ]
  },
  {
   "cell_type": "code",
   "execution_count": 22,
   "id": "a2a11abc",
   "metadata": {},
   "outputs": [
    {
     "data": {
      "text/plain": [
       "2"
      ]
     },
     "execution_count": 22,
     "metadata": {},
     "output_type": "execute_result"
    }
   ],
   "source": [
    "# ...and slice into the object like a normal dictionary\n",
    "\n",
    "md['thecat']"
   ]
  },
  {
   "cell_type": "code",
   "execution_count": 23,
   "id": "be692161",
   "metadata": {},
   "outputs": [
    {
     "data": {
      "text/plain": [
       "{'andthe': 3, 'diddlediddle': 1, 'fiddle': 5, 'hey': 1, 'thecat': 2}"
      ]
     },
     "execution_count": 23,
     "metadata": {},
     "output_type": "execute_result"
    }
   ],
   "source": [
    "# Metadata instances wrap python dictionaries, with the wrapped dict itself living in ._params\n",
    "\n",
    "md._params"
   ]
  },
  {
   "cell_type": "code",
   "execution_count": 24,
   "id": "b4da7e57",
   "metadata": {},
   "outputs": [],
   "source": [
    "# so ._params should match the original, saved dictionary\n",
    "\n",
    "assert( very_important_knowledge == loaded_data.metadata['dictionary']._params )"
   ]
  },
  {
   "cell_type": "code",
   "execution_count": 25,
   "id": "70a88a4a",
   "metadata": {},
   "outputs": [
    {
     "data": {
      "text/plain": [
       "Metadata( A Metadata instance called 'dictionary', containing the following fields:\n",
       "\n",
       "          andthe:                3\n",
       "          diddlediddle:          1\n",
       "          fiddle:                5\n",
       "          hey:                   1\n",
       "          thecat:                2\n",
       "          thelittledoglaughed:   256\n",
       ")"
      ]
     },
     "execution_count": 25,
     "metadata": {},
     "output_type": "execute_result"
    }
   ],
   "source": [
    "# The .__getitem__,.__setitem__ methods point to _params, support element assignment and retrieval\n",
    "# while keeping the dictionary itself protected from roving users\n",
    "\n",
    "md['thelittledoglaughed'] = 256\n",
    "\n",
    "md"
   ]
  },
  {
   "cell_type": "markdown",
   "id": "3384ae96",
   "metadata": {},
   "source": [
    "## 1.3 `list`s"
   ]
  },
  {
   "cell_type": "code",
   "execution_count": 26,
   "id": "2fcac94b",
   "metadata": {},
   "outputs": [],
   "source": [
    "clean()"
   ]
  },
  {
   "cell_type": "code",
   "execution_count": 27,
   "id": "5d3b9995",
   "metadata": {},
   "outputs": [],
   "source": [
    "# Make some data\n",
    "\n",
    "ar1 = np.zeros((4,5))\n",
    "ar2 = np.eye(3)\n",
    "dic = {'cow':'moo','tuple':(1,2,3),'array':np.arange(9).reshape((3,3))}"
   ]
  },
  {
   "cell_type": "code",
   "execution_count": 28,
   "id": "c4767b04",
   "metadata": {},
   "outputs": [],
   "source": [
    "# Save it\n",
    "\n",
    "emd.save(fp, [ar1,ar2,dic])"
   ]
  },
  {
   "cell_type": "code",
   "execution_count": 29,
   "id": "9313b630",
   "metadata": {},
   "outputs": [
    {
     "name": "stdout",
     "output_type": "stream",
     "text": [
      "Reading group /np.array/np.array_0\n",
      "Reading group /np.array/np.array_1\n"
     ]
    }
   ],
   "source": [
    "# Load it\n",
    "\n",
    "loaded_data = emd.read(fp)"
   ]
  },
  {
   "cell_type": "code",
   "execution_count": 30,
   "id": "0ccbee36",
   "metadata": {},
   "outputs": [
    {
     "data": {
      "text/plain": [
       "Root( A Node called 'np.array', containing the following top-level objects in its tree:\n",
       "\n",
       "          np.array_0 \t\t (Array)\n",
       "          np.array_1 \t\t (Array)\n",
       ")"
      ]
     },
     "execution_count": 30,
     "metadata": {},
     "output_type": "execute_result"
    }
   ],
   "source": [
    "# All the loaded data lives in a Root, whose name is determined by the first entry in the list\n",
    "\n",
    "loaded_data"
   ]
  },
  {
   "cell_type": "code",
   "execution_count": 31,
   "id": "c10ec11c",
   "metadata": {},
   "outputs": [],
   "source": [
    "# The arrays are accessible via the tree\n",
    "\n",
    "l_ar1 = loaded_data.tree('np.array_0')\n",
    "l_ar2 = loaded_data.tree('np.array_1')\n",
    "\n",
    "assert(np.array_equal( ar1, l_ar1.data ))\n",
    "assert(np.array_equal( ar2, l_ar2.data ))"
   ]
  },
  {
   "cell_type": "code",
   "execution_count": 32,
   "id": "d9441468",
   "metadata": {},
   "outputs": [
    {
     "data": {
      "text/plain": [
       "{'dictionary_0': Metadata( A Metadata instance called 'dictionary_0', containing the following fields:\n",
       " \n",
       "           array:   2D-array\n",
       "           cow:     moo\n",
       "           tuple:   (1, 2, 3)\n",
       " )}"
      ]
     },
     "execution_count": 32,
     "metadata": {},
     "output_type": "execute_result"
    }
   ],
   "source": [
    "# And the dictionary is accessible as metadata\n",
    "\n",
    "loaded_data.metadata"
   ]
  },
  {
   "cell_type": "code",
   "execution_count": 33,
   "id": "62473011",
   "metadata": {},
   "outputs": [
    {
     "data": {
      "text/plain": [
       "Metadata( A Metadata instance called 'dictionary_0', containing the following fields:\n",
       "\n",
       "          array:   2D-array\n",
       "          cow:     moo\n",
       "          tuple:   (1, 2, 3)\n",
       ")"
      ]
     },
     "execution_count": 33,
     "metadata": {},
     "output_type": "execute_result"
    }
   ],
   "source": [
    "md = loaded_data.metadata['dictionary_0']\n",
    "\n",
    "md"
   ]
  },
  {
   "cell_type": "code",
   "execution_count": 34,
   "id": "be1fd64c",
   "metadata": {},
   "outputs": [
    {
     "data": {
      "text/plain": [
       "array([[0, 1, 2],\n",
       "       [3, 4, 5],\n",
       "       [6, 7, 8]])"
      ]
     },
     "execution_count": 34,
     "metadata": {},
     "output_type": "execute_result"
    }
   ],
   "source": [
    "md['array']"
   ]
  },
  {
   "cell_type": "code",
   "execution_count": 35,
   "id": "315ae693",
   "metadata": {},
   "outputs": [
    {
     "ename": "ValueError",
     "evalue": "The truth value of an array with more than one element is ambiguous. Use a.any() or a.all()",
     "output_type": "error",
     "traceback": [
      "\u001b[0;31m---------------------------------------------------------------------------\u001b[0m",
      "\u001b[0;31mValueError\u001b[0m                                Traceback (most recent call last)",
      "Input \u001b[0;32mIn [35]\u001b[0m, in \u001b[0;36m<cell line: 4>\u001b[0;34m()\u001b[0m\n\u001b[1;32m      1\u001b[0m \u001b[38;5;66;03m# We'd like to confirm the dictionary wrote/read correctly, however\u001b[39;00m\n\u001b[1;32m      2\u001b[0m \u001b[38;5;66;03m# this naive approach fails because the dictionary stores an array, which breaks `==` comparison...\u001b[39;00m\n\u001b[0;32m----> 4\u001b[0m \u001b[38;5;28;01massert\u001b[39;00m( \u001b[43mdic\u001b[49m\u001b[43m \u001b[49m\u001b[38;5;241;43m==\u001b[39;49m\u001b[43m \u001b[49m\u001b[43mmd\u001b[49m\u001b[38;5;241;43m.\u001b[39;49m\u001b[43m_params\u001b[49m )\n",
      "\u001b[0;31mValueError\u001b[0m: The truth value of an array with more than one element is ambiguous. Use a.any() or a.all()"
     ]
    }
   ],
   "source": [
    "# We'd like to confirm the dictionary wrote/read correctly, however\n",
    "# this naive approach fails because the dictionary stores an array, which breaks `==` comparison...\n",
    "\n",
    "assert( dic == md._params )"
   ]
  },
  {
   "cell_type": "code",
   "execution_count": null,
   "id": "fa825603",
   "metadata": {},
   "outputs": [],
   "source": [
    "# ...so we can check that everything worked another way:\n",
    "\n",
    "for k,v in dic.items():\n",
    "    assert(k in md.keys)\n",
    "    if isinstance(v,np.ndarray): assert(np.array_equal(v,md[k]))\n",
    "    else: assert(v == md[k])"
   ]
  },
  {
   "cell_type": "markdown",
   "id": "d612e835",
   "metadata": {},
   "source": [
    "**Important Note:** \n",
    "\n",
    "You may have noticed that the read step looked a little complicated in this section - we write a numpy array, but then when we read it again, its some crazy object called a Root which you need to slice into with some method called .tree().  WTF?!  Its true that this may seem a little extra in the context of just writing and then reading an array.  If I wrote an array, can't the read function just give me my gosh damned array back?  The answer is that it could - but all the extra structure you're seeing and have to muddle through at this step is what will enable us to store and retrieve arbitrary data and metadata later on.  \n",
    "\n",
    "Could we write a little extra code here to make package just return the numpy array or Python dictionary in these super simple cases?  Definitely.  This would not be very hard.  It just is not what this package was designed for, so, this is what it looks like right now.  If you'd like to complain about this, please first wait at least 3 hours.  If you're still irked, please find a seashell, hold it to your ear, and listen.  Take three breaths.  Then, if you still feel cranky, please direct any complaints to the shell, as I am confident it will be glad to listen."
   ]
  },
  {
   "cell_type": "markdown",
   "id": "70912ca8",
   "metadata": {},
   "source": [
    "# 2 `emd` basics: `Array`, `Metadata`, and `.tree`\n",
    "\n",
    "In this section we first we look at the `Array` class, which represents the original EMD 0.1 file specification as a Python runtime object. We'll look at how `Array` instances carry their own basic metadata with them, and can additionally hold arbitrarily many Python dictionaries in the form of `Metadata` instances. Then, we build a runtime emd tree of data instances.  For each of these cases, we show how these data collections can be written and read to/from file."
   ]
  },
  {
   "cell_type": "markdown",
   "id": "f80dd19a",
   "metadata": {},
   "source": [
    "## 2.1 `emd.Array`\n",
    "\n",
    "The `emd.Array` class is our first example of a class representing an EMD data tree node.  Below we look at several attributes and properties of `Arrays`"
   ]
  },
  {
   "cell_type": "code",
   "execution_count": null,
   "id": "8599588e",
   "metadata": {},
   "outputs": [],
   "source": [
    "emd.Array?"
   ]
  },
  {
   "cell_type": "markdown",
   "id": "d317bc72",
   "metadata": {},
   "source": [
    "### 2.1.1 `emd.Array` as a simple `np.ndarray` wrapper"
   ]
  },
  {
   "cell_type": "code",
   "execution_count": 36,
   "id": "5f75935a",
   "metadata": {},
   "outputs": [],
   "source": [
    "clean()"
   ]
  },
  {
   "cell_type": "code",
   "execution_count": 37,
   "id": "68ef0098",
   "metadata": {},
   "outputs": [],
   "source": [
    "# Make an array with no bells or whistles...\n",
    "# in this case, it's a simple wrapper for a numpy array\n",
    "\n",
    "ar = emd.Array(\n",
    "    data = np.array(\n",
    "        [[1,2,3],\n",
    "         [7,8,9],\n",
    "         [40,50,60]]\n",
    "    )\n",
    ")"
   ]
  },
  {
   "cell_type": "code",
   "execution_count": 38,
   "id": "0ba5f4d1",
   "metadata": {},
   "outputs": [
    {
     "data": {
      "text/plain": [
       "Array( A 2-dimensional array of shape (3, 3) called 'array',\n",
       "       with dimensions:\n",
       "\n",
       "       dim0 = [0,1,...] pixels\n",
       "       dim1 = [0,1,...] pixels\n",
       ")"
      ]
     },
     "execution_count": 38,
     "metadata": {},
     "output_type": "execute_result"
    }
   ],
   "source": [
    "ar"
   ]
  },
  {
   "cell_type": "code",
   "execution_count": 39,
   "id": "965cce2d",
   "metadata": {},
   "outputs": [
    {
     "data": {
      "text/plain": [
       "array([[ 1,  2,  3],\n",
       "       [ 7,  8,  9],\n",
       "       [40, 50, 60]])"
      ]
     },
     "execution_count": 39,
     "metadata": {},
     "output_type": "execute_result"
    }
   ],
   "source": [
    "ar.data"
   ]
  },
  {
   "cell_type": "code",
   "execution_count": 40,
   "id": "1b5d7c9a",
   "metadata": {},
   "outputs": [
    {
     "name": "stdout",
     "output_type": "stream",
     "text": [
      "array\n",
      "\n",
      "\n",
      "[0 1 2]\n",
      "[0 1 2]\n",
      "\n",
      "dim0\n",
      "dim1\n",
      "\n",
      "pixels\n",
      "pixels\n"
     ]
    }
   ],
   "source": [
    "# The `emd.Array` class has some properties beyond the data\n",
    "# These all get carried along in write/read\n",
    "# Here these were uninitialized, so have default values\n",
    "\n",
    "print(ar.name)\n",
    "print(ar.units)\n",
    "print()\n",
    "print(ar.dims[0])\n",
    "print(ar.dims[1])\n",
    "print()\n",
    "print(ar.dim_names[0])\n",
    "print(ar.dim_names[1])\n",
    "print()\n",
    "print(ar.dim_units[0])\n",
    "print(ar.dim_units[1])"
   ]
  },
  {
   "cell_type": "code",
   "execution_count": 41,
   "id": "ce096fcb",
   "metadata": {},
   "outputs": [],
   "source": [
    "# Save it\n",
    "\n",
    "emd.save(fp, ar)"
   ]
  },
  {
   "cell_type": "code",
   "execution_count": 42,
   "id": "5fb6759c",
   "metadata": {},
   "outputs": [
    {
     "name": "stdout",
     "output_type": "stream",
     "text": [
      "Reading group /array/array\n"
     ]
    }
   ],
   "source": [
    "# Load it\n",
    "\n",
    "loaded_data = emd.read(fp)"
   ]
  },
  {
   "cell_type": "code",
   "execution_count": 43,
   "id": "1e7afa7e",
   "metadata": {},
   "outputs": [
    {
     "data": {
      "text/plain": [
       "Root( A Node called 'array', containing the following top-level objects in its tree:\n",
       "\n",
       "          array \t\t (Array)\n",
       ")"
      ]
     },
     "execution_count": 43,
     "metadata": {},
     "output_type": "execute_result"
    }
   ],
   "source": [
    "# As always, the loaded data is a Root, which contains our data\n",
    "\n",
    "loaded_data"
   ]
  },
  {
   "cell_type": "code",
   "execution_count": 44,
   "id": "500d5ffa",
   "metadata": {},
   "outputs": [],
   "source": [
    "# and we can access it via the `.tree` method\n",
    "\n",
    "l_ar = loaded_data.tree('array')"
   ]
  },
  {
   "cell_type": "code",
   "execution_count": 45,
   "id": "f1b420c0",
   "metadata": {},
   "outputs": [],
   "source": [
    "# and all the properties are the same as for the saved object\n",
    "\n",
    "assert(np.array_equal(ar.data, l_ar.data))\n",
    "\n",
    "for idx in range(2):\n",
    "    assert(ar.dim_names[idx] == l_ar.dim_names[idx])\n",
    "    assert(ar.dim_units[idx] == l_ar.dim_units[idx])\n",
    "    assert(np.array_equal(ar.dims[idx], l_ar.dims[idx]))"
   ]
  },
  {
   "cell_type": "code",
   "execution_count": 46,
   "id": "a9c5ca78",
   "metadata": {},
   "outputs": [
    {
     "data": {
      "text/plain": [
       "array([[ 1,  2,  3],\n",
       "       [ 7,  8,  9],\n",
       "       [40, 50, 60]])"
      ]
     },
     "execution_count": 46,
     "metadata": {},
     "output_type": "execute_result"
    }
   ],
   "source": [
    "l_ar.data"
   ]
  },
  {
   "cell_type": "markdown",
   "id": "6dbc3b18",
   "metadata": {},
   "source": [
    "### 2.1.2 `emd.Array` with builtin metadata\n",
    "\n",
    "The `Array` class comes with the basic metadata which calibrates this array bundled with it.  These include a name, units, and for an N-dimensional array, N vectors describing the name, units, and step size of the pixels along each dimension. This metadata is all carried along for the ride at write/read time."
   ]
  },
  {
   "cell_type": "code",
   "execution_count": 47,
   "id": "76f97494",
   "metadata": {},
   "outputs": [],
   "source": [
    "clean()"
   ]
  },
  {
   "cell_type": "code",
   "execution_count": 48,
   "id": "4d04f1cd",
   "metadata": {},
   "outputs": [],
   "source": [
    "# Make an emd.Array with the name and dims customized\n",
    "\n",
    "ar = emd.Array(\n",
    "    data = np.array(\n",
    "        [[1,2,3,4],\n",
    "         [5,6,7,8],\n",
    "         [9,10,11,12],\n",
    "         [13,14,15,16]]\n",
    "    ),\n",
    "    name = 'my_array',\n",
    "    units = 'intensity',\n",
    "    dims = [[0,3],     # setting two numbers will extrapolate the full vector linearly\n",
    "            [0,0.6]],\n",
    "    dim_names = ['x','y'],\n",
    "    dim_units = ['nm','km']\n",
    ")"
   ]
  },
  {
   "cell_type": "code",
   "execution_count": 49,
   "id": "0daaa6cc",
   "metadata": {},
   "outputs": [
    {
     "data": {
      "text/plain": [
       "Array( A 2-dimensional array of shape (4, 4) called 'my_array',\n",
       "       with dimensions:\n",
       "\n",
       "       x = [0,3,...] nm\n",
       "       y = [0.0,0.6,...] km\n",
       ")"
      ]
     },
     "execution_count": 49,
     "metadata": {},
     "output_type": "execute_result"
    }
   ],
   "source": [
    "ar"
   ]
  },
  {
   "cell_type": "code",
   "execution_count": 50,
   "id": "910a32c4",
   "metadata": {},
   "outputs": [
    {
     "data": {
      "text/plain": [
       "array([0, 3, 6, 9])"
      ]
     },
     "execution_count": 50,
     "metadata": {},
     "output_type": "execute_result"
    }
   ],
   "source": [
    "ar.dims[0]"
   ]
  },
  {
   "cell_type": "code",
   "execution_count": 51,
   "id": "991ab3e3",
   "metadata": {},
   "outputs": [
    {
     "name": "stdout",
     "output_type": "stream",
     "text": [
      "my_array\n",
      "intensity\n",
      "\n",
      "[0 3 6 9]\n",
      "[0.  0.6 1.2 1.8]\n",
      "\n",
      "x\n",
      "y\n",
      "\n",
      "nm\n",
      "km\n"
     ]
    }
   ],
   "source": [
    "# The values of the Array metadata fields were initialized as expected\n",
    "\n",
    "print(ar.name)\n",
    "print(ar.units)\n",
    "print()\n",
    "print(ar.dims[0])\n",
    "print(ar.dims[1])\n",
    "print()\n",
    "print(ar.dim_names[0])\n",
    "print(ar.dim_names[1])\n",
    "print()\n",
    "print(ar.dim_units[0])\n",
    "print(ar.dim_units[1])"
   ]
  },
  {
   "cell_type": "code",
   "execution_count": 52,
   "id": "9a0e1796",
   "metadata": {},
   "outputs": [],
   "source": [
    "# Save it\n",
    "\n",
    "emd.save(fp, ar)"
   ]
  },
  {
   "cell_type": "code",
   "execution_count": 53,
   "id": "3015c257",
   "metadata": {},
   "outputs": [
    {
     "name": "stdout",
     "output_type": "stream",
     "text": [
      "Reading group /my_array/my_array\n"
     ]
    }
   ],
   "source": [
    "# Load it\n",
    "\n",
    "loaded_data = emd.read(fp)"
   ]
  },
  {
   "cell_type": "code",
   "execution_count": 54,
   "id": "69d85565",
   "metadata": {},
   "outputs": [
    {
     "data": {
      "text/plain": [
       "Root( A Node called 'my_array', containing the following top-level objects in its tree:\n",
       "\n",
       "          my_array \t\t (Array)\n",
       ")"
      ]
     },
     "execution_count": 54,
     "metadata": {},
     "output_type": "execute_result"
    }
   ],
   "source": [
    "# The loaded data is a Root\n",
    "\n",
    "loaded_data"
   ]
  },
  {
   "cell_type": "code",
   "execution_count": 55,
   "id": "7bd3e0a0",
   "metadata": {},
   "outputs": [],
   "source": [
    "# and the key to access our data is now the name we set when we made the Array\n",
    "\n",
    "l_ar = loaded_data.tree('my_array')"
   ]
  },
  {
   "cell_type": "code",
   "execution_count": 56,
   "id": "1b1048e6",
   "metadata": {},
   "outputs": [],
   "source": [
    "# as before, all properties loaded correctly\n",
    "\n",
    "assert(np.array_equal(ar.data, l_ar.data))\n",
    "\n",
    "for idx in range(2):\n",
    "    assert(ar.dim_names[idx] == l_ar.dim_names[idx])\n",
    "    assert(ar.dim_units[idx] == l_ar.dim_units[idx])\n",
    "    assert(np.array_equal(ar.dims[idx], l_ar.dims[idx]))"
   ]
  },
  {
   "cell_type": "code",
   "execution_count": 57,
   "id": "071b7a46",
   "metadata": {},
   "outputs": [
    {
     "name": "stdout",
     "output_type": "stream",
     "text": [
      "[[ 1  2  3  4]\n",
      " [ 5  6  7  8]\n",
      " [ 9 10 11 12]\n",
      " [13 14 15 16]]\n",
      "\n",
      "my_array\n",
      "intensity\n",
      "\n",
      "[0 3 6 9]\n",
      "[0.  0.6 1.2 1.8]\n",
      "\n",
      "x\n",
      "y\n",
      "\n",
      "nm\n",
      "km\n"
     ]
    }
   ],
   "source": [
    "# or we can look at the values directly\n",
    "\n",
    "print(l_ar.data)\n",
    "print()\n",
    "print(l_ar.name)\n",
    "print(l_ar.units)\n",
    "print()\n",
    "print(l_ar.dims[0])\n",
    "print(l_ar.dims[1])\n",
    "print()\n",
    "print(l_ar.dim_names[0])\n",
    "print(l_ar.dim_names[1])\n",
    "print()\n",
    "print(l_ar.dim_units[0])\n",
    "print(l_ar.dim_units[1])"
   ]
  },
  {
   "cell_type": "markdown",
   "id": "171bc548",
   "metadata": {},
   "source": [
    "### 2.1.3 `emd.Array` as \"stacked\" arrays, representing N+1 dimensional data\n",
    "\n",
    "The syntax below is meant to support multiple arrays which represent N+1 dimensional data - i.e. several data arrays, each with N normal dimensions which are described by normal calibration dim vectors, stacked into a single object.  The individual arrays are then accessible individually by string keys."
   ]
  },
  {
   "cell_type": "code",
   "execution_count": 58,
   "id": "72acbd4f",
   "metadata": {},
   "outputs": [],
   "source": [
    "clean()"
   ]
  },
  {
   "cell_type": "code",
   "execution_count": 59,
   "id": "059cdd08",
   "metadata": {},
   "outputs": [
    {
     "data": {
      "text/plain": [
       "(4, 4, 3)"
      ]
     },
     "execution_count": 59,
     "metadata": {},
     "output_type": "execute_result"
    }
   ],
   "source": [
    "# make some data\n",
    "# we'll assume we have (2+1)D data - i.e. several 2D arrays in a single Array instance.\n",
    "# The code below makes 3 4x4 arrays, and then combines them into a single array\n",
    "\n",
    "data = np.dstack([\n",
    "    np.arange(16).reshape(4,4),\n",
    "    np.eye(4),\n",
    "    np.full((4,4),7.2)\n",
    "])\n",
    "\n",
    "data.shape"
   ]
  },
  {
   "cell_type": "code",
   "execution_count": 60,
   "id": "20df8d16",
   "metadata": {},
   "outputs": [],
   "source": [
    "# make the Array\n",
    "\n",
    "ar = emd.Array(\n",
    "    data = data,\n",
    "    name = 'my_stack_array',\n",
    "    units = 'intensity',\n",
    "    dims = [[0,3],\n",
    "            [0,0.6]],\n",
    "    dim_names = ['x','y'],\n",
    "    dim_units = ['nm','km'],\n",
    "    slicelabels = ['a','b','c']  # the last dimension is the 'stacking' dimension\n",
    ")"
   ]
  },
  {
   "cell_type": "code",
   "execution_count": 61,
   "id": "6c55c17c",
   "metadata": {},
   "outputs": [
    {
     "data": {
      "text/plain": [
       "Array( A stack of 3 Arrays with 2-dimensions and shape (4, 4), called 'my_stack_array'\n",
       "\n",
       "       The labels are:\n",
       "           a\n",
       "           b\n",
       "           c\n",
       "\n",
       "\n",
       "       The Array dimensions are:\n",
       "           x = [0,3,...] nm\n",
       "           y = [0.0,0.6,...] km\n",
       ")"
      ]
     },
     "execution_count": 61,
     "metadata": {},
     "output_type": "execute_result"
    }
   ],
   "source": [
    "ar"
   ]
  },
  {
   "cell_type": "code",
   "execution_count": 62,
   "id": "01aadfd9",
   "metadata": {},
   "outputs": [
    {
     "name": "stdout",
     "output_type": "stream",
     "text": [
      "2\n",
      "3\n"
     ]
    }
   ],
   "source": [
    "# for some (N+1) dimesional stack array, the `.rank` attribute returns N\n",
    "# for non-stack arrays, `.rank` is identical to the numpy array property `.ndim`\n",
    "# for stack arrays, `.rank` is one less than `.ndim`\n",
    "\n",
    "print(ar.rank)\n",
    "print(ar.data.ndim)"
   ]
  },
  {
   "cell_type": "code",
   "execution_count": 63,
   "id": "a3172d74",
   "metadata": {},
   "outputs": [
    {
     "data": {
      "text/plain": [
       "3"
      ]
     },
     "execution_count": 63,
     "metadata": {},
     "output_type": "execute_result"
    }
   ],
   "source": [
    "# the `.depth` property gives the number of slices. For non-stack arrays, it is 0\n",
    "\n",
    "ar.depth"
   ]
  },
  {
   "cell_type": "markdown",
   "id": "73a4cca2",
   "metadata": {},
   "source": [
    "#### **TODO:** fix dim vector propagation!"
   ]
  },
  {
   "cell_type": "code",
   "execution_count": 64,
   "id": "37c0b32a",
   "metadata": {},
   "outputs": [
    {
     "data": {
      "text/plain": [
       "Array( A 2-dimensional array of shape (4, 4) called 'my_stack_array_a',\n",
       "       with dimensions:\n",
       "\n",
       "       x = [0,3,...] nm\n",
       "       dim1 = [0,1,...] pixels\n",
       ")"
      ]
     },
     "execution_count": 64,
     "metadata": {},
     "output_type": "execute_result"
    }
   ],
   "source": [
    "# the slices can be accessed by indexing into the array with string keys,\n",
    "# returning another Array\n",
    "\n",
    "ar['a']"
   ]
  },
  {
   "cell_type": "code",
   "execution_count": 65,
   "id": "1614e51a",
   "metadata": {},
   "outputs": [],
   "source": [
    "# Save it\n",
    "\n",
    "emd.save(fp, ar)"
   ]
  },
  {
   "cell_type": "code",
   "execution_count": 66,
   "id": "92aadfc2",
   "metadata": {},
   "outputs": [
    {
     "name": "stdout",
     "output_type": "stream",
     "text": [
      "Reading group /my_stack_array/my_stack_array\n"
     ]
    }
   ],
   "source": [
    "# Load it\n",
    "\n",
    "loaded_data = emd.read(fp)"
   ]
  },
  {
   "cell_type": "code",
   "execution_count": 67,
   "id": "ae4fb994",
   "metadata": {},
   "outputs": [
    {
     "data": {
      "text/plain": [
       "Root( A Node called 'my_stack_array', containing the following top-level objects in its tree:\n",
       "\n",
       "          my_stack_array \t\t (Array)\n",
       ")"
      ]
     },
     "execution_count": 67,
     "metadata": {},
     "output_type": "execute_result"
    }
   ],
   "source": [
    "# The loaded data is a Root\n",
    "\n",
    "loaded_data"
   ]
  },
  {
   "cell_type": "code",
   "execution_count": 68,
   "id": "1c12b689",
   "metadata": {},
   "outputs": [],
   "source": [
    "l_ar = loaded_data.tree('my_stack_array')"
   ]
  },
  {
   "cell_type": "code",
   "execution_count": 69,
   "id": "605c1260",
   "metadata": {
    "scrolled": true
   },
   "outputs": [
    {
     "data": {
      "text/plain": [
       "Array( A stack of 3 Arrays with 2-dimensions and shape (4, 4), called 'my_stack_array'\n",
       "\n",
       "       The labels are:\n",
       "           a\n",
       "           b\n",
       "           c\n",
       "\n",
       "\n",
       "       The Array dimensions are:\n",
       "           x = [0,3,...] nm\n",
       "           y = [0.0,0.6,...] km\n",
       ")"
      ]
     },
     "execution_count": 69,
     "metadata": {},
     "output_type": "execute_result"
    }
   ],
   "source": [
    "l_ar"
   ]
  },
  {
   "cell_type": "code",
   "execution_count": 70,
   "id": "51c24b76",
   "metadata": {},
   "outputs": [],
   "source": [
    "# check that all properties loaded correctly\n",
    "\n",
    "assert(np.array_equal(ar.data, l_ar.data))\n",
    "\n",
    "for idx in range(2):\n",
    "    assert(ar.dim_names[idx] == l_ar.dim_names[idx])\n",
    "    assert(ar.dim_units[idx] == l_ar.dim_units[idx])\n",
    "    assert(np.array_equal(ar.dims[idx], l_ar.dims[idx]))"
   ]
  },
  {
   "cell_type": "code",
   "execution_count": 71,
   "id": "34167b26",
   "metadata": {},
   "outputs": [],
   "source": [
    "# check that all slices are the same\n",
    "\n",
    "for key in ar.slicelabels:\n",
    "    assert(np.array_equal( ar[key].data, l_ar[key].data ))"
   ]
  },
  {
   "cell_type": "markdown",
   "id": "a0c51927",
   "metadata": {},
   "source": [
    "## 2.2 adding `Metadata` dictionaries\n",
    "\n",
    "We've seen above that the `emd.Metadata` class wraps python dictionaries.  The `emd.Array` class, along with the other data classes we'll see a little later, can store any number of these metadata dictionaries, and they'll be carried along during write/read steps in the background"
   ]
  },
  {
   "cell_type": "code",
   "execution_count": 72,
   "id": "48b30911",
   "metadata": {},
   "outputs": [],
   "source": [
    "clean()"
   ]
  },
  {
   "cell_type": "code",
   "execution_count": 73,
   "id": "a32c0e1d",
   "metadata": {},
   "outputs": [
    {
     "name": "stdout",
     "output_type": "stream",
     "text": [
      "Metadata( A Metadata instance called 'very_important_metadata', containing the following fields:\n",
      "\n",
      "          clouds:    taste metallic\n",
      "          yoshimi:   battles the pink robots\n",
      ")\n",
      "Metadata( A Metadata instance called 'questionable_important_metadata', containing the following fields:\n",
      "\n",
      "          quartz:   7\n",
      "          TaS2:     [2, 4, 6]\n",
      ")\n"
     ]
    }
   ],
   "source": [
    "# Make some metadata instances\n",
    "\n",
    "md1 = emd.Metadata(name = 'very_important_metadata')\n",
    "md1['clouds'] = 'taste metallic'\n",
    "md1['yoshimi'] = 'battles the pink robots'\n",
    "\n",
    "md2 = emd.Metadata(name = 'questionable_important_metadata')\n",
    "md2['quartz'] = 7\n",
    "md2['TaS2'] = [2,4,6]\n",
    "\n",
    "print(md1)\n",
    "print(md2)"
   ]
  },
  {
   "cell_type": "code",
   "execution_count": 74,
   "id": "bafa667b",
   "metadata": {},
   "outputs": [],
   "source": [
    "# Make an Array\n",
    "\n",
    "ar = emd.Array(\n",
    "    name = 'pi',\n",
    "    data = np.array(\n",
    "        [[3,1,4],\n",
    "         [1,5,9],\n",
    "         [2,6,5]]\n",
    "    )\n",
    ")"
   ]
  },
  {
   "cell_type": "code",
   "execution_count": 75,
   "id": "77bfe67a",
   "metadata": {},
   "outputs": [
    {
     "data": {
      "text/plain": [
       "Array( A 2-dimensional array of shape (3, 3) called 'pi',\n",
       "       with dimensions:\n",
       "\n",
       "       dim0 = [0,1,...] pixels\n",
       "       dim1 = [0,1,...] pixels\n",
       ")"
      ]
     },
     "execution_count": 75,
     "metadata": {},
     "output_type": "execute_result"
    }
   ],
   "source": [
    "ar"
   ]
  },
  {
   "cell_type": "code",
   "execution_count": 76,
   "id": "6a3ae4bd",
   "metadata": {},
   "outputs": [
    {
     "data": {
      "text/plain": [
       "{}"
      ]
     },
     "execution_count": 76,
     "metadata": {},
     "output_type": "execute_result"
    }
   ],
   "source": [
    "ar.metadata"
   ]
  },
  {
   "cell_type": "code",
   "execution_count": 77,
   "id": "3327a89e",
   "metadata": {},
   "outputs": [],
   "source": [
    "# Add the metadata\n",
    "\n",
    "# Note that `.metadata` is a property, not a regular attribute, so the code below\n",
    "# doesn't overwrite `md1` with `md2` - instead, both are added to the `.metadata` dictionary,\n",
    "# with keys corresponding to their names\n",
    "\n",
    "ar.metadata = md1\n",
    "ar.metadata = md2"
   ]
  },
  {
   "cell_type": "code",
   "execution_count": 78,
   "id": "43bfae85",
   "metadata": {},
   "outputs": [
    {
     "data": {
      "text/plain": [
       "{'very_important_metadata': Metadata( A Metadata instance called 'very_important_metadata', containing the following fields:\n",
       " \n",
       "           clouds:    taste metallic\n",
       "           yoshimi:   battles the pink robots\n",
       " ),\n",
       " 'questionable_important_metadata': Metadata( A Metadata instance called 'questionable_important_metadata', containing the following fields:\n",
       " \n",
       "           quartz:   7\n",
       "           TaS2:     [2, 4, 6]\n",
       " )}"
      ]
     },
     "execution_count": 78,
     "metadata": {},
     "output_type": "execute_result"
    }
   ],
   "source": [
    "ar.metadata"
   ]
  },
  {
   "cell_type": "code",
   "execution_count": 79,
   "id": "62d68f80",
   "metadata": {},
   "outputs": [],
   "source": [
    "# Save it\n",
    "\n",
    "emd.save(fp, ar)"
   ]
  },
  {
   "cell_type": "code",
   "execution_count": 80,
   "id": "5ae6fd33",
   "metadata": {},
   "outputs": [
    {
     "name": "stdout",
     "output_type": "stream",
     "text": [
      "Reading group /pi/pi\n"
     ]
    }
   ],
   "source": [
    "# Load it\n",
    "\n",
    "loaded_data = emd.read(fp)"
   ]
  },
  {
   "cell_type": "code",
   "execution_count": 81,
   "id": "07511595",
   "metadata": {},
   "outputs": [
    {
     "data": {
      "text/plain": [
       "Root( A Node called 'pi', containing the following top-level objects in its tree:\n",
       "\n",
       "          pi \t\t (Array)\n",
       ")"
      ]
     },
     "execution_count": 81,
     "metadata": {},
     "output_type": "execute_result"
    }
   ],
   "source": [
    "loaded_data"
   ]
  },
  {
   "cell_type": "code",
   "execution_count": 82,
   "id": "b3074ed0",
   "metadata": {},
   "outputs": [
    {
     "data": {
      "text/plain": [
       "Array( A 2-dimensional array of shape (3, 3) called 'pi',\n",
       "       with dimensions:\n",
       "\n",
       "       dim0 = [0,1,...] pixels\n",
       "       dim1 = [0,1,...] pixels\n",
       ")"
      ]
     },
     "execution_count": 82,
     "metadata": {},
     "output_type": "execute_result"
    }
   ],
   "source": [
    "l_ar = loaded_data.tree('pi')\n",
    "\n",
    "l_ar"
   ]
  },
  {
   "cell_type": "code",
   "execution_count": 83,
   "id": "ef5d23cc",
   "metadata": {},
   "outputs": [
    {
     "data": {
      "text/plain": [
       "array([[3, 1, 4],\n",
       "       [1, 5, 9],\n",
       "       [2, 6, 5]])"
      ]
     },
     "execution_count": 83,
     "metadata": {},
     "output_type": "execute_result"
    }
   ],
   "source": [
    "l_ar.data"
   ]
  },
  {
   "cell_type": "code",
   "execution_count": 84,
   "id": "93312a3d",
   "metadata": {},
   "outputs": [
    {
     "data": {
      "text/plain": [
       "{'questionable_important_metadata': Metadata( A Metadata instance called 'questionable_important_metadata', containing the following fields:\n",
       " \n",
       "           TaS2:     [2, 4, 6]\n",
       "           quartz:   7\n",
       " ),\n",
       " 'very_important_metadata': Metadata( A Metadata instance called 'very_important_metadata', containing the following fields:\n",
       " \n",
       "           clouds:    taste metallic\n",
       "           yoshimi:   battles the pink robots\n",
       " )}"
      ]
     },
     "execution_count": 84,
     "metadata": {},
     "output_type": "execute_result"
    }
   ],
   "source": [
    "# confirm that the metadata is all there\n",
    "\n",
    "l_ar.metadata"
   ]
  },
  {
   "cell_type": "code",
   "execution_count": 85,
   "id": "07630e71",
   "metadata": {},
   "outputs": [],
   "source": [
    "# and confirm the same programatically\n",
    "\n",
    "for k in ar.metadata.keys():\n",
    "    md_i,md_f = ar.metadata[k],l_ar.metadata[k]\n",
    "    for k in md_i.keys:\n",
    "        assert( md_i[k] == md_f[k] )"
   ]
  },
  {
   "cell_type": "markdown",
   "id": "db9c0ca5",
   "metadata": {},
   "source": [
    "## 2.3 EMD data trees\n",
    "\n",
    "The ability to build, save, extend, and read whole trees of data at once is the core utility of the `emd` package.  Various aspects of this functionality are accessed via the `.tree` function.  Trees can only be built on top of roots.  Here we build, save, and retrieve a tree made entirely of Arrays."
   ]
  },
  {
   "cell_type": "code",
   "execution_count": 86,
   "id": "89aeed0d",
   "metadata": {},
   "outputs": [],
   "source": [
    "clean()"
   ]
  },
  {
   "cell_type": "code",
   "execution_count": 87,
   "id": "40a52884",
   "metadata": {},
   "outputs": [],
   "source": [
    "# Build some arrays\n",
    "\n",
    "ar1 = emd.Array(\n",
    "    name = 'array1',\n",
    "    data = np.arange(np.prod((3,4,5,6))).reshape((3,4,5,6))\n",
    ")\n",
    "ar2 = emd.Array(\n",
    "    name = 'array1_mean',\n",
    "    data = np.mean(ar1.data,axis=(2,3))\n",
    ")\n",
    "ar3 = emd.Array(\n",
    "    name = 'array1_max',\n",
    "    data = np.max(ar1.data,axis=(2,3))\n",
    ")\n",
    "ar4 = emd.Array(\n",
    "    name = 'array1_mean_sq',\n",
    "    data = ar2.data**2\n",
    ")"
   ]
  },
  {
   "cell_type": "code",
   "execution_count": 88,
   "id": "50bcdc4d",
   "metadata": {},
   "outputs": [
    {
     "name": "stdout",
     "output_type": "stream",
     "text": [
      "/\n"
     ]
    }
   ],
   "source": [
    "# The `.tree` method has several modes, depending on the arguments it receives\n",
    "# When nothing is passed, it prints the tree of objects under the current data instance\n",
    "# Because we've added nothing to the tree so far, the tree under `ar1` is nothing,\n",
    "# represented here by the string '/'\n",
    "\n",
    "ar1.tree()"
   ]
  },
  {
   "cell_type": "code",
   "execution_count": 89,
   "id": "a06b5b9d",
   "metadata": {},
   "outputs": [
    {
     "ename": "AssertionError",
     "evalue": "Can't add objects to an unrooted node. See the Node docstring for more info.",
     "output_type": "error",
     "traceback": [
      "\u001b[0;31m---------------------------------------------------------------------------\u001b[0m",
      "\u001b[0;31mAssertionError\u001b[0m                            Traceback (most recent call last)",
      "Input \u001b[0;32mIn [89]\u001b[0m, in \u001b[0;36m<cell line: 4>\u001b[0;34m()\u001b[0m\n\u001b[1;32m      1\u001b[0m \u001b[38;5;66;03m# When `data1.tree(data2)` is called, if both `data1` and `data2` are emd data objects, \u001b[39;00m\n\u001b[1;32m      2\u001b[0m \u001b[38;5;66;03m# `data2` is added to the tree of `data1`. However, the code below will fail......\u001b[39;00m\n\u001b[0;32m----> 4\u001b[0m \u001b[43mar1\u001b[49m\u001b[38;5;241;43m.\u001b[39;49m\u001b[43mtree\u001b[49m\u001b[43m(\u001b[49m\u001b[43mar2\u001b[49m\u001b[43m)\u001b[49m\n\u001b[1;32m      5\u001b[0m ar1\u001b[38;5;241m.\u001b[39mtree()\n",
      "File \u001b[0;32m~/work/projects/ncem/self/py4dstem/py4dstem/py4DSTEM/emd/classes/tree.py:321\u001b[0m, in \u001b[0;36mNode.tree\u001b[0;34m(self, arg, **kwargs)\u001b[0m\n\u001b[1;32m    319\u001b[0m     \u001b[38;5;28;01mreturn\u001b[39;00m\n\u001b[1;32m    320\u001b[0m \u001b[38;5;28;01melif\u001b[39;00m \u001b[38;5;28misinstance\u001b[39m(arg,Node):\n\u001b[0;32m--> 321\u001b[0m     \u001b[38;5;28;43mself\u001b[39;49m\u001b[38;5;241;43m.\u001b[39;49m\u001b[43madd_to_tree\u001b[49m\u001b[43m(\u001b[49m\u001b[43marg\u001b[49m\u001b[43m)\u001b[49m\n\u001b[1;32m    322\u001b[0m     \u001b[38;5;28;01mreturn\u001b[39;00m\n\u001b[1;32m    323\u001b[0m \u001b[38;5;28;01melif\u001b[39;00m \u001b[38;5;28misinstance\u001b[39m(arg,\u001b[38;5;28mstr\u001b[39m):\n",
      "File \u001b[0;32m~/work/projects/ncem/self/py4dstem/py4dstem/py4DSTEM/emd/classes/tree.py:198\u001b[0m, in \u001b[0;36mNode.add_to_tree\u001b[0;34m(self, node)\u001b[0m\n\u001b[1;32m    192\u001b[0m \u001b[38;5;124;03m\"\"\"\u001b[39;00m\n\u001b[1;32m    193\u001b[0m \u001b[38;5;124;03mAdd an unrooted node as a child of the current, rooted node.\u001b[39;00m\n\u001b[1;32m    194\u001b[0m \u001b[38;5;124;03mTo move an already rooted node/branch, use `.graft()`.\u001b[39;00m\n\u001b[1;32m    195\u001b[0m \u001b[38;5;124;03mTo create a rooted node, use `Root()`.\u001b[39;00m\n\u001b[1;32m    196\u001b[0m \u001b[38;5;124;03m\"\"\"\u001b[39;00m\n\u001b[1;32m    197\u001b[0m \u001b[38;5;28;01massert\u001b[39;00m(\u001b[38;5;28misinstance\u001b[39m(node,Node))\n\u001b[0;32m--> 198\u001b[0m \u001b[38;5;28;01massert\u001b[39;00m(\u001b[38;5;28mself\u001b[39m\u001b[38;5;241m.\u001b[39mroot \u001b[38;5;129;01mis\u001b[39;00m \u001b[38;5;129;01mnot\u001b[39;00m \u001b[38;5;28;01mNone\u001b[39;00m), \u001b[38;5;124m\"\u001b[39m\u001b[38;5;124mCan\u001b[39m\u001b[38;5;124m'\u001b[39m\u001b[38;5;124mt add objects to an unrooted node. See the Node docstring for more info.\u001b[39m\u001b[38;5;124m\"\u001b[39m\n\u001b[1;32m    199\u001b[0m \u001b[38;5;28;01massert\u001b[39;00m(node\u001b[38;5;241m.\u001b[39mroot \u001b[38;5;129;01mis\u001b[39;00m \u001b[38;5;28;01mNone\u001b[39;00m), \u001b[38;5;124m\"\u001b[39m\u001b[38;5;124mCan\u001b[39m\u001b[38;5;124m'\u001b[39m\u001b[38;5;124mt add a rooted node to a different tree.  Use `.tree(graft=node)` instead.\u001b[39m\u001b[38;5;124m\"\u001b[39m\n\u001b[1;32m    200\u001b[0m node\u001b[38;5;241m.\u001b[39m_root \u001b[38;5;241m=\u001b[39m \u001b[38;5;28mself\u001b[39m\u001b[38;5;241m.\u001b[39m_root\n",
      "\u001b[0;31mAssertionError\u001b[0m: Can't add objects to an unrooted node. See the Node docstring for more info."
     ]
    }
   ],
   "source": [
    "# When `data1.tree(data2)` is called, if both `data1` and `data2` are emd data objects, \n",
    "# `data2` is added to the tree of `data1`. However, the code below will fail......\n",
    "\n",
    "ar1.tree(ar2)\n",
    "ar1.tree()"
   ]
  },
  {
   "cell_type": "code",
   "execution_count": 90,
   "id": "11ab8464",
   "metadata": {},
   "outputs": [
    {
     "data": {
      "text/plain": [
       "Root( A Node called 'root', containing the following top-level objects in its tree:\n",
       "\n",
       ")"
      ]
     },
     "execution_count": 90,
     "metadata": {},
     "output_type": "execute_result"
    }
   ],
   "source": [
    "# ...because trees can't exist without roots.\n",
    "# To build a tree, first we need to make a root, and then we can build from there\n",
    "\n",
    "root = emd.Root(name = 'root')\n",
    "root"
   ]
  },
  {
   "cell_type": "code",
   "execution_count": 91,
   "id": "5b9733bf",
   "metadata": {},
   "outputs": [
    {
     "name": "stdout",
     "output_type": "stream",
     "text": [
      "/\n",
      "|--array1\n"
     ]
    }
   ],
   "source": [
    "# Now we can an array to the root\n",
    "\n",
    "root.tree(ar1)\n",
    "root.tree()"
   ]
  },
  {
   "cell_type": "code",
   "execution_count": 92,
   "id": "7ec26c89",
   "metadata": {},
   "outputs": [
    {
     "name": "stdout",
     "output_type": "stream",
     "text": [
      "/\n",
      "|--array1_mean\n"
     ]
    }
   ],
   "source": [
    "# ...and now that `ar1` is rooted, adding `ar2` to it will work\n",
    "\n",
    "ar1.tree(ar2)\n",
    "ar1.tree()"
   ]
  },
  {
   "cell_type": "code",
   "execution_count": 93,
   "id": "dd79428a",
   "metadata": {},
   "outputs": [
    {
     "name": "stdout",
     "output_type": "stream",
     "text": [
      "/\n",
      "|--array1\n",
      "\t|--array1_mean\n"
     ]
    }
   ],
   "source": [
    "root.tree()"
   ]
  },
  {
   "cell_type": "code",
   "execution_count": 94,
   "id": "fdfb85de",
   "metadata": {},
   "outputs": [
    {
     "name": "stdout",
     "output_type": "stream",
     "text": [
      "/\n"
     ]
    }
   ],
   "source": [
    "ar2.tree()"
   ]
  },
  {
   "cell_type": "code",
   "execution_count": 95,
   "id": "f54046f0",
   "metadata": {},
   "outputs": [
    {
     "name": "stdout",
     "output_type": "stream",
     "text": [
      "/\n",
      "|--array1\n",
      "\t|--array1_mean\n"
     ]
    }
   ],
   "source": [
    "# we can display the whole tree, from the root, from any node \n",
    "\n",
    "ar2.tree(show=True)"
   ]
  },
  {
   "cell_type": "code",
   "execution_count": 96,
   "id": "0fa89df3",
   "metadata": {},
   "outputs": [
    {
     "name": "stdout",
     "output_type": "stream",
     "text": [
      "/\n",
      "|--array1\n",
      "\t|--array1_mean\n",
      "\t|\t|--array1_mean_sq\n",
      "\t|--array1_max\n"
     ]
    }
   ],
   "source": [
    "ar1.tree(ar3)\n",
    "ar2.tree(ar4)\n",
    "\n",
    "root.tree()"
   ]
  },
  {
   "cell_type": "code",
   "execution_count": 97,
   "id": "4cb2552f",
   "metadata": {},
   "outputs": [
    {
     "data": {
      "text/plain": [
       "Root( A Node called 'root', containing the following top-level objects in its tree:\n",
       "\n",
       "          array1 \t\t (Array)\n",
       ")"
      ]
     },
     "execution_count": 97,
     "metadata": {},
     "output_type": "execute_result"
    }
   ],
   "source": [
    "# the root is accessible from anywhere in the tree\n",
    "\n",
    "ar4.root"
   ]
  },
  {
   "cell_type": "code",
   "execution_count": 98,
   "id": "d2f18ef2",
   "metadata": {},
   "outputs": [],
   "source": [
    "assert(root == ar1.root == ar2.root == ar3.root == ar4.root)"
   ]
  },
  {
   "cell_type": "code",
   "execution_count": 99,
   "id": "087c9411",
   "metadata": {},
   "outputs": [],
   "source": [
    "# Let's add some metadata\n",
    "\n",
    "ar1.metadata = emd.Metadata(\n",
    "    name = 'some_metadata',\n",
    "    data = {\n",
    "        'x' : 1,\n",
    "        'y' : 2\n",
    "    }\n",
    ")\n",
    "ar4.metadata = emd.Metadata(\n",
    "    name = 'other_metadata',\n",
    "    data = {\n",
    "        'q' : 7,\n",
    "        'r' : 2.1\n",
    "    }\n",
    ")\n",
    "root.metadata = emd.Metadata(\n",
    "    name = 'root_metadata',\n",
    "    data = {\n",
    "        'zamboni' : 'baloney',\n",
    "        'pineapple' : 'house'\n",
    "    }\n",
    ")"
   ]
  },
  {
   "cell_type": "code",
   "execution_count": 100,
   "id": "b528baa3",
   "metadata": {},
   "outputs": [],
   "source": [
    "# Save\n",
    "\n",
    "emd.save(fp, root)"
   ]
  },
  {
   "cell_type": "code",
   "execution_count": 101,
   "id": "fd627cf1",
   "metadata": {},
   "outputs": [
    {
     "name": "stdout",
     "output_type": "stream",
     "text": [
      "Reading group /root/array1\n",
      "Reading group /root/array1/array1_max\n",
      "Reading group /root/array1/array1_mean\n",
      "Reading group /root/array1/array1_mean/array1_mean_sq\n"
     ]
    }
   ],
   "source": [
    "# Read\n",
    "\n",
    "l_root = emd.read(fp)"
   ]
  },
  {
   "cell_type": "code",
   "execution_count": 102,
   "id": "c6efa9a6",
   "metadata": {},
   "outputs": [
    {
     "data": {
      "text/plain": [
       "Root( A Node called 'root', containing the following top-level objects in its tree:\n",
       "\n",
       "          array1 \t\t (Array)\n",
       ")"
      ]
     },
     "execution_count": 102,
     "metadata": {},
     "output_type": "execute_result"
    }
   ],
   "source": [
    "l_root"
   ]
  },
  {
   "cell_type": "code",
   "execution_count": 103,
   "id": "605ae28f",
   "metadata": {},
   "outputs": [
    {
     "name": "stdout",
     "output_type": "stream",
     "text": [
      "/\n",
      "|--array1\n",
      "\t|--array1_max\n",
      "\t|--array1_mean\n",
      "\t\t|--array1_mean_sq\n"
     ]
    }
   ],
   "source": [
    "l_root.tree()"
   ]
  },
  {
   "cell_type": "code",
   "execution_count": 104,
   "id": "243923f7",
   "metadata": {},
   "outputs": [],
   "source": [
    "# data is accessed by passing the `.tree` function string inputs,\n",
    "# delimiting nodes with '/' characters\n",
    "\n",
    "l_ar1 = l_root.tree('array1')\n",
    "l_ar2 = l_root.tree('array1/array1_mean')\n",
    "l_ar3 = l_root.tree('array1/array1_max')\n",
    "l_ar4 = l_root.tree('array1/array1_mean/array1_mean_sq')\n",
    "\n",
    "assert(np.array_equal( ar1.data, l_ar1.data ))\n",
    "assert(np.array_equal( ar2.data, l_ar2.data ))\n",
    "assert(np.array_equal( ar3.data, l_ar3.data ))\n",
    "assert(np.array_equal( ar4.data, l_ar4.data ))"
   ]
  },
  {
   "cell_type": "code",
   "execution_count": 105,
   "id": "0a70c5e2",
   "metadata": {},
   "outputs": [],
   "source": [
    "# data can be accessed from downstream nodes with the same kind of syntax\n",
    "\n",
    "l_ar4_v2 = l_ar2.tree('array1_mean_sq')\n",
    "\n",
    "assert( l_ar4_v2 is l_ar4 )"
   ]
  },
  {
   "cell_type": "code",
   "execution_count": 106,
   "id": "96925ccb",
   "metadata": {},
   "outputs": [],
   "source": [
    "# data can be accessed from downstream nodes using root paths by adding a leading '/'\n",
    "\n",
    "l_ar4_v3 = l_ar2.tree('/array1/array1_mean/array1_mean_sq')\n",
    "\n",
    "assert( l_ar4_v3 is l_ar4_v2 is l_ar4 )"
   ]
  },
  {
   "cell_type": "code",
   "execution_count": 107,
   "id": "83c75d03",
   "metadata": {},
   "outputs": [],
   "source": [
    "# finally, the metadata all came along for the ride\n",
    "\n",
    "assert( root.metadata['root_metadata']._params == l_root.metadata['root_metadata']._params)\n",
    "assert( ar1.metadata['some_metadata']._params == l_ar1.metadata['some_metadata']._params)\n",
    "assert( ar4.metadata['other_metadata']._params == l_ar4.metadata['other_metadata']._params)"
   ]
  },
  {
   "cell_type": "markdown",
   "id": "25a283dd",
   "metadata": {},
   "source": [
    "# 3. Other data types\n",
    "\n",
    "The `emd.Array` class represents one type of data we can store at a node of an EMD tree.  In this section we show the other standard classes: `Node`, `PointList`, and `PointListArray`.  A final data node class type, `Custom`, allows a single node to contain any number of each of the other types - this will not be covered in this tutorial. "
   ]
  },
  {
   "cell_type": "markdown",
   "id": "a62dbbf9",
   "metadata": {},
   "source": [
    "## 3.1 `emd.Node`\n",
    "\n",
    "`emd.Node`s are the most basic data object.  They have a name, and may contain any number of Metadata instances."
   ]
  },
  {
   "cell_type": "code",
   "execution_count": 108,
   "id": "452e1063",
   "metadata": {},
   "outputs": [],
   "source": [
    "clean()"
   ]
  },
  {
   "cell_type": "code",
   "execution_count": 109,
   "id": "e1b7a4ca",
   "metadata": {},
   "outputs": [
    {
     "data": {
      "text/plain": [
       "Node( A Node called 'my_node', containing the following top-level objects in its tree:\n",
       "\n",
       ")"
      ]
     },
     "execution_count": 109,
     "metadata": {},
     "output_type": "execute_result"
    }
   ],
   "source": [
    "# Make the node\n",
    "\n",
    "node = emd.Node( name = 'my_node' )\n",
    "\n",
    "node"
   ]
  },
  {
   "cell_type": "code",
   "execution_count": 110,
   "id": "71ac16b3",
   "metadata": {},
   "outputs": [
    {
     "data": {
      "text/plain": [
       "{}"
      ]
     },
     "execution_count": 110,
     "metadata": {},
     "output_type": "execute_result"
    }
   ],
   "source": [
    "# The .metadata dictionary is instantiated empty\n",
    "\n",
    "node.metadata"
   ]
  },
  {
   "cell_type": "code",
   "execution_count": 111,
   "id": "1918f0c0",
   "metadata": {},
   "outputs": [
    {
     "data": {
      "text/plain": [
       "{'jabberwock': Metadata( A Metadata instance called 'jabberwock', containing the following fields:\n",
       " \n",
       "           twas:     brillig\n",
       "           slithy:   toves\n",
       " ),\n",
       " 'shepherd': Metadata( A Metadata instance called 'shepherd', containing the following fields:\n",
       " \n",
       "           woods:     Arcady\n",
       "           antique:   joy\n",
       " )}"
      ]
     },
     "execution_count": 111,
     "metadata": {},
     "output_type": "execute_result"
    }
   ],
   "source": [
    "# Let's add some metadata\n",
    "\n",
    "# make dictionaries\n",
    "some_metadata = {\n",
    "    'twas' : 'brillig',\n",
    "    'slithy' : 'toves'\n",
    "}\n",
    "some_other_metadata = {\n",
    "    'woods' : 'Arcady',\n",
    "    'antique' : 'joy'\n",
    "}\n",
    "\n",
    "# add as Metadata to node\n",
    "node.metadata = emd.Metadata(\n",
    "    name = 'jabberwock',\n",
    "    data = some_metadata\n",
    ")\n",
    "node.metadata = emd.Metadata(\n",
    "    name = 'shepherd',\n",
    "    data = some_other_metadata\n",
    ")\n",
    "\n",
    "# take a look\n",
    "node.metadata"
   ]
  },
  {
   "cell_type": "code",
   "execution_count": 112,
   "id": "32764fc4",
   "metadata": {},
   "outputs": [],
   "source": [
    "# write\n",
    "\n",
    "emd.save(fp, node)"
   ]
  },
  {
   "cell_type": "code",
   "execution_count": 113,
   "id": "76caead1",
   "metadata": {},
   "outputs": [
    {
     "name": "stdout",
     "output_type": "stream",
     "text": [
      "Reading group /my_node/my_node\n"
     ]
    },
    {
     "data": {
      "text/plain": [
       "Root( A Node called 'my_node', containing the following top-level objects in its tree:\n",
       "\n",
       "          my_node \t\t (Node)\n",
       ")"
      ]
     },
     "execution_count": 113,
     "metadata": {},
     "output_type": "execute_result"
    }
   ],
   "source": [
    "# read\n",
    "\n",
    "loaded_data = emd.read(fp)\n",
    "\n",
    "loaded_data"
   ]
  },
  {
   "cell_type": "code",
   "execution_count": 114,
   "id": "fc27797c",
   "metadata": {},
   "outputs": [
    {
     "data": {
      "text/plain": [
       "Node( A Node called 'my_node', containing the following top-level objects in its tree:\n",
       "\n",
       ")"
      ]
     },
     "execution_count": 114,
     "metadata": {},
     "output_type": "execute_result"
    }
   ],
   "source": [
    "# Get the loaded node\n",
    "\n",
    "l_node = loaded_data.tree('my_node')\n",
    "\n",
    "l_node"
   ]
  },
  {
   "cell_type": "code",
   "execution_count": 115,
   "id": "0c331f06",
   "metadata": {},
   "outputs": [
    {
     "data": {
      "text/plain": [
       "{'jabberwock': Metadata( A Metadata instance called 'jabberwock', containing the following fields:\n",
       " \n",
       "           slithy:   toves\n",
       "           twas:     brillig\n",
       " ),\n",
       " 'shepherd': Metadata( A Metadata instance called 'shepherd', containing the following fields:\n",
       " \n",
       "           antique:   joy\n",
       "           woods:     Arcady\n",
       " )}"
      ]
     },
     "execution_count": 115,
     "metadata": {},
     "output_type": "execute_result"
    }
   ],
   "source": [
    "l_node.metadata"
   ]
  },
  {
   "cell_type": "code",
   "execution_count": 116,
   "id": "13443641",
   "metadata": {},
   "outputs": [],
   "source": [
    "# and confirm that everything is the same\n",
    "\n",
    "for k in node.metadata.keys():\n",
    "    md_i,md_f = node.metadata[k],l_node.metadata[k]\n",
    "    for k in md_i.keys:\n",
    "        assert( md_i[k] == md_f[k] )"
   ]
  },
  {
   "cell_type": "markdown",
   "id": "3785f7b4",
   "metadata": {},
   "source": [
    "## 3.2 `emd.PointList`\n",
    "\n",
    "`emd.PointList` instances wrap 1D numpy structured arrays.  A `PointList`s data attribute can have any length, with any number of string-named fields, and each field may have its own data type.  Unlike Array's, PointLists have variable length that can change at runtime.  Like all other emd data objects, they can hold any number of Metadata instances."
   ]
  },
  {
   "cell_type": "code",
   "execution_count": 117,
   "id": "47c64f90",
   "metadata": {},
   "outputs": [],
   "source": [
    "clean()"
   ]
  },
  {
   "cell_type": "code",
   "execution_count": 118,
   "id": "70d3f90c",
   "metadata": {},
   "outputs": [
    {
     "data": {
      "text/plain": [
       "array([(0, 0.), (0, 0.), (0, 0.), (0, 0.), (0, 0.)],\n",
       "      dtype=[('x', '<i8'), ('y', '<f8')])"
      ]
     },
     "execution_count": 118,
     "metadata": {},
     "output_type": "execute_result"
    }
   ],
   "source": [
    "# make some data\n",
    "# here we define the fields by specifying a custom `dtype` for numpy\n",
    "\n",
    "data = np.zeros(\n",
    "    5,\n",
    "    dtype = [\n",
    "        ('x',int),\n",
    "        ('y',float)\n",
    "    ]\n",
    ")\n",
    "\n",
    "data"
   ]
  },
  {
   "cell_type": "code",
   "execution_count": 119,
   "id": "fe1bff50",
   "metadata": {},
   "outputs": [
    {
     "data": {
      "text/plain": [
       "PointList( A length 5 PointList called 'my_pointlist',\n",
       "           with 2 fields:\n",
       "\n",
       "           x   (int64)\n",
       "           y   (float64)\n",
       ")"
      ]
     },
     "execution_count": 119,
     "metadata": {},
     "output_type": "execute_result"
    }
   ],
   "source": [
    "# make a PointList\n",
    "\n",
    "pointlist = emd.PointList(\n",
    "    name = 'my_pointlist',\n",
    "    data = data\n",
    ")\n",
    "\n",
    "pointlist"
   ]
  },
  {
   "cell_type": "code",
   "execution_count": 120,
   "id": "6d2668e7",
   "metadata": {},
   "outputs": [
    {
     "data": {
      "text/plain": [
       "array([(0, 0.), (0, 0.), (0, 0.), (0, 0.), (0, 0.)],\n",
       "      dtype=[('x', '<i8'), ('y', '<f8')])"
      ]
     },
     "execution_count": 120,
     "metadata": {},
     "output_type": "execute_result"
    }
   ],
   "source": [
    "pointlist.data"
   ]
  },
  {
   "cell_type": "code",
   "execution_count": 121,
   "id": "23d8e29f",
   "metadata": {},
   "outputs": [
    {
     "name": "stdout",
     "output_type": "stream",
     "text": [
      "[0 0 0 0 0]\n",
      "[0. 0. 0. 0. 0.]\n"
     ]
    }
   ],
   "source": [
    "# the fields can be accessed by slicing directly into the PointList\n",
    "\n",
    "print(pointlist['x'])\n",
    "print(pointlist['y'])"
   ]
  },
  {
   "cell_type": "markdown",
   "id": "4e4cde24",
   "metadata": {},
   "source": [
    "#### Runtime modifications\n",
    "\n",
    "PointLists support runtime modifications including adding or removing data,\n",
    "adding data by field, adding new fields, sorting data by field, or copying the object"
   ]
  },
  {
   "cell_type": "code",
   "execution_count": 122,
   "id": "39e2f000",
   "metadata": {},
   "outputs": [
    {
     "data": {
      "text/plain": [
       "array([(0, 0.), (0, 0.), (0, 0.)], dtype=[('x', '<i8'), ('y', '<f8')])"
      ]
     },
     "execution_count": 122,
     "metadata": {},
     "output_type": "execute_result"
    }
   ],
   "source": [
    "# remove points\n",
    "\n",
    "# make a boolean mask\n",
    "rm = np.zeros(5,dtype = bool)\n",
    "rm[3:] = True        # flag the last two points\n",
    "\n",
    "# remove the last two point\n",
    "pointlist.remove(rm)\n",
    "\n",
    "# show\n",
    "pointlist.data"
   ]
  },
  {
   "cell_type": "code",
   "execution_count": 123,
   "id": "c8e06e6a",
   "metadata": {},
   "outputs": [
    {
     "data": {
      "text/plain": [
       "array([(0, 0.), (0, 0.), (0, 0.), (1, 1.), (1, 1.), (1, 1.)],\n",
       "      dtype=[('x', '<i8'), ('y', '<f8')])"
      ]
     },
     "execution_count": 123,
     "metadata": {},
     "output_type": "execute_result"
    }
   ],
   "source": [
    "# add points\n",
    "# the new data must have the same dtype as the existing data\n",
    "\n",
    "# make the new data\n",
    "new_data = np.ones(\n",
    "    3,\n",
    "    dtype = [\n",
    "        ('x',int),\n",
    "        ('y',float)\n",
    "    ]\n",
    ")\n",
    "\n",
    "# add it to the array\n",
    "pointlist.add(new_data)\n",
    "\n",
    "# show\n",
    "pointlist.data"
   ]
  },
  {
   "cell_type": "code",
   "execution_count": 124,
   "id": "3868373f",
   "metadata": {},
   "outputs": [
    {
     "data": {
      "text/plain": [
       "array([(0, 0.  ), (0, 0.  ), (0, 0.  ), (1, 1.  ), (1, 1.  ), (1, 1.  ),\n",
       "       (5, 5.  ), (6, 5.25), (7, 5.5 ), (8, 5.75), (9, 6.  )],\n",
       "      dtype=[('x', '<i8'), ('y', '<f8')])"
      ]
     },
     "execution_count": 124,
     "metadata": {},
     "output_type": "execute_result"
    }
   ],
   "source": [
    "# add data as 1D vectors corresponding to the fields\n",
    "\n",
    "pointlist.add_data_by_field(\n",
    "    data = (np.arange(5,10),np.linspace(5,6,num=5)),\n",
    "    fields = ('x','y')\n",
    ")\n",
    "\n",
    "pointlist.data"
   ]
  },
  {
   "cell_type": "code",
   "execution_count": 125,
   "id": "ed626dae",
   "metadata": {},
   "outputs": [
    {
     "data": {
      "text/plain": [
       "array([(0, 0.  , False), (0, 0.  , False), (0, 0.  , False),\n",
       "       (1, 1.  , False), (1, 1.  , False), (1, 1.  , False),\n",
       "       (5, 5.  , False), (6, 5.25, False), (7, 5.5 , False),\n",
       "       (8, 5.75, False), (9, 6.  , False)],\n",
       "      dtype=[('x', '<i8'), ('y', '<f8'), ('z', '?')])"
      ]
     },
     "execution_count": 125,
     "metadata": {},
     "output_type": "execute_result"
    }
   ],
   "source": [
    "# make a new pointlist like this one, with some additional fields added\n",
    "\n",
    "pointlist_copy = pointlist.add_fields(\n",
    "    [('z',bool)],\n",
    "    name = 'another_pointlist',\n",
    ")\n",
    "\n",
    "pointlist_copy.data"
   ]
  },
  {
   "cell_type": "code",
   "execution_count": 126,
   "id": "e3873c8c",
   "metadata": {},
   "outputs": [
    {
     "data": {
      "text/plain": [
       "array([(0, 0.  , False), (0, 0.  , False), (0, 0.  , False),\n",
       "       (1, 1.  , False), (1, 1.  , False), (1, 1.  , False),\n",
       "       (5, 5.  ,  True), (6, 5.25,  True), (7, 5.5 ,  True),\n",
       "       (8, 5.75,  True), (9, 6.  ,  True)],\n",
       "      dtype=[('x', '<i8'), ('y', '<f8'), ('z', '?')])"
      ]
     },
     "execution_count": 126,
     "metadata": {},
     "output_type": "execute_result"
    }
   ],
   "source": [
    "# modify values in an existing field\n",
    "\n",
    "pointlist_copy['z'][6:] = True\n",
    "\n",
    "pointlist_copy.data"
   ]
  },
  {
   "cell_type": "code",
   "execution_count": 127,
   "id": "61070e7f",
   "metadata": {},
   "outputs": [
    {
     "data": {
      "text/plain": [
       "array([(9, 6.  ,  True), (8, 5.75,  True), (7, 5.5 ,  True),\n",
       "       (6, 5.25,  True), (5, 5.  ,  True), (1, 1.  , False),\n",
       "       (1, 1.  , False), (1, 1.  , False), (0, 0.  , False),\n",
       "       (0, 0.  , False), (0, 0.  , False)],\n",
       "      dtype=[('x', '<i8'), ('y', '<f8'), ('z', '?')])"
      ]
     },
     "execution_count": 127,
     "metadata": {},
     "output_type": "execute_result"
    }
   ],
   "source": [
    "# Sort the pointlist by one of its fields\n",
    "\n",
    "pointlist_copy.sort('y', order='descending')\n",
    "\n",
    "pointlist_copy.data"
   ]
  },
  {
   "cell_type": "code",
   "execution_count": 128,
   "id": "cbf9b898",
   "metadata": {},
   "outputs": [
    {
     "data": {
      "text/plain": [
       "Metadata( A Metadata instance called 'evolution', containing the following fields:\n",
       "\n",
       "          pikachu:        raichi\n",
       "          thunderstone:   True\n",
       ")"
      ]
     },
     "execution_count": 128,
     "metadata": {},
     "output_type": "execute_result"
    }
   ],
   "source": [
    "# Add some metadata\n",
    "\n",
    "pointlist_copy.metadata = emd.Metadata(\n",
    "    name = 'evolution',\n",
    "    data = {\n",
    "        'pikachu' : 'raichi',\n",
    "        'thunderstone' : True\n",
    "    }\n",
    ")\n",
    "\n",
    "pointlist_copy.metadata['evolution']"
   ]
  },
  {
   "cell_type": "code",
   "execution_count": 129,
   "id": "a6c08fb7",
   "metadata": {},
   "outputs": [],
   "source": [
    "# save\n",
    "\n",
    "emd.save(fp, pointlist_copy)"
   ]
  },
  {
   "cell_type": "code",
   "execution_count": 130,
   "id": "c48879c6",
   "metadata": {},
   "outputs": [
    {
     "name": "stdout",
     "output_type": "stream",
     "text": [
      "Reading group /another_pointlist/another_pointlist\n"
     ]
    },
    {
     "data": {
      "text/plain": [
       "Root( A Node called 'another_pointlist', containing the following top-level objects in its tree:\n",
       "\n",
       "          another_pointlist \t\t (PointList)\n",
       ")"
      ]
     },
     "execution_count": 130,
     "metadata": {},
     "output_type": "execute_result"
    }
   ],
   "source": [
    "# read\n",
    "\n",
    "loaded_data = emd.read(fp)\n",
    "\n",
    "loaded_data"
   ]
  },
  {
   "cell_type": "code",
   "execution_count": 131,
   "id": "ecac728f",
   "metadata": {},
   "outputs": [
    {
     "data": {
      "text/plain": [
       "array([(9, 6.  ,  True), (8, 5.75,  True), (7, 5.5 ,  True),\n",
       "       (6, 5.25,  True), (5, 5.  ,  True), (1, 1.  , False),\n",
       "       (1, 1.  , False), (1, 1.  , False), (0, 0.  , False),\n",
       "       (0, 0.  , False), (0, 0.  , False)],\n",
       "      dtype=[('x', '<i8'), ('y', '<f8'), ('z', '?')])"
      ]
     },
     "execution_count": 131,
     "metadata": {},
     "output_type": "execute_result"
    }
   ],
   "source": [
    "# Get the pointlist\n",
    "\n",
    "l_pointlist = loaded_data.tree('another_pointlist')\n",
    "\n",
    "l_pointlist.data"
   ]
  },
  {
   "cell_type": "code",
   "execution_count": 132,
   "id": "7460de49",
   "metadata": {},
   "outputs": [],
   "source": [
    "# Check that the data loaded correctly\n",
    "\n",
    "assert(np.array_equal(pointlist_copy.data, l_pointlist.data))"
   ]
  },
  {
   "cell_type": "code",
   "execution_count": 133,
   "id": "7d7ac103",
   "metadata": {},
   "outputs": [],
   "source": [
    "# Check that the metadata loaded correctly\n",
    "\n",
    "for k in pointlist_copy.metadata.keys():\n",
    "    md_i,md_f = pointlist_copy.metadata[k],l_pointlist.metadata[k]\n",
    "    for k in md_i.keys:\n",
    "        assert( md_i[k] == md_f[k] )"
   ]
  },
  {
   "cell_type": "markdown",
   "id": "ffb0872f",
   "metadata": {},
   "source": [
    "## 3.3 `emd.PointListArray`\n",
    "\n",
    "`emd.PointListArray` represents 2D grids of PointList instances with the same data fields.  It stores 2D ragged arrays of vectors of any length with string-accessible fields."
   ]
  },
  {
   "cell_type": "code",
   "execution_count": 134,
   "id": "ddad175c",
   "metadata": {},
   "outputs": [],
   "source": [
    "clean()"
   ]
  },
  {
   "cell_type": "code",
   "execution_count": 135,
   "id": "2b2aa1fe",
   "metadata": {},
   "outputs": [
    {
     "data": {
      "text/plain": [
       "PointListArray( A shape (5, 6) PointListArray called 'my_pointlistarray',\n",
       "                with 2 fields:\n",
       "\n",
       "                x   (int64)\n",
       "                y   (int64)\n",
       ")"
      ]
     },
     "execution_count": 135,
     "metadata": {},
     "output_type": "execute_result"
    }
   ],
   "source": [
    "# make a PointListArray\n",
    "\n",
    "shape = (5,6)\n",
    "dtype = [('x',int),('y',int)]\n",
    "\n",
    "pointlistarray = emd.PointListArray(\n",
    "    name = 'my_pointlistarray',\n",
    "    shape = shape,\n",
    "    dtype = dtype\n",
    ")\n",
    "\n",
    "pointlistarray"
   ]
  },
  {
   "cell_type": "code",
   "execution_count": 136,
   "id": "816a7193",
   "metadata": {},
   "outputs": [
    {
     "data": {
      "text/plain": [
       "PointList( A length 0 PointList called '0,0',\n",
       "           with 2 fields:\n",
       "\n",
       "           x   (int64)\n",
       "           y   (int64)\n",
       ")"
      ]
     },
     "execution_count": 136,
     "metadata": {},
     "output_type": "execute_result"
    }
   ],
   "source": [
    "# the pointlists can be accessed by slicing into the pointlistarray\n",
    "\n",
    "pointlistarray[0,0]"
   ]
  },
  {
   "cell_type": "code",
   "execution_count": 137,
   "id": "05040a12",
   "metadata": {},
   "outputs": [
    {
     "data": {
      "text/plain": [
       "array([], dtype=[('x', '<i8'), ('y', '<i8')])"
      ]
     },
     "execution_count": 137,
     "metadata": {},
     "output_type": "execute_result"
    }
   ],
   "source": [
    "# and are instantiated empty\n",
    "\n",
    "pointlistarray[3,4].data"
   ]
  },
  {
   "cell_type": "code",
   "execution_count": 138,
   "id": "1d585cf2",
   "metadata": {},
   "outputs": [],
   "source": [
    "# we can populate the pointlists with the `add` method\n",
    "\n",
    "for ii in range(pointlistarray.shape[0]):\n",
    "    for jj in range(pointlistarray.shape[1]):\n",
    "        \n",
    "        # set an integer value that varies sinusoidally from 0 to 8\n",
    "        val = int(np.round((np.sin((ii*shape[1]+jj) * 2*np.pi / np.prod(shape)) + 1) * 4))\n",
    "        \n",
    "        # add to the pointlist\n",
    "        pointlistarray[ii,jj].add(\n",
    "            np.full(\n",
    "                shape = val,\n",
    "                fill_value= val,\n",
    "                dtype = dtype\n",
    "            )\n",
    "        )"
   ]
  },
  {
   "cell_type": "code",
   "execution_count": 139,
   "id": "460b082e",
   "metadata": {},
   "outputs": [
    {
     "data": {
      "text/plain": [
       "array([(4, 4), (4, 4), (4, 4), (4, 4)], dtype=[('x', '<i8'), ('y', '<i8')])"
      ]
     },
     "execution_count": 139,
     "metadata": {},
     "output_type": "execute_result"
    }
   ],
   "source": [
    "pointlistarray[0,0].data"
   ]
  },
  {
   "cell_type": "code",
   "execution_count": 140,
   "id": "1b9122aa",
   "metadata": {},
   "outputs": [
    {
     "name": "stdout",
     "output_type": "stream",
     "text": [
      "[(4, 4) (4, 4) (4, 4) (4, 4)]\n",
      "[(5, 5) (5, 5) (5, 5) (5, 5) (5, 5)]\n",
      "[(6, 6) (6, 6) (6, 6) (6, 6) (6, 6) (6, 6)]\n",
      "[(6, 6) (6, 6) (6, 6) (6, 6) (6, 6) (6, 6)]\n",
      "[(7, 7) (7, 7) (7, 7) (7, 7) (7, 7) (7, 7) (7, 7)]\n",
      "[(7, 7) (7, 7) (7, 7) (7, 7) (7, 7) (7, 7) (7, 7)]\n",
      "[(8, 8) (8, 8) (8, 8) (8, 8) (8, 8) (8, 8) (8, 8) (8, 8)]\n",
      "[(8, 8) (8, 8) (8, 8) (8, 8) (8, 8) (8, 8) (8, 8) (8, 8)]\n",
      "[(8, 8) (8, 8) (8, 8) (8, 8) (8, 8) (8, 8) (8, 8) (8, 8)]\n",
      "[(8, 8) (8, 8) (8, 8) (8, 8) (8, 8) (8, 8) (8, 8) (8, 8)]\n",
      "[(7, 7) (7, 7) (7, 7) (7, 7) (7, 7) (7, 7) (7, 7)]\n",
      "[(7, 7) (7, 7) (7, 7) (7, 7) (7, 7) (7, 7) (7, 7)]\n",
      "[(6, 6) (6, 6) (6, 6) (6, 6) (6, 6) (6, 6)]\n",
      "[(6, 6) (6, 6) (6, 6) (6, 6) (6, 6) (6, 6)]\n",
      "[(5, 5) (5, 5) (5, 5) (5, 5) (5, 5)]\n",
      "[(4, 4) (4, 4) (4, 4) (4, 4)]\n"
     ]
    }
   ],
   "source": [
    "print(pointlistarray[0,0].data)\n",
    "print(pointlistarray[0,1].data)\n",
    "print(pointlistarray[0,2].data)\n",
    "print(pointlistarray[0,3].data)\n",
    "print(pointlistarray[0,4].data)\n",
    "print(pointlistarray[0,5].data)\n",
    "print(pointlistarray[1,0].data)\n",
    "print(pointlistarray[1,1].data)\n",
    "print(pointlistarray[1,2].data)\n",
    "print(pointlistarray[1,3].data)\n",
    "print(pointlistarray[1,4].data)\n",
    "print(pointlistarray[1,5].data)\n",
    "print(pointlistarray[2,0].data)\n",
    "print(pointlistarray[2,1].data)\n",
    "print(pointlistarray[2,2].data)\n",
    "print(pointlistarray[2,3].data)"
   ]
  },
  {
   "cell_type": "code",
   "execution_count": 141,
   "id": "8606b2ce",
   "metadata": {},
   "outputs": [],
   "source": [
    "# add some metadata\n",
    "\n",
    "pointlistarray.metadata = emd.Metadata(\n",
    "    name = 'is_rodent',\n",
    "    data = {\n",
    "        'gerbil' : True,\n",
    "        'mouse' : True,\n",
    "        'pikachu' : True,\n",
    "        'bulbasaur' : 'False'\n",
    "    }\n",
    ")"
   ]
  },
  {
   "cell_type": "code",
   "execution_count": 142,
   "id": "60b403af",
   "metadata": {},
   "outputs": [
    {
     "name": "stderr",
     "output_type": "stream",
     "text": [
      "100%|███████████████████████████████████████████████████████████████████████████████████████████████████████████████████████████████████████████| 30/30 [00:00<00:00, 2585.35it/s]\n"
     ]
    }
   ],
   "source": [
    "# save\n",
    "\n",
    "emd.save(fp, pointlistarray)"
   ]
  },
  {
   "cell_type": "code",
   "execution_count": 143,
   "id": "ed0788a0",
   "metadata": {},
   "outputs": [
    {
     "name": "stderr",
     "output_type": "stream",
     "text": [
      "Reading PointListArray: 100%|████████████████████████████████████████████████████████████████████████████████████████████████████████████| 30/30 [00:00<00:00, 4469.79PointList/s]"
     ]
    },
    {
     "name": "stdout",
     "output_type": "stream",
     "text": [
      "Reading group /my_pointlistarray/my_pointlistarray\n"
     ]
    },
    {
     "name": "stderr",
     "output_type": "stream",
     "text": [
      "\n"
     ]
    },
    {
     "data": {
      "text/plain": [
       "Root( A Node called 'my_pointlistarray', containing the following top-level objects in its tree:\n",
       "\n",
       "          my_pointlistarray \t\t (PointListArray)\n",
       ")"
      ]
     },
     "execution_count": 143,
     "metadata": {},
     "output_type": "execute_result"
    }
   ],
   "source": [
    "# load\n",
    "\n",
    "loaded_data = emd.read(fp)\n",
    "\n",
    "loaded_data"
   ]
  },
  {
   "cell_type": "code",
   "execution_count": 144,
   "id": "c06ee290",
   "metadata": {},
   "outputs": [
    {
     "data": {
      "text/plain": [
       "PointListArray( A shape (5, 6) PointListArray called 'my_pointlistarray',\n",
       "                with 2 fields:\n",
       "\n",
       "                x   (int64)\n",
       "                y   (int64)\n",
       ")"
      ]
     },
     "execution_count": 144,
     "metadata": {},
     "output_type": "execute_result"
    }
   ],
   "source": [
    "# get the pointlistarray\n",
    "\n",
    "l_pointlistarray = loaded_data.tree('my_pointlistarray')\n",
    "\n",
    "l_pointlistarray"
   ]
  },
  {
   "cell_type": "code",
   "execution_count": 145,
   "id": "49c2e5db",
   "metadata": {},
   "outputs": [
    {
     "name": "stdout",
     "output_type": "stream",
     "text": [
      "[(4, 4) (4, 4) (4, 4) (4, 4)]\n",
      "[(5, 5) (5, 5) (5, 5) (5, 5) (5, 5)]\n",
      "[(6, 6) (6, 6) (6, 6) (6, 6) (6, 6) (6, 6)]\n",
      "[(6, 6) (6, 6) (6, 6) (6, 6) (6, 6) (6, 6)]\n",
      "[(7, 7) (7, 7) (7, 7) (7, 7) (7, 7) (7, 7) (7, 7)]\n",
      "[(7, 7) (7, 7) (7, 7) (7, 7) (7, 7) (7, 7) (7, 7)]\n",
      "[(8, 8) (8, 8) (8, 8) (8, 8) (8, 8) (8, 8) (8, 8) (8, 8)]\n",
      "[(8, 8) (8, 8) (8, 8) (8, 8) (8, 8) (8, 8) (8, 8) (8, 8)]\n",
      "[(8, 8) (8, 8) (8, 8) (8, 8) (8, 8) (8, 8) (8, 8) (8, 8)]\n",
      "[(8, 8) (8, 8) (8, 8) (8, 8) (8, 8) (8, 8) (8, 8) (8, 8)]\n",
      "[(7, 7) (7, 7) (7, 7) (7, 7) (7, 7) (7, 7) (7, 7)]\n",
      "[(7, 7) (7, 7) (7, 7) (7, 7) (7, 7) (7, 7) (7, 7)]\n",
      "[(6, 6) (6, 6) (6, 6) (6, 6) (6, 6) (6, 6)]\n",
      "[(6, 6) (6, 6) (6, 6) (6, 6) (6, 6) (6, 6)]\n",
      "[(5, 5) (5, 5) (5, 5) (5, 5) (5, 5)]\n",
      "[(4, 4) (4, 4) (4, 4) (4, 4)]\n",
      "[(3, 3) (3, 3) (3, 3)]\n",
      "[(2, 2) (2, 2)]\n",
      "[(2, 2) (2, 2)]\n",
      "[(1, 1)]\n",
      "[(1, 1)]\n",
      "[]\n",
      "[]\n",
      "[]\n",
      "[]\n",
      "[(1, 1)]\n",
      "[(1, 1)]\n",
      "[(2, 2) (2, 2)]\n",
      "[(2, 2) (2, 2)]\n",
      "[(3, 3) (3, 3) (3, 3)]\n"
     ]
    }
   ],
   "source": [
    "# check it\n",
    "\n",
    "for ii in range(l_pointlistarray.shape[0]):\n",
    "    for jj in range(l_pointlistarray.shape[1]):\n",
    "        \n",
    "        print(l_pointlistarray[ii,jj].data)\n",
    "        assert(np.array_equal(pointlistarray[ii,jj].data,\n",
    "                              l_pointlistarray[ii,jj].data))"
   ]
  },
  {
   "cell_type": "code",
   "execution_count": 146,
   "id": "50c7a8f0",
   "metadata": {},
   "outputs": [],
   "source": [
    "# metadata\n",
    "\n",
    "for k in pointlistarray.metadata.keys():\n",
    "    md_i,md_f = pointlistarray.metadata[k],l_pointlistarray.metadata[k]\n",
    "    for k in md_i.keys:\n",
    "        assert( md_i[k] == md_f[k] )"
   ]
  },
  {
   "cell_type": "markdown",
   "id": "af8c3b84",
   "metadata": {},
   "source": [
    "# 4. Trees\n",
    "\n",
    "The tree structure is the core of the `emd` package and format.  In this section we first look at building, saving, and restoring trees from file.  We look at basic tree methods for showing and retrieving data in trees.  Then we look at methods for modifying existing trees by cutting off branches, or grafting branches from one tree to another.  Root metadata is handled specially, and is discussed."
   ]
  },
  {
   "cell_type": "code",
   "execution_count": 147,
   "id": "049265e2",
   "metadata": {},
   "outputs": [],
   "source": [
    "# All the functionality shown in this section is accessed via the `.tree` method.\n",
    "# The usage of `.tree` can be specified by passing a keyword argument in (show, add, get, cut, graft).\n",
    "# In the first three cases, the keyword can be omitted, as long as the data passed has the correct type.\n",
    "\n",
    "node.tree?"
   ]
  },
  {
   "cell_type": "markdown",
   "id": "540dbf1f",
   "metadata": {},
   "source": [
    "## 4.1 Build a tree\n",
    "\n",
    "Let's make a tree with all these data types, write it, read it, and confirm that it worked."
   ]
  },
  {
   "cell_type": "code",
   "execution_count": 148,
   "id": "a58bced3",
   "metadata": {},
   "outputs": [],
   "source": [
    "clean()"
   ]
  },
  {
   "cell_type": "code",
   "execution_count": 149,
   "id": "6008bd14",
   "metadata": {},
   "outputs": [],
   "source": [
    "# make some data\n",
    "\n",
    "ar1 = emd.Array(\n",
    "    name = 'ar1',\n",
    "    data = np.arange(12).reshape((3,4))\n",
    ")\n",
    "ar2 = emd.Array(\n",
    "    name = 'ar2',\n",
    "    data = np.arange(24).reshape((3,4,2)),\n",
    "    slicelabels = ('a','b')\n",
    ")\n",
    "node = emd.Node(\n",
    "    name = 'immanode'\n",
    ")\n",
    "pointlist1 = emd.PointList(\n",
    "    name = 'pointlist1',\n",
    "    data = np.ones(\n",
    "        5,\n",
    "        dtype = [('rx',int),('ry',int)]\n",
    "    )\n",
    ")\n",
    "pointlist2 = emd.PointList(\n",
    "    name = 'pointlist2',\n",
    "    data = np.zeros(\n",
    "        6,\n",
    "        dtype = [('qx',float),('qy',float)]\n",
    "    )\n",
    ")\n",
    "pointlistarray = emd.PointListArray(\n",
    "    name = 'pointlistarray',\n",
    "    shape = (3,4),\n",
    "    dtype = [('yes',bool),('no',bool)]\n",
    ")\n",
    "for rx in range(pointlistarray.shape[0]):\n",
    "    for ry in range(pointlistarray.shape[1]):\n",
    "        pointlistarray[rx,ry].add(\n",
    "            np.ones(\n",
    "                int(ry + rx*pointlistarray.shape[1]),\n",
    "                dtype = [('yes',bool),('no',bool)]\n",
    "            )\n",
    "        )\n",
    "        \n",
    "# add some metadata\n",
    "pointlist1.metadata = emd.Metadata(\n",
    "    name = 'evolution',\n",
    "    data = {\n",
    "        'pikachu' : 'raichi',\n",
    "        'thunderstone' : True\n",
    "    }\n",
    ")\n",
    "pointlistarray.metadata = emd.Metadata(\n",
    "    name = 'is_rodent',\n",
    "    data = {\n",
    "        'gerbil' : True,\n",
    "        'mouse' : True,\n",
    "        'pikachu' : True,\n",
    "        'bulbasaur' : 'False'\n",
    "    }\n",
    ")"
   ]
  },
  {
   "cell_type": "code",
   "execution_count": 150,
   "id": "2fc78f8d",
   "metadata": {},
   "outputs": [
    {
     "name": "stdout",
     "output_type": "stream",
     "text": [
      "/\n",
      "|--immanode\n",
      "|\t|--pointlistarray\n",
      "|\t|\t|--pointlist1\n",
      "|\t|--ar2\n",
      "|--ar1\n",
      "|--pointlist2\n"
     ]
    }
   ],
   "source": [
    "# Make a tree\n",
    "\n",
    "# start with a Root\n",
    "root = emd.Root( name='treeoflife' )\n",
    "\n",
    "# and add data\n",
    "root.tree(node)\n",
    "node.tree(pointlistarray)\n",
    "pointlistarray.tree(pointlist1)\n",
    "root.tree(ar1)\n",
    "root.tree(pointlist2)\n",
    "node.tree(ar2)\n",
    "\n",
    "# show the tree\n",
    "root.tree()"
   ]
  },
  {
   "cell_type": "code",
   "execution_count": 151,
   "id": "0e657f8e",
   "metadata": {},
   "outputs": [
    {
     "name": "stderr",
     "output_type": "stream",
     "text": [
      "100%|███████████████████████████████████████████████████████████████████████████████████████████████████████████████████████████████████████████| 12/12 [00:00<00:00, 3066.76it/s]\n"
     ]
    }
   ],
   "source": [
    "# save\n",
    "\n",
    "emd.save(fp,root)"
   ]
  },
  {
   "cell_type": "code",
   "execution_count": 152,
   "id": "043a38d2",
   "metadata": {},
   "outputs": [
    {
     "name": "stderr",
     "output_type": "stream",
     "text": [
      "Reading PointListArray: 100%|████████████████████████████████████████████████████████████████████████████████████████████████████████████| 12/12 [00:00<00:00, 3148.09PointList/s]"
     ]
    },
    {
     "name": "stdout",
     "output_type": "stream",
     "text": [
      "Reading group /treeoflife/ar1\n",
      "Reading group /treeoflife/immanode\n",
      "Reading group /treeoflife/immanode/ar2\n",
      "Reading group /treeoflife/immanode/pointlistarray\n",
      "Reading group /treeoflife/immanode/pointlistarray/pointlist1\n",
      "Reading group /treeoflife/pointlist2\n"
     ]
    },
    {
     "name": "stderr",
     "output_type": "stream",
     "text": [
      "\n"
     ]
    },
    {
     "data": {
      "text/plain": [
       "Root( A Node called 'treeoflife', containing the following top-level objects in its tree:\n",
       "\n",
       "          ar1 \t\t (Array)\n",
       "          immanode \t\t (Node)\n",
       "          pointlist2 \t\t (PointList)\n",
       ")"
      ]
     },
     "execution_count": 152,
     "metadata": {},
     "output_type": "execute_result"
    }
   ],
   "source": [
    "# load\n",
    "\n",
    "loaded_data = emd.read(fp)\n",
    "\n",
    "loaded_data"
   ]
  },
  {
   "cell_type": "code",
   "execution_count": 153,
   "id": "fa589a23",
   "metadata": {},
   "outputs": [
    {
     "name": "stdout",
     "output_type": "stream",
     "text": [
      "/\n",
      "|--ar1\n",
      "|--immanode\n",
      "|\t|--ar2\n",
      "|\t|--pointlistarray\n",
      "|\t\t|--pointlist1\n",
      "|--pointlist2\n"
     ]
    }
   ],
   "source": [
    "loaded_data.tree()"
   ]
  },
  {
   "cell_type": "code",
   "execution_count": 154,
   "id": "5b76294c",
   "metadata": {},
   "outputs": [],
   "source": [
    "# check that the data is the same\n",
    "\n",
    "assert(np.array_equal( loaded_data.tree('ar1').data, ar1.data ))\n",
    "assert(np.array_equal( loaded_data.tree('immanode/ar2').data, ar2.data ))\n",
    "assert(np.array_equal( loaded_data.tree('immanode/pointlistarray/pointlist1').data, pointlist1.data ))\n",
    "assert(np.array_equal( loaded_data.tree('pointlist2').data, pointlist2.data ))"
   ]
  },
  {
   "cell_type": "code",
   "execution_count": 155,
   "id": "284fc202",
   "metadata": {},
   "outputs": [],
   "source": [
    "# check that the metadata is the same\n",
    "\n",
    "def check_metadata(obj1, obj2):\n",
    "    \"\"\" asserts equivalence of the metadata in obj1 to obj2. Fails for array-like metadata\n",
    "    \"\"\"\n",
    "    for k in obj1.metadata.keys():\n",
    "        md_i,md_f = obj1.metadata[k],obj2.metadata[k]\n",
    "        for k in md_i.keys:\n",
    "            assert( md_i[k] == md_f[k] )\n",
    "            \n",
    "check_metadata(\n",
    "    loaded_data.tree('immanode/pointlistarray/pointlist1'),\n",
    "    pointlist1\n",
    ")\n",
    "check_metadata(\n",
    "    loaded_data.tree('immanode/pointlistarray'),\n",
    "    pointlistarray\n",
    ")"
   ]
  },
  {
   "cell_type": "markdown",
   "id": "bc8518cd",
   "metadata": {},
   "source": [
    "## 4.2 Show and retrieve data\n",
    "\n",
    "We've aleady done most of these operations above!"
   ]
  },
  {
   "cell_type": "code",
   "execution_count": 156,
   "id": "7693b016",
   "metadata": {},
   "outputs": [
    {
     "name": "stdout",
     "output_type": "stream",
     "text": [
      "/\n",
      "|--immanode\n",
      "|\t|--pointlistarray\n",
      "|\t|\t|--pointlist1\n",
      "|\t|--ar2\n",
      "|--ar1\n",
      "|--pointlist2\n"
     ]
    }
   ],
   "source": [
    "# show the tree, from root\n",
    "\n",
    "root.tree()"
   ]
  },
  {
   "cell_type": "code",
   "execution_count": 157,
   "id": "534fc8be",
   "metadata": {},
   "outputs": [
    {
     "name": "stdout",
     "output_type": "stream",
     "text": [
      "/\n",
      "|--pointlistarray\n",
      "|\t|--pointlist1\n",
      "|--ar2\n"
     ]
    }
   ],
   "source": [
    "# show the tree, from some node\n",
    "\n",
    "node.tree()"
   ]
  },
  {
   "cell_type": "code",
   "execution_count": 158,
   "id": "99aa6ae8",
   "metadata": {},
   "outputs": [
    {
     "name": "stdout",
     "output_type": "stream",
     "text": [
      "/\n",
      "|--immanode\n",
      "|\t|--pointlistarray\n",
      "|\t|\t|--pointlist1\n",
      "|\t|--ar2\n",
      "|--ar1\n",
      "|--pointlist2\n",
      "\n",
      "\n",
      "/\n",
      "|--immanode\n",
      "|\t|--pointlistarray\n",
      "|\t|\t|--pointlist1\n",
      "|\t|--ar2\n",
      "|--ar1\n",
      "|--pointlist2\n"
     ]
    }
   ],
   "source": [
    "# show the whole tree from root, using some node\n",
    "\n",
    "node.tree(show=True)\n",
    "print()\n",
    "print()\n",
    "node.tree(True)"
   ]
  },
  {
   "cell_type": "code",
   "execution_count": 159,
   "id": "4911fe17",
   "metadata": {},
   "outputs": [
    {
     "data": {
      "text/plain": [
       "PointList( A length 5 PointList called 'pointlist1',\n",
       "           with 2 fields:\n",
       "\n",
       "           rx   (int64)\n",
       "           ry   (int64)\n",
       ")"
      ]
     },
     "execution_count": 159,
     "metadata": {},
     "output_type": "execute_result"
    }
   ],
   "source": [
    "# get some node from root\n",
    "\n",
    "data = root.tree('immanode/pointlistarray/pointlist1')\n",
    "\n",
    "data"
   ]
  },
  {
   "cell_type": "code",
   "execution_count": 160,
   "id": "dedb5b45",
   "metadata": {},
   "outputs": [
    {
     "data": {
      "text/plain": [
       "PointList( A length 5 PointList called 'pointlist1',\n",
       "           with 2 fields:\n",
       "\n",
       "           rx   (int64)\n",
       "           ry   (int64)\n",
       ")"
      ]
     },
     "execution_count": 160,
     "metadata": {},
     "output_type": "execute_result"
    }
   ],
   "source": [
    "# get some node from another, upstream node\n",
    "\n",
    "data = pointlistarray.tree('pointlist1')\n",
    "\n",
    "data"
   ]
  },
  {
   "cell_type": "code",
   "execution_count": 161,
   "id": "64db4bf5",
   "metadata": {},
   "outputs": [
    {
     "data": {
      "text/plain": [
       "PointList( A length 5 PointList called 'pointlist1',\n",
       "           with 2 fields:\n",
       "\n",
       "           rx   (int64)\n",
       "           ry   (int64)\n",
       ")"
      ]
     },
     "execution_count": 161,
     "metadata": {},
     "output_type": "execute_result"
    }
   ],
   "source": [
    "# get some node from another node, using a path referenced to the root\n",
    "\n",
    "data = pointlistarray.tree('/immanode/pointlistarray/pointlist1')\n",
    "\n",
    "data"
   ]
  },
  {
   "cell_type": "markdown",
   "id": "124b5263",
   "metadata": {},
   "source": [
    "## 4.3 Cutting and grafting branches\n",
    "\n",
    "In this section we'll make a new tree.  We use it first to demonstrate cutting branches off a parent tree to yield some new, smaller tree.  Then we demonstrate grafting a branch from one tree to another."
   ]
  },
  {
   "cell_type": "code",
   "execution_count": 162,
   "id": "891c4d19",
   "metadata": {},
   "outputs": [],
   "source": [
    "# make some data\n",
    "\n",
    "ar3 = emd.Array(\n",
    "    name = 'ar3',\n",
    "    data = np.arange(12,22).reshape((5,2))\n",
    ")\n",
    "node2 = emd.Node(\n",
    "    name = 'node2'\n",
    ")\n",
    "node3 = emd.Node(\n",
    "    name = 'node3'\n",
    ")\n",
    "pointlist3 = emd.PointList(\n",
    "    name = 'pointlist3',\n",
    "    data = np.ones(\n",
    "        3,\n",
    "        dtype = [('rx',int),('ry',int)]\n",
    "    )\n",
    ")\n",
    "pointlist4 = emd.PointList(\n",
    "    name = 'pointlist4',\n",
    "    data = np.zeros(\n",
    "        7,\n",
    "        dtype = [('qx',float),('qy',float)]\n",
    "    )\n",
    ")"
   ]
  },
  {
   "cell_type": "code",
   "execution_count": 163,
   "id": "e3932645",
   "metadata": {},
   "outputs": [
    {
     "name": "stdout",
     "output_type": "stream",
     "text": [
      "/\n",
      "|--node2\n",
      "|\t|--ar3\n",
      "|\t|--pointlist3\n",
      "|\t\t|--node3\n",
      "|--pointlist4\n"
     ]
    }
   ],
   "source": [
    "# make a tree\n",
    "\n",
    "root2 = emd.Root( name='treeofknowledge')\n",
    "root2.tree(node2)\n",
    "node2.tree(ar3)\n",
    "node2.tree(pointlist3)\n",
    "pointlist3.tree(node3)\n",
    "root2.tree(pointlist4)\n",
    "\n",
    "root2.tree()"
   ]
  },
  {
   "cell_type": "code",
   "execution_count": 164,
   "id": "3b88cd94",
   "metadata": {},
   "outputs": [
    {
     "data": {
      "text/plain": [
       "Root( A Node called 'pointlist3', containing the following top-level objects in its tree:\n",
       "\n",
       "          pointlist3 \t\t (PointList)\n",
       ")"
      ]
     },
     "execution_count": 164,
     "metadata": {},
     "output_type": "execute_result"
    }
   ],
   "source": [
    "# Cut a branch off of the tree\n",
    "\n",
    "new_root = pointlist3.tree(cut=True)\n",
    "\n",
    "new_root"
   ]
  },
  {
   "cell_type": "code",
   "execution_count": 165,
   "id": "5ddbfe34",
   "metadata": {},
   "outputs": [
    {
     "name": "stdout",
     "output_type": "stream",
     "text": [
      "/\n",
      "|--node2\n",
      "|\t|--ar3\n",
      "|--pointlist4\n",
      "\n",
      "/\n",
      "|--pointlist3\n",
      "\t|--node3\n"
     ]
    }
   ],
   "source": [
    "# Show the original tree and cut off branch\n",
    "\n",
    "root2.tree()\n",
    "print()\n",
    "new_root.tree()"
   ]
  },
  {
   "cell_type": "code",
   "execution_count": 166,
   "id": "dd18c9b8",
   "metadata": {},
   "outputs": [
    {
     "name": "stdout",
     "output_type": "stream",
     "text": [
      "/\n",
      "|--node2\n",
      "|\t|--ar3\n",
      "|--pointlist4\n",
      "\n",
      "/\n",
      "|--immanode\n",
      "|\t|--pointlistarray\n",
      "|\t|\t|--pointlist1\n",
      "|\t|--ar2\n",
      "|--ar1\n",
      "|--pointlist2\n"
     ]
    }
   ],
   "source": [
    "# Graft a branch from one tree onto another\n",
    "# let's graft from root2 at `node2` onto root at `pointlist1`\n",
    "\n",
    "# start by showing the two trees\n",
    "root2.tree()\n",
    "print()\n",
    "root.tree()"
   ]
  },
  {
   "cell_type": "code",
   "execution_count": 167,
   "id": "be227d36",
   "metadata": {},
   "outputs": [
    {
     "name": "stdout",
     "output_type": "stream",
     "text": [
      "/\n",
      "|--pointlist4\n",
      "\n",
      "/\n",
      "|--immanode\n",
      "|\t|--pointlistarray\n",
      "|\t|\t|--pointlist1\n",
      "|\t|\t\t|--node2\n",
      "|\t|\t\t\t|--ar3\n",
      "|\t|--ar2\n",
      "|--ar1\n",
      "|--pointlist2\n"
     ]
    }
   ],
   "source": [
    "# perform the graft\n",
    "node2.graft(pointlist1)\n",
    "\n",
    "# showing the two trees\n",
    "root2.tree()\n",
    "print()\n",
    "root.tree()"
   ]
  },
  {
   "cell_type": "markdown",
   "id": "31577101",
   "metadata": {},
   "source": [
    "## 4.4 Root metadata\n",
    "\n",
    "`emd` defines trees which are *almost* unidirectional: each node knows about and points to only the nodes downstream of itself...*plus*, each node also knows about and points to the root node of its tree.  This is helpful in a number of ways.  One is that metadata living in root is available to every object in that tree.  When cutting or grafting branches, the question then arises: should the root metadata be carried along to the new tree's root, or not?"
   ]
  },
  {
   "cell_type": "code",
   "execution_count": 168,
   "id": "c6fa7c8a",
   "metadata": {},
   "outputs": [],
   "source": [
    "node.tree?"
   ]
  },
  {
   "cell_type": "code",
   "execution_count": 184,
   "id": "5ed11049",
   "metadata": {},
   "outputs": [],
   "source": [
    "# make a data trees\n",
    "\n",
    "def make_trees():\n",
    "\n",
    "    # roots\n",
    "    root1 = emd.Root( name='root1' )\n",
    "    root2 = emd.Root( name='root2' )\n",
    "\n",
    "    # nodes\n",
    "    node1 = emd.Node( name = 'node1' )\n",
    "    node2 = emd.Node( name = 'node2' )\n",
    "    node3 = emd.Node( name = 'node3' )\n",
    "    node4 = emd.Node( name = 'node4' )\n",
    "\n",
    "    # tree 1\n",
    "    root1.tree(node1)\n",
    "    node1.tree(node2)\n",
    "    node2.tree(node3)\n",
    "    # add root metadata\n",
    "    root1.metadata = emd.Metadata(\n",
    "        name = 'metadata1',\n",
    "        data = {'x':1}\n",
    "    )\n",
    "    root1.metadata = emd.Metadata(\n",
    "        name = 'metadata2',\n",
    "        data = {'y':2}\n",
    "    )\n",
    "    \n",
    "    # tree 2\n",
    "    root2.tree(node4)\n",
    "    # add root metadata\n",
    "    root2.metadata = emd.Metadata(\n",
    "        name = 'metadata3',\n",
    "        data = {'z':3}\n",
    "    )\n",
    "    \n",
    "    return root1,root2\n",
    "\n",
    "root1,root2 = make_trees()"
   ]
  },
  {
   "cell_type": "code",
   "execution_count": 185,
   "id": "83f92db7",
   "metadata": {},
   "outputs": [
    {
     "name": "stdout",
     "output_type": "stream",
     "text": [
      "/\n",
      "|--node1\n",
      "\t|--node2\n",
      "\t\t|--node3\n",
      "\n",
      "/\n",
      "|--node4\n"
     ]
    }
   ],
   "source": [
    "# show the trees\n",
    "\n",
    "root1.tree()\n",
    "print()\n",
    "root2.tree()"
   ]
  },
  {
   "cell_type": "markdown",
   "id": "3f6139de",
   "metadata": {},
   "source": [
    "### 4.4.1 Cutting\n",
    "\n",
    "First we'll cut a branch off of the first tree.  When cutting a branch off an existing tree, a new root is created at the base of the new branch.  The old root metadata can be left behind, or pointers to the same metadata can be added to the new root, or copies of the metadata can be placed in the new root."
   ]
  },
  {
   "cell_type": "code",
   "execution_count": 186,
   "id": "6a96979a",
   "metadata": {},
   "outputs": [
    {
     "data": {
      "text/plain": [
       "dict_keys(['metadata1', 'metadata2'])"
      ]
     },
     "execution_count": 186,
     "metadata": {},
     "output_type": "execute_result"
    }
   ],
   "source": [
    "# Check the existint metadata\n",
    "\n",
    "root1.metadata.keys()"
   ]
  },
  {
   "cell_type": "code",
   "execution_count": 187,
   "id": "83dfe449",
   "metadata": {},
   "outputs": [
    {
     "name": "stdout",
     "output_type": "stream",
     "text": [
      "Metadata( A Metadata instance called 'metadata1', containing the following fields:\n",
      "\n",
      "          x:   1\n",
      ")\n",
      "Metadata( A Metadata instance called 'metadata2', containing the following fields:\n",
      "\n",
      "          y:   2\n",
      ")\n"
     ]
    }
   ],
   "source": [
    "print(root1.metadata['metadata1'])\n",
    "print(root1.metadata['metadata2'])"
   ]
  },
  {
   "cell_type": "markdown",
   "id": "3f3e2988",
   "metadata": {},
   "source": [
    "#### 4.4.1.1 add root metadata pointers"
   ]
  },
  {
   "cell_type": "code",
   "execution_count": 188,
   "id": "2e516dee",
   "metadata": {},
   "outputs": [
    {
     "name": "stdout",
     "output_type": "stream",
     "text": [
      "/\n",
      "|--node1\n",
      "\t|--node2\n",
      "\t\t|--node3\n",
      "/\n",
      "|--node3\n"
     ]
    }
   ],
   "source": [
    "# Before performing the cut, we'll find the node we want to cut at\n",
    "\n",
    "# show the tree\n",
    "root1.tree()\n",
    "\n",
    "# get the node of interest\n",
    "target_node = root1.tree('node1/node2')\n",
    "\n",
    "# show the tree under this node\n",
    "target_node.tree()"
   ]
  },
  {
   "cell_type": "code",
   "execution_count": 189,
   "id": "712c6cd1",
   "metadata": {},
   "outputs": [
    {
     "name": "stdout",
     "output_type": "stream",
     "text": [
      "/\n",
      "|--node1\n",
      "\n",
      "/\n",
      "|--node2\n",
      "\t|--node3\n"
     ]
    }
   ],
   "source": [
    "# When we cut a branch from a tree, it creates its own new root under the node where we made the cut.\n",
    "# Here, pointers to the old root metadata are included in the new root metadata\n",
    "\n",
    "# cut off the branch\n",
    "new_root = target_node.tree(cut=True)\n",
    "\n",
    "# show the old and new trees\n",
    "root1.tree()\n",
    "print()\n",
    "new_root.tree()"
   ]
  },
  {
   "cell_type": "code",
   "execution_count": 190,
   "id": "5ce6763c",
   "metadata": {},
   "outputs": [],
   "source": [
    "# The old and new root metadata contain the same information\n",
    "\n",
    "check_metadata(root1, new_root)"
   ]
  },
  {
   "cell_type": "code",
   "execution_count": 191,
   "id": "610468cf",
   "metadata": {},
   "outputs": [],
   "source": [
    "# And are in fact the same objects\n",
    "\n",
    "for key in root1.metadata.keys():\n",
    "    \n",
    "    assert( root1.metadata[key] is new_root.metadata[key] )"
   ]
  },
  {
   "cell_type": "markdown",
   "id": "f411687f",
   "metadata": {},
   "source": [
    "#### 4.4.1.2 add root metadata copies"
   ]
  },
  {
   "cell_type": "code",
   "execution_count": 192,
   "id": "eee00dd1",
   "metadata": {},
   "outputs": [],
   "source": [
    "# make fresh trees\n",
    "\n",
    "root1,_ = make_trees()"
   ]
  },
  {
   "cell_type": "code",
   "execution_count": 193,
   "id": "35e470d3",
   "metadata": {},
   "outputs": [
    {
     "name": "stdout",
     "output_type": "stream",
     "text": [
      "/\n",
      "|--node1\n",
      "\t|--node2\n",
      "\t\t|--node3\n",
      "/\n",
      "|--node3\n"
     ]
    }
   ],
   "source": [
    "# Find the node we want to cut at\n",
    "\n",
    "# show the tree\n",
    "root1.tree()\n",
    "\n",
    "# get the node of interest\n",
    "target_node = root1.tree('node1/node2')\n",
    "\n",
    "# show the tree under this node\n",
    "target_node.tree()"
   ]
  },
  {
   "cell_type": "code",
   "execution_count": 194,
   "id": "b14d2866",
   "metadata": {},
   "outputs": [
    {
     "name": "stdout",
     "output_type": "stream",
     "text": [
      "/\n",
      "|--node1\n",
      "\n",
      "/\n",
      "|--node2\n",
      "\t|--node3\n"
     ]
    }
   ],
   "source": [
    "# This time we'll copy the metadata\n",
    "\n",
    "# cut off the branch\n",
    "new_root = target_node.tree(cut='copy')\n",
    "\n",
    "# show the old and new trees\n",
    "root1.tree()\n",
    "print()\n",
    "new_root.tree()"
   ]
  },
  {
   "cell_type": "code",
   "execution_count": 195,
   "id": "7701db00",
   "metadata": {},
   "outputs": [],
   "source": [
    "# The old and new root metadata contain the same information\n",
    "\n",
    "for k in root1.metadata.keys():\n",
    "    md_i,md_f = root1.metadata[k],new_root.metadata[k+\"_copy\"]\n",
    "    for k in md_i.keys:\n",
    "        assert( md_i[k] == md_f[k] )"
   ]
  },
  {
   "cell_type": "code",
   "execution_count": 196,
   "id": "3ef6171a",
   "metadata": {},
   "outputs": [],
   "source": [
    "# But they are *not* the same objects\n",
    "\n",
    "for k in root1.metadata.keys():\n",
    "    assert( root1.metadata[k] is not new_root.metadata[k+\"_copy\"] )"
   ]
  },
  {
   "cell_type": "markdown",
   "id": "177cee54",
   "metadata": {},
   "source": [
    "#### 4.4.1.3 don't transfer metadata"
   ]
  },
  {
   "cell_type": "code",
   "execution_count": null,
   "id": "1aaa7e06",
   "metadata": {},
   "outputs": [],
   "source": [
    "# make fresh trees\n",
    "\n",
    "root1,_ = make_trees()"
   ]
  },
  {
   "cell_type": "code",
   "execution_count": null,
   "id": "e8690594",
   "metadata": {},
   "outputs": [],
   "source": [
    "# Find the node we want to cut at\n",
    "\n",
    "# show the tree\n",
    "root1.tree()\n",
    "\n",
    "# get the node of interest\n",
    "target_node = root1.tree('node1/node2')\n",
    "\n",
    "# show the tree under this node\n",
    "target_node.tree()"
   ]
  },
  {
   "cell_type": "code",
   "execution_count": 197,
   "id": "65855157",
   "metadata": {},
   "outputs": [
    {
     "name": "stdout",
     "output_type": "stream",
     "text": [
      "/\n",
      "|--node1\n",
      "\n",
      "/\n",
      "|--node2\n",
      "\t|--node3\n"
     ]
    }
   ],
   "source": [
    "# Cut the branch, but don't transfer any root metadata\n",
    "\n",
    "# cut off the branch\n",
    "new_root = target_node.tree(cut=False)\n",
    "\n",
    "# show the old and new trees\n",
    "root1.tree()\n",
    "print()\n",
    "new_root.tree()"
   ]
  },
  {
   "cell_type": "code",
   "execution_count": 198,
   "id": "153021ae",
   "metadata": {},
   "outputs": [
    {
     "name": "stdout",
     "output_type": "stream",
     "text": [
      "dict_keys(['metadata1', 'metadata2'])\n",
      "\n",
      "dict_keys([])\n"
     ]
    }
   ],
   "source": [
    "# Check\n",
    "\n",
    "print(root1.metadata.keys())\n",
    "print()\n",
    "print(new_root.metadata.keys())"
   ]
  },
  {
   "cell_type": "markdown",
   "id": "80514fd9",
   "metadata": {},
   "source": [
    "### 4.4.2 Grafting\n",
    "\n",
    "The same options exist when grafting a branch from tree_source to tree_target, however, in this case tree_target may already have metadata of its own.  In this case, adding pointers or copying metadata will work normally if there are no name conflicts between metadata in the source and target trees.  If there is a name conflict, linked or copied source root metadata will overwrite target root metadata of the same name."
   ]
  },
  {
   "cell_type": "code",
   "execution_count": 209,
   "id": "28c8defd",
   "metadata": {},
   "outputs": [
    {
     "name": "stdout",
     "output_type": "stream",
     "text": [
      "/\n",
      "|--node1\n",
      "\t|--node2\n",
      "\t\t|--node3\n",
      "\n",
      "/\n",
      "|--node4\n"
     ]
    }
   ],
   "source": [
    "# Make the trees\n",
    "\n",
    "root1,root2 = make_trees()\n",
    "\n",
    "\n",
    "# and show their contents\n",
    "\n",
    "root1.tree()\n",
    "print()\n",
    "root2.tree()"
   ]
  },
  {
   "cell_type": "code",
   "execution_count": 210,
   "id": "4ecd3e5e",
   "metadata": {},
   "outputs": [
    {
     "name": "stdout",
     "output_type": "stream",
     "text": [
      "{'metadata1': Metadata( A Metadata instance called 'metadata1', containing the following fields:\n",
      "\n",
      "          x:   1\n",
      "), 'metadata2': Metadata( A Metadata instance called 'metadata2', containing the following fields:\n",
      "\n",
      "          y:   2\n",
      ")}\n",
      "\n",
      "{'metadata3': Metadata( A Metadata instance called 'metadata3', containing the following fields:\n",
      "\n",
      "          z:   3\n",
      ")}\n"
     ]
    }
   ],
   "source": [
    "# Examine the metadata\n",
    "\n",
    "print(root1.metadata)\n",
    "print()\n",
    "print(root2.metadata)"
   ]
  },
  {
   "cell_type": "code",
   "execution_count": 211,
   "id": "543982da",
   "metadata": {},
   "outputs": [],
   "source": [
    "# We'll graft from root1 onto root2. So lets add a new Metadata instance to root1,\n",
    "# that has the same name as the dictionary in root2, but different contents\n",
    "\n",
    "root1.metadata = emd.Metadata(\n",
    "    name = 'metadata3',\n",
    "    data = {\n",
    "        'thats a horse' : 'of a different color'\n",
    "    }\n",
    ")"
   ]
  },
  {
   "cell_type": "code",
   "execution_count": 212,
   "id": "b8c44398",
   "metadata": {},
   "outputs": [
    {
     "name": "stdout",
     "output_type": "stream",
     "text": [
      "/\n",
      "|--node1\n",
      "\t|--node2\n",
      "\t\t|--node3\n",
      "\n",
      "/\n",
      "|--node4\n",
      "\n",
      "\n"
     ]
    }
   ],
   "source": [
    "# Find the node we want to cut at\n",
    "\n",
    "# show the trees\n",
    "root1.tree()\n",
    "print()\n",
    "root2.tree()\n",
    "print()\n",
    "print()\n",
    "\n",
    "# get the souce and target nodes\n",
    "source_node = root1.tree('node1/node2')\n",
    "target_node = root2.tree('node4')\n"
   ]
  },
  {
   "cell_type": "code",
   "execution_count": 213,
   "id": "663cf0eb",
   "metadata": {},
   "outputs": [
    {
     "data": {
      "text/plain": [
       "Root( A Node called 'root2', containing the following top-level objects in its tree:\n",
       "\n",
       "          node4 \t\t (Node)\n",
       ")"
      ]
     },
     "execution_count": 213,
     "metadata": {},
     "output_type": "execute_result"
    }
   ],
   "source": [
    "# perform the graft\n",
    "\n",
    "source_node.tree(graft = target_node)"
   ]
  },
  {
   "cell_type": "code",
   "execution_count": 214,
   "id": "334f9424",
   "metadata": {},
   "outputs": [
    {
     "name": "stdout",
     "output_type": "stream",
     "text": [
      "/\n",
      "|--node1\n",
      "\n",
      "/\n",
      "|--node4\n",
      "\t|--node2\n",
      "\t\t|--node3\n"
     ]
    }
   ],
   "source": [
    "# show the trees after the graft\n",
    "\n",
    "root1.tree()\n",
    "print()\n",
    "root2.tree()"
   ]
  },
  {
   "cell_type": "code",
   "execution_count": 216,
   "id": "4dbed8e3",
   "metadata": {},
   "outputs": [
    {
     "name": "stdout",
     "output_type": "stream",
     "text": [
      "{'metadata1': Metadata( A Metadata instance called 'metadata1', containing the following fields:\n",
      "\n",
      "          x:   1\n",
      "), 'metadata2': Metadata( A Metadata instance called 'metadata2', containing the following fields:\n",
      "\n",
      "          y:   2\n",
      "), 'metadata3': Metadata( A Metadata instance called 'metadata3', containing the following fields:\n",
      "\n",
      "          thats a horse:   of a different color\n",
      ")}\n",
      "\n",
      "{'metadata3': Metadata( A Metadata instance called 'metadata3', containing the following fields:\n",
      "\n",
      "          thats a horse:   of a different color\n",
      "), 'metadata1': Metadata( A Metadata instance called 'metadata1', containing the following fields:\n",
      "\n",
      "          x:   1\n",
      "), 'metadata2': Metadata( A Metadata instance called 'metadata2', containing the following fields:\n",
      "\n",
      "          y:   2\n",
      ")}\n"
     ]
    }
   ],
   "source": [
    "# show the root metadata\n",
    "\n",
    "print(root1.metadata)\n",
    "print()\n",
    "print(root2.metadata)"
   ]
  },
  {
   "cell_type": "markdown",
   "id": "c8ae20f1",
   "metadata": {},
   "source": [
    "#### 4.4.2.1 graft root metadata options\n",
    "\n",
    "The same options for copying, linking, or discarding root metadata that were available when cutting off a branch are available when grafting, with a little extra syntax.  The default behavior, shown above, is to link the root metadata.  To instead copy the root metadata, use\n",
    "    \n",
    "    >>> source_node.tree(graft = (target_node,'copy'))\n",
    "    \n",
    "and to avoid transferring root metadata, use\n",
    "\n",
    "    >>> source_node.tree(graft = (target_node,False))"
   ]
  },
  {
   "cell_type": "markdown",
   "id": "dd9244b4",
   "metadata": {},
   "source": [
    "# 5. The EMD 1.0 File"
   ]
  },
  {
   "cell_type": "code",
   "execution_count": null,
   "id": "61aa99d8",
   "metadata": {},
   "outputs": [],
   "source": [
    "clean()"
   ]
  },
  {
   "cell_type": "markdown",
   "id": "de248fed",
   "metadata": {},
   "source": [
    "## 5.1 Roots\n",
    "\n",
    "aka `topgroups` in the older parlance, aka homes for `trees`.  Each EMD 1.0 file may contain any number of EMD object trees.  Each tree must begin with a root.  To"
   ]
  },
  {
   "cell_type": "code",
   "execution_count": null,
   "id": "7924301b",
   "metadata": {},
   "outputs": [],
   "source": []
  },
  {
   "cell_type": "code",
   "execution_count": null,
   "id": "942f958c",
   "metadata": {},
   "outputs": [],
   "source": []
  },
  {
   "cell_type": "code",
   "execution_count": null,
   "id": "fda9049e",
   "metadata": {},
   "outputs": [],
   "source": []
  },
  {
   "cell_type": "code",
   "execution_count": null,
   "id": "ed3c3b89",
   "metadata": {},
   "outputs": [],
   "source": []
  },
  {
   "cell_type": "markdown",
   "id": "da754354",
   "metadata": {},
   "source": [
    "## 5.2 Appending new roots"
   ]
  },
  {
   "cell_type": "code",
   "execution_count": null,
   "id": "2229455f",
   "metadata": {},
   "outputs": [],
   "source": []
  },
  {
   "cell_type": "code",
   "execution_count": null,
   "id": "96c5cc1f",
   "metadata": {},
   "outputs": [],
   "source": []
  },
  {
   "cell_type": "code",
   "execution_count": null,
   "id": "7b1f8f26",
   "metadata": {},
   "outputs": [],
   "source": []
  },
  {
   "cell_type": "code",
   "execution_count": null,
   "id": "7b331860",
   "metadata": {},
   "outputs": [],
   "source": []
  },
  {
   "cell_type": "markdown",
   "id": "208e0645",
   "metadata": {},
   "source": [
    "## 5.3 Reading from different roots"
   ]
  },
  {
   "cell_type": "code",
   "execution_count": null,
   "id": "18324fec",
   "metadata": {},
   "outputs": [],
   "source": []
  },
  {
   "cell_type": "code",
   "execution_count": null,
   "id": "95ccde2b",
   "metadata": {},
   "outputs": [],
   "source": []
  },
  {
   "cell_type": "code",
   "execution_count": null,
   "id": "8e32c010",
   "metadata": {},
   "outputs": [],
   "source": []
  },
  {
   "cell_type": "code",
   "execution_count": null,
   "id": "eae92cde",
   "metadata": {},
   "outputs": [],
   "source": []
  },
  {
   "cell_type": "markdown",
   "id": "6fbfa4bd",
   "metadata": {},
   "source": [
    "# 6. Append and other fancy read / write operations"
   ]
  },
  {
   "cell_type": "code",
   "execution_count": null,
   "id": "c619067d",
   "metadata": {},
   "outputs": [],
   "source": []
  },
  {
   "cell_type": "markdown",
   "id": "982e88c5",
   "metadata": {},
   "source": [
    "## 6.1 Read from any node"
   ]
  },
  {
   "cell_type": "code",
   "execution_count": null,
   "id": "0aec1772",
   "metadata": {},
   "outputs": [],
   "source": []
  },
  {
   "cell_type": "code",
   "execution_count": null,
   "id": "3afbfa49",
   "metadata": {},
   "outputs": [],
   "source": []
  },
  {
   "cell_type": "code",
   "execution_count": null,
   "id": "abfed54d",
   "metadata": {},
   "outputs": [],
   "source": []
  },
  {
   "cell_type": "code",
   "execution_count": null,
   "id": "b1e8748b",
   "metadata": {},
   "outputs": [],
   "source": []
  },
  {
   "cell_type": "markdown",
   "id": "7ef49e24",
   "metadata": {},
   "source": [
    "## 6.2 Read from a single node, read a whole branch, read a branch without it's source node"
   ]
  },
  {
   "cell_type": "code",
   "execution_count": null,
   "id": "6262684c",
   "metadata": {},
   "outputs": [],
   "source": []
  },
  {
   "cell_type": "code",
   "execution_count": null,
   "id": "007c5c94",
   "metadata": {},
   "outputs": [],
   "source": []
  },
  {
   "cell_type": "code",
   "execution_count": null,
   "id": "f50a5fbf",
   "metadata": {},
   "outputs": [],
   "source": []
  },
  {
   "cell_type": "code",
   "execution_count": null,
   "id": "19b9f34c",
   "metadata": {},
   "outputs": [],
   "source": []
  },
  {
   "cell_type": "markdown",
   "id": "8c86a2d5",
   "metadata": {},
   "source": [
    "## 6.3 Append to an existing tree"
   ]
  },
  {
   "cell_type": "code",
   "execution_count": null,
   "id": "c0776017",
   "metadata": {},
   "outputs": [],
   "source": []
  },
  {
   "cell_type": "code",
   "execution_count": null,
   "id": "9c2d1dfe",
   "metadata": {},
   "outputs": [],
   "source": []
  },
  {
   "cell_type": "code",
   "execution_count": null,
   "id": "22687380",
   "metadata": {},
   "outputs": [],
   "source": []
  },
  {
   "cell_type": "code",
   "execution_count": null,
   "id": "683ede5d",
   "metadata": {},
   "outputs": [],
   "source": []
  },
  {
   "cell_type": "markdown",
   "id": "34771f84",
   "metadata": {},
   "source": [
    "## 6.4 Append conflict resolution"
   ]
  },
  {
   "cell_type": "code",
   "execution_count": null,
   "id": "b68b0faf",
   "metadata": {},
   "outputs": [],
   "source": []
  },
  {
   "cell_type": "code",
   "execution_count": null,
   "id": "bdcde0a3",
   "metadata": {},
   "outputs": [],
   "source": []
  },
  {
   "cell_type": "code",
   "execution_count": null,
   "id": "d99c76a4",
   "metadata": {},
   "outputs": [],
   "source": []
  },
  {
   "cell_type": "code",
   "execution_count": null,
   "id": "bd981060",
   "metadata": {},
   "outputs": [],
   "source": []
  },
  {
   "cell_type": "markdown",
   "id": "acb3e2aa",
   "metadata": {},
   "source": [
    "## 6.5 Append root metadata handling"
   ]
  },
  {
   "cell_type": "code",
   "execution_count": null,
   "id": "630785da",
   "metadata": {},
   "outputs": [],
   "source": []
  },
  {
   "cell_type": "code",
   "execution_count": null,
   "id": "976e6d81",
   "metadata": {},
   "outputs": [],
   "source": []
  },
  {
   "cell_type": "code",
   "execution_count": null,
   "id": "4881159a",
   "metadata": {},
   "outputs": [],
   "source": []
  },
  {
   "cell_type": "code",
   "execution_count": null,
   "id": "0b7bf6be",
   "metadata": {},
   "outputs": [],
   "source": []
  },
  {
   "cell_type": "markdown",
   "id": "eecdb083",
   "metadata": {},
   "source": [
    "## 6.6 Storage and re-writes to free up space"
   ]
  },
  {
   "cell_type": "code",
   "execution_count": null,
   "id": "4a4e6aed",
   "metadata": {},
   "outputs": [],
   "source": []
  },
  {
   "cell_type": "code",
   "execution_count": null,
   "id": "637adc64",
   "metadata": {},
   "outputs": [],
   "source": []
  },
  {
   "cell_type": "code",
   "execution_count": null,
   "id": "a22ffe16",
   "metadata": {},
   "outputs": [],
   "source": []
  },
  {
   "cell_type": "code",
   "execution_count": null,
   "id": "37e65ab5",
   "metadata": {},
   "outputs": [],
   "source": []
  },
  {
   "cell_type": "code",
   "execution_count": null,
   "id": "0f90cb98",
   "metadata": {},
   "outputs": [],
   "source": []
  },
  {
   "cell_type": "code",
   "execution_count": null,
   "id": "9e72fe76",
   "metadata": {},
   "outputs": [],
   "source": []
  },
  {
   "cell_type": "code",
   "execution_count": null,
   "id": "4b6ca397",
   "metadata": {},
   "outputs": [],
   "source": []
  },
  {
   "cell_type": "code",
   "execution_count": null,
   "id": "4ae0398d",
   "metadata": {},
   "outputs": [],
   "source": []
  },
  {
   "cell_type": "code",
   "execution_count": null,
   "id": "7f5953f1",
   "metadata": {},
   "outputs": [],
   "source": []
  },
  {
   "cell_type": "code",
   "execution_count": null,
   "id": "6c6f9b7c",
   "metadata": {},
   "outputs": [],
   "source": []
  }
 ],
 "metadata": {
  "kernelspec": {
   "display_name": "Python 3 (ipykernel)",
   "language": "python",
   "name": "python3"
  },
  "language_info": {
   "codemirror_mode": {
    "name": "ipython",
    "version": 3
   },
   "file_extension": ".py",
   "mimetype": "text/x-python",
   "name": "python",
   "nbconvert_exporter": "python",
   "pygments_lexer": "ipython3",
   "version": "3.8.13"
  }
 },
 "nbformat": 4,
 "nbformat_minor": 5
}
