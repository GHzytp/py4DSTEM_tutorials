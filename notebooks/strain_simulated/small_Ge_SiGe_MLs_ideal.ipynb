{
 "cells": [
  {
   "cell_type": "markdown",
   "id": "35f9d062-5a5e-4417-80fd-82b077ba1e24",
   "metadata": {},
   "source": [
    "# Strain mapping of simulated Ge/SiGe multilayer stacks\n",
    "\n",
    "Colin Ophus - 2021 July 12\n",
    "\n",
    "This notebook measures the strain fields of a simulated 4D-STEM dataset which consists of alternating Ge / Si50Ge50 multilayer stacks, on a Si25Ge75 substrate.  This notebook uses the \"ideal\" simulation, where the sample is aligned perfectly along the zone axis. All of the non-uniformity of the diffracted disks is due to multiple scattering.\n",
    "\n",
    "[Download the simulated Ge/SiGe multilayer dataset with an ideal structure, after it has been cropped and downsampled.](https://drive.google.com/file/d/1oJZnYzdiKdqvZJwteSBblBA1Cvlk17ax/view?usp=sharing)\n",
    "\n",
    "### Simulation Parameters\n",
    "\n",
    "|Parameter | Value | Units |\n",
    "|:--- |:--- |:--- |\n",
    "| accelerating voltage | 200 | kV |\n",
    "| wavelength | 0.02508 | Ang |\n",
    "| convergence semiangle | 2 | mrads |\n",
    "| cell dimensions | (1008.28,   253.58,  404.14) | Ang |\n",
    "| algorithm | PRISM |  |\n",
    "| interpolation factors | (12, 3) |  |\n",
    "| scan range x | (0.1, 0.9) | Ang |\n",
    "| scan range y | (0.1, 0.9) | Ang |\n",
    "| probe step x | 4.03 | Ang |\n",
    "| probe step y | 4.06 | Ang |\n",
    "\n",
    "This tutorial was written for py4DSTEM version 0.12.3\n"
   ]
  },
  {
   "cell_type": "code",
   "execution_count": null,
   "id": "45ac2ab4-05dc-4f3a-8ef2-4aabc55963ba",
   "metadata": {},
   "outputs": [],
   "source": [
    "import py4DSTEM\n",
    "import numpy as np\n",
    "import matplotlib.pyplot as plt\n",
    "import h5py"
   ]
  },
  {
   "cell_type": "code",
   "execution_count": null,
   "id": "48d6d96c-d624-4aa1-8edd-e0dd431862e4",
   "metadata": {},
   "outputs": [],
   "source": [
    "py4DSTEM.__version__"
   ]
  },
  {
   "cell_type": "code",
   "execution_count": null,
   "id": "9bf2e32a-4599-4f80-94f8-1afba7189c63",
   "metadata": {},
   "outputs": [],
   "source": [
    "# File paths - output files will be augmented with the correct file extension\n",
    "# file_path_input = '/media/cophus/DATA/4DSTEM/compact_Ge_SiGe_multilayer_ideal.h5'\n",
    "# file_path_output = '/media/cophus/DATA/4DSTEM/compact_Ge_SiGe_multilayer_stack_ideal_strain'\n",
    "file_path_input = 'C:/data/SiGe_sims/compact_Ge_SiGe_multilayer_ideal.h5'\n",
    "file_path_output = 'C:/data/SiGe_sims/compact_Ge_SiGe_multilayer_stack_ideal_strain'"
   ]
  },
  {
   "cell_type": "code",
   "execution_count": null,
   "id": "1434bf39-f4dd-4b79-850c-25864079dcf8",
   "metadata": {},
   "outputs": [],
   "source": [
    "py4DSTEM.io.read(file_path_input)"
   ]
  },
  {
   "cell_type": "code",
   "execution_count": null,
   "id": "56daca87-033e-4819-a87b-dcd0dde95099",
   "metadata": {},
   "outputs": [],
   "source": [
    "# Import the vacuum probe and simulated 4D-STEM datacube\n",
    "probe = py4DSTEM.io.read(file_path_input, data_id='sim_probe');\n",
    "dataset = py4DSTEM.io.read(file_path_input, data_id='sim_4DSTEM');"
   ]
  },
  {
   "cell_type": "code",
   "execution_count": null,
   "id": "3f6bc213-75c9-4c99-99cd-55a0e8769de3",
   "metadata": {},
   "outputs": [],
   "source": [
    "# Plot the mean CBED\n",
    "diffraction_pattern_mean = np.mean(dataset.data, axis=(0,1))\n",
    "py4DSTEM.visualize.show(\n",
    "    diffraction_pattern_mean,\n",
    "    clipvals='manual',\n",
    "    min=0.0000002,\n",
    "    max=0.0003,\n",
    "    scaling='power',\n",
    "    power=0.25,\n",
    "    cmap='inferno')"
   ]
  },
  {
   "cell_type": "code",
   "execution_count": null,
   "id": "a77bf3a9-59cb-4bc9-bf60-11e83a4efc9d",
   "metadata": {},
   "outputs": [],
   "source": [
    "# Estimate the radius of the BF disk, and the center coordinates\n",
    "probe_semiangle, qx0, qy0 = py4DSTEM.process.calibration.get_probe_size(\n",
    "    diffraction_pattern_mean)\n",
    "\n",
    "# plot the mean diffraction pattern, with the estimated probe radius overlaid as a circle\n",
    "py4DSTEM.visualize.show_circles(\n",
    "    diffraction_pattern_mean, \n",
    "    (qx0, qy0), \n",
    "    probe_semiangle)\n",
    "\n",
    "# Print the estimate probe radius\n",
    "print('Estimated probe radius =', '%.2f' % probe_semiangle, 'pixels')"
   ]
  },
  {
   "cell_type": "code",
   "execution_count": null,
   "id": "7f650d1a-314f-4e73-99c9-2828c2831baf",
   "metadata": {},
   "outputs": [],
   "source": [
    "# Next, create a BF virtual detector using the the center beam position (qxy0, qy0), and a virtual DF detector.\n",
    "# The DF virtual detector can be set to all remaining pixels.\n",
    "expand_BF = 2.0\n",
    "image_BF = py4DSTEM.process.virtualimage.get_virtualimage_circ(\n",
    "    dataset, \n",
    "    qx0, qy0, \n",
    "    probe_semiangle + expand_BF)\n",
    "image_DF = py4DSTEM.process.virtualimage.get_virtualimage_ann(\n",
    "    dataset, \n",
    "    qx0, qy0, \n",
    "    probe_semiangle + expand_BF,\n",
    "    1e3)"
   ]
  },
  {
   "cell_type": "code",
   "execution_count": null,
   "id": "e7f05808-b737-4f80-8593-97a946b4d023",
   "metadata": {},
   "outputs": [],
   "source": [
    "# Show the BF and DF images\n",
    "py4DSTEM.visualize.show(\n",
    "    np.transpose(image_BF),\n",
    "    figsize=(16,2),\n",
    "    cmap='viridis')\n",
    "py4DSTEM.visualize.show(\n",
    "    np.transpose(image_DF),\n",
    "    figsize=(16,2),\n",
    "    cmap='viridis')"
   ]
  },
  {
   "cell_type": "markdown",
   "id": "c6d93d59-91ab-48e2-9a7e-270e889f11f0",
   "metadata": {},
   "source": [
    "# Bragg disk detection"
   ]
  },
  {
   "cell_type": "code",
   "execution_count": null,
   "id": "ea877802-9dea-45d6-b2a0-21a471cdd5ae",
   "metadata": {},
   "outputs": [],
   "source": [
    "# Construct a probe template - we already have the probe array imported, so we start there.\n",
    "\n",
    "# Shift probe to the origin and apply normalization by subtracting a sigmoid function.\n",
    "probe_kernel = py4DSTEM.process.diskdetection.get_probe_kernel_edge_sigmoid(\n",
    "    probe.data, \n",
    "    probe_semiangle * 1.0,                                                        \n",
    "    probe_semiangle * 3.0,)\n",
    "\n",
    "# Plot the probe kernel\n",
    "py4DSTEM.visualize.show_kernel(\n",
    "    probe_kernel, \n",
    "    R=40, \n",
    "    L=40, \n",
    "    W=1)"
   ]
  },
  {
   "cell_type": "code",
   "execution_count": null,
   "id": "63dfad85-f5a9-4faa-be76-4b9bf3c1242f",
   "metadata": {},
   "outputs": [],
   "source": [
    "# Test hyperparameters on a few probe positions\n",
    "rxs = 10,100,190\n",
    "rys = 25,25,25\n",
    "colors=['r','c','r','c','r','c']\n",
    "\n",
    "dp0 = dataset.data[rxs[0],rys[0],:,:]\n",
    "dp1 = dataset.data[rxs[1],rys[1],:,:]\n",
    "dp2 = dataset.data[rxs[2],rys[2],:,:]\n",
    "\n",
    "# Run the disk detection on the selected DPs\n",
    "corrPower=0.9\n",
    "sigma=0\n",
    "edgeBoundary=4\n",
    "minRelativeIntensity=0.005\n",
    "relativeToPeak=0\n",
    "minPeakSpacing=8\n",
    "maxNumPeaks=100\n",
    "subpixel='poly'\n",
    "upsample_factor=4\n",
    "\n",
    "disks_selected = py4DSTEM.process.diskdetection.find_Bragg_disks_selected(\n",
    "    dataset,\n",
    "    probe_kernel,\n",
    "    rxs,\n",
    "    rys,\n",
    "    corrPower=corrPower,\n",
    "    sigma=sigma,edgeBoundary=edgeBoundary,\n",
    "    minRelativeIntensity=minRelativeIntensity,\n",
    "    relativeToPeak=relativeToPeak,\n",
    "    minPeakSpacing=minPeakSpacing,maxNumPeaks=maxNumPeaks,\n",
    "    subpixel=subpixel,\n",
    "    upsample_factor=upsample_factor)\n",
    "\n",
    "py4DSTEM.visualize.show_image_grid(\n",
    "    lambda i:[dp0,dp1,dp2][i],H=1,W=3,\n",
    "    axsize=(5,5),\n",
    "    scaling='power',\n",
    "    power=0.25,                  \n",
    "    get_bordercolor=lambda i:colors[i],                    \n",
    "    get_x=lambda i:disks_selected[i].data['qx'],\n",
    "    get_y=lambda i:disks_selected[i].data['qy'],\n",
    "    get_pointcolors=lambda i:colors[i],\n",
    "    open_circles=True,scale=250)"
   ]
  },
  {
   "cell_type": "code",
   "execution_count": null,
   "id": "b3370b76-f501-4546-8d3c-596779dc4823",
   "metadata": {},
   "outputs": [],
   "source": [
    "# Find all Bragg peaks\n",
    "# WARNING - this is the \"slow\" step, though it will only take ~4 minutes for a dataset of this size.\n",
    "bragg_peaks = py4DSTEM.process.diskdetection.find_Bragg_disks(\n",
    "    datacube=dataset,\n",
    "    probe=probe_kernel,                 \n",
    "    corrPower=corrPower,                       \n",
    "    sigma=sigma,                 \n",
    "    edgeBoundary=edgeBoundary,\n",
    "    minRelativeIntensity=minRelativeIntensity,\n",
    "    relativeToPeak=relativeToPeak,\n",
    "    minPeakSpacing=minPeakSpacing,\n",
    "    maxNumPeaks=maxNumPeaks,\n",
    "    subpixel=subpixel,    \n",
    "    upsample_factor=upsample_factor\n",
    ")"
   ]
  },
  {
   "cell_type": "markdown",
   "id": "e52e1596-504f-4ba2-bce9-95be5b31a737",
   "metadata": {},
   "source": [
    "# Fit a lattice"
   ]
  },
  {
   "cell_type": "code",
   "execution_count": null,
   "id": "f666baf0-cac3-48c4-a3e8-66009f27d705",
   "metadata": {},
   "outputs": [],
   "source": [
    "# Center the Bragg disk positions about the origin\n",
    "bragg_peaks_centered = py4DSTEM.process.calibration.center_braggpeaks(\n",
    "    bragg_peaks,\n",
    "    qx0=qx0,\n",
    "    qy0=qy0)"
   ]
  },
  {
   "cell_type": "code",
   "execution_count": null,
   "id": "bbdc3712-5874-49fc-83c0-2c15382360d5",
   "metadata": {},
   "outputs": [],
   "source": [
    "# Compute and plot Bragg vector map (BVM).\n",
    "\n",
    "# Compute the Bragg vector map\n",
    "bragg_vector_map = py4DSTEM.process.diskdetection.get_bvm(\n",
    "    bragg_peaks_centered,\n",
    "    dataset.Q_Nx,\n",
    "    dataset.Q_Ny)\n",
    "\n",
    "# plot the Bragg vector map\n",
    "py4DSTEM.visualize.show(\n",
    "    bragg_vector_map,\n",
    "    cmap='inferno',\n",
    "    clipvals='manual',\n",
    "    min=0,\n",
    "    max=1e-2)"
   ]
  },
  {
   "cell_type": "code",
   "execution_count": null,
   "id": "8616114e-cffd-46ea-8c75-9bc36f893172",
   "metadata": {},
   "outputs": [],
   "source": [
    "# Get all local maximum from the BVM, plot the candidate peaks\n",
    "gx, gy, gI = py4DSTEM.process.utils.get_maxima_2D(\n",
    "    bragg_vector_map,\n",
    "    sigma=0, \n",
    "    edgeBoundary=10,\n",
    "    minSpacing=10,\n",
    "    minRelativeIntensity=0.00005,\n",
    "    relativeToPeak=0,\n",
    "    maxNumPeaks=100,\n",
    "    subpixel='multicorr'\n",
    ")\n",
    "\n",
    "# Plot the candidate lattice coordinates\n",
    "py4DSTEM.visualize.show_points(\n",
    "    bragg_vector_map,\n",
    "    x=gx,\n",
    "    y=gy,\n",
    "    cmap='gray',\n",
    "    clipvals='manual',\n",
    "    min=0,\n",
    "    max=1e-2,\n",
    "    open_circles=True,\n",
    "    scale=200)"
   ]
  },
  {
   "cell_type": "code",
   "execution_count": null,
   "id": "0c57586e-2d9f-4377-92cb-6fde3c60e59f",
   "metadata": {},
   "outputs": [],
   "source": [
    "# Define peaks to use for computing strain maps\n",
    "index_0, index_g1, index_g2 = 0, 2, 1\n",
    "\n",
    "# Plot the selected lattice vectors - note they are in order of detected intensity\n",
    "g1,g2 = py4DSTEM.visualize.select_lattice_vectors(\n",
    "    bragg_vector_map,    \n",
    "    figsize=(16,8),\n",
    "    clipvals='manual',\n",
    "    min=0,\n",
    "    max=1e3,\n",
    "    gx=gx,gy=gy,\n",
    "    i0=index_0,\n",
    "    i1=index_g1,\n",
    "    i2=index_g2)"
   ]
  },
  {
   "cell_type": "code",
   "execution_count": null,
   "id": "dd884f91-2c46-471f-949c-7dc2220c22a5",
   "metadata": {},
   "outputs": [],
   "source": [
    "# Get indexing for all peaks, plot the indices overlaid onto the peaks\n",
    "h, k, braggdirections = py4DSTEM.process.latticevectors.index_bragg_directions(\n",
    "    qx0,qy0,\n",
    "    gx,gy,\n",
    "    g1,g2)\n",
    "py4DSTEM.visualize.show_bragg_indexing(\n",
    "    bragg_vector_map,\n",
    "    clipvals='manual',\n",
    "    min=0,\n",
    "    max=1e3,\n",
    "    braggdirections=braggdirections,\n",
    "    points=True)"
   ]
  },
  {
   "cell_type": "code",
   "execution_count": null,
   "id": "4c58f5ec-2831-48ad-8f15-4778d3c52475",
   "metadata": {},
   "outputs": [],
   "source": [
    "# maximum peak spacing from expected positions - this helps prevent false positives from affecting the results.\n",
    "max_peak_spacing = 2\n",
    "\n",
    "# Add indices to the bragg_peaks PointListArray\n",
    "bragg_peaks_indexed = py4DSTEM.process.latticevectors.add_indices_to_braggpeaks(\n",
    "    bragg_peaks_centered,\n",
    "    braggdirections,\n",
    "    maxPeakSpacing=max_peak_spacing,\n",
    "    qx_shift=qx0,\n",
    "    qy_shift=qy0)"
   ]
  },
  {
   "cell_type": "code",
   "execution_count": null,
   "id": "3a62204f-1050-474a-aad9-1e913f3be523",
   "metadata": {},
   "outputs": [],
   "source": [
    "# Fit the lattice in all diffraction images\n",
    "g1g2_map = py4DSTEM.process.latticevectors.fit_lattice_vectors_all_DPs(bragg_peaks_indexed)"
   ]
  },
  {
   "cell_type": "code",
   "execution_count": null,
   "id": "aa1c0e66-2046-457b-b869-d74d3467e286",
   "metadata": {},
   "outputs": [],
   "source": [
    "# Compute the strain using the median of the measured g1g2 as reference\n",
    "strainmap_mediang1g2 = py4DSTEM.process.latticevectors.get_strain_from_reference_region(\n",
    "    g1g2_map,\n",
    "    mask=np.ones((dataset.R_Nx,dataset.R_Ny),dtype=bool))\n",
    "\n",
    "# Rotate the lattice direction of the strain map \n",
    "# (pattern is rotated with respect to the scan direction)\n",
    "g_reference = np.add(g2, g1)\n",
    "strainmap = py4DSTEM.process.latticevectors.get_rotated_strain_map(\n",
    "    strainmap_mediang1g2,\n",
    "    g_reference[0],\n",
    "    g_reference[1])\n",
    "\n",
    "# plot the 4 components of the strain tensor\n",
    "py4DSTEM.visualize.show_strain(\n",
    "    strainmap,\n",
    "    vrange_exx=[-2.0, 2.0],\n",
    "    vrange_theta=[-1.5, 1.5],\n",
    "    ticknumber=3,\n",
    "    axes_plots=(),\n",
    "    bkgrd=False,\n",
    "    figsize=(3,10))"
   ]
  },
  {
   "cell_type": "code",
   "execution_count": null,
   "id": "92ca60d6-c837-4ec4-a0af-c79cbfb18514",
   "metadata": {},
   "outputs": [],
   "source": [
    "# Set the reference lattice to be the probe positions inside the substrate.\n",
    "\n",
    "x0,xf = 168,201\n",
    "y0,yf = 0,50\n",
    "\n",
    "py4DSTEM.visualize.show(\n",
    "    strainmap_mediang1g2.slices['e_yy'],              \n",
    "    mask=strainmap_mediang1g2.slices['mask'],\n",
    "    figsize=(2, 6),\n",
    "    cmap='RdBu',\n",
    "    clipvals='centered',\n",
    "    min=0,\n",
    "    rectangle={'lims':(x0,xf,y0,yf),'fill':False,'color':'k'})"
   ]
  },
  {
   "cell_type": "code",
   "execution_count": null,
   "id": "123061d7-6a99-4763-a749-024465d0d20e",
   "metadata": {},
   "outputs": [],
   "source": [
    "# Get new reference lattice vectors\n",
    "mask = np.zeros((dataset.R_Nx,dataset.R_Ny),dtype=bool)\n",
    "mask[x0:xf,y0:yf] = True\n",
    "g1_ref,g2_ref = py4DSTEM.process.latticevectors.get_reference_g1g2(g1g2_map, mask)\n",
    "\n",
    "# Recalculate the strain maps using the new reference lattice\n",
    "strainmap_ROI_g1g2 = py4DSTEM.process.latticevectors.get_strain_from_reference_g1g2(\n",
    "    g1g2_map,\n",
    "    g1_ref,\n",
    "    g2_ref)\n",
    "\n",
    "# Rotate the lattice direction of the strain map \n",
    "strainmap_ROI = py4DSTEM.process.latticevectors.get_rotated_strain_map(\n",
    "    strainmap_ROI_g1g2,\n",
    "    g_reference[0],\n",
    "    g_reference[1])\n",
    "\n",
    "# plot the 4 components of the strain tensor\n",
    "fig,axs = py4DSTEM.visualize.show_strain(\n",
    "    strainmap_ROI,\n",
    "    vrange_exx=[-2.0, 2.0],\n",
    "    vrange_theta=[-1.5, 1.5],\n",
    "    ticknumber=3,\n",
    "    axes_plots=(),\n",
    "    bkgrd=False,\n",
    "    figsize=(6,20),\n",
    "    returnfig=True)"
   ]
  },
  {
   "cell_type": "markdown",
   "id": "1431f533-3dfc-43ff-ab9b-68f5ffbd7055",
   "metadata": {},
   "source": [
    "# Plot line traces for the mean strain values"
   ]
  },
  {
   "cell_type": "code",
   "execution_count": null,
   "id": "10f7ed69-e829-49ae-850a-61637004cb28",
   "metadata": {
    "tags": []
   },
   "outputs": [],
   "source": [
    "# # Browse Prismatic format HDF5\n",
    "# def print_attrs(name, obj):\n",
    "#     print(name)\n",
    "#     for key, val in obj.attrs.items():\n",
    "#         print('%s %s' % (key, val))\n",
    "\n",
    "# f = h5py.File(file_path_input,'r')\n",
    "# f.visititems(print_attrs)"
   ]
  },
  {
   "cell_type": "code",
   "execution_count": null,
   "id": "3b4c8893-9814-44b5-be0d-acd84801b67c",
   "metadata": {},
   "outputs": [],
   "source": [
    "# Get probe positions along the vertical direction\n",
    "# probe_step_x = py4DSTEM.io.DataCube(data=f['Experiments/-fpd_expt-fpd_data/data'][...])\n",
    "# probe_step_x = f['4DSTEM_simulation']['data']['datacubes']['CBED_array_depth0000']['dim1'][...]\n",
    "probe_step_x = np.arange(0,strainmap_ROI.data.shape[0]) * 4.033104 + 100.82759"
   ]
  },
  {
   "cell_type": "code",
   "execution_count": null,
   "id": "b1415532-d620-40d1-a2a9-a5c0864e7066",
   "metadata": {},
   "outputs": [],
   "source": [
    "# Get mean E_xx and E_yy strain maps along the perpendicular to growth direction\n",
    "strain_mean_e_xx = np.mean(strainmap_ROI.slices['e_xx'],axis=1)\n",
    "strain_mean_e_yy = np.mean(strainmap_ROI.slices['e_yy'],axis=1)\n",
    "\n",
    "# Plot line traces\n",
    "plt.plot(probe_step_x, strain_mean_e_xx)\n",
    "plt.plot(probe_step_x, strain_mean_e_yy)\n",
    "plt.xlim(95,914)\n",
    "plt.ylim(-0.05, 0.05)"
   ]
  },
  {
   "cell_type": "markdown",
   "id": "024c5177-71b2-47bf-990d-5ac2c6979935",
   "metadata": {},
   "source": [
    "# Save data and strain maps"
   ]
  },
  {
   "cell_type": "code",
   "execution_count": null,
   "id": "faf5c00e-0589-4a72-930f-204190c1bdef",
   "metadata": {},
   "outputs": [],
   "source": [
    "# Strain map figure\n",
    "fig.savefig(file_path_output + '.pdf')"
   ]
  },
  {
   "cell_type": "code",
   "execution_count": null,
   "id": "c5fcbd6c-afcf-4521-9926-88ec5854ff3b",
   "metadata": {},
   "outputs": [],
   "source": [
    "# Save all data in py4DSTEM format\n",
    "# The diffraction space arrays we will save are:\n",
    "file_path_output_h5 =  file_path_output + '.h5'\n",
    "diff = py4DSTEM.io.DiffractionSlice(\n",
    "    data=np.dstack([diffraction_pattern_mean, \n",
    "                    probe.data,\n",
    "                    probe_kernel]),    \n",
    "    slicelabels=['image_mean',\n",
    "                 'probe',\n",
    "                 'probe_kernel'],\n",
    "    name='diffraction_images')\n",
    "\n",
    "# The real space arrays we will save are:\n",
    "real = py4DSTEM.io.RealSlice(\n",
    "    data=np.dstack([image_BF, \n",
    "                    image_DF]),    \n",
    "    slicelabels=['bright_field',\n",
    "                 'dark_field'],\n",
    "    name='real_space_images')\n",
    "\n",
    "# Note we will also save the strain maps, but these are already stored as RealSlice objects.\n",
    "# We will also store the center coordinates, estimated radius in pixels, strain reference direction,\n",
    "# but most importantly - the Bragg disk positions and intensities (bragg_peaks_centered).\n",
    "probe_fields = [(\"probe_semiangle\",float),\n",
    "              (\"qx0\", float),\n",
    "              (\"qy0\", float)]\n",
    "probe_data = py4DSTEM.io.PointList(coordinates=probe_fields)\n",
    "probe_data.add_point((probe_semiangle, qx0, qy0))\n",
    "probe_data.name = 'probe_data'\n",
    "\n",
    "# Save all of the resulting data into a single .h5 file:\n",
    "py4DSTEM.io.save(file_path_output_h5,[diff,\n",
    "                                      real,\n",
    "                                      probe_data,\n",
    "                                      strainmap_ROI,\n",
    "                                      bragg_peaks_centered],\n",
    "                                      overwrite=True)"
   ]
  },
  {
   "cell_type": "code",
   "execution_count": null,
   "id": "7d3e0e3b-9191-4829-bfa6-d76932215ceb",
   "metadata": {},
   "outputs": [],
   "source": [
    "# display the contents of the saved file\n",
    "py4DSTEM.io.read(file_path_output_h5)"
   ]
  },
  {
   "cell_type": "code",
   "execution_count": null,
   "id": "81564355-4ddf-407e-a57b-cd129c91659b",
   "metadata": {},
   "outputs": [],
   "source": [
    "py4DSTEM.version"
   ]
  },
  {
   "cell_type": "code",
   "execution_count": null,
   "id": "95593e22-8ef3-46ed-910e-88fba4619d55",
   "metadata": {},
   "outputs": [],
   "source": []
  }
 ],
 "metadata": {
  "kernelspec": {
   "display_name": "Python 3",
   "language": "python",
   "name": "python3"
  },
  "language_info": {
   "codemirror_mode": {
    "name": "ipython",
    "version": 3
   },
   "file_extension": ".py",
   "mimetype": "text/x-python",
   "name": "python",
   "nbconvert_exporter": "python",
   "pygments_lexer": "ipython3",
   "version": "3.8.0"
  }
 },
 "nbformat": 4,
 "nbformat_minor": 5
}
