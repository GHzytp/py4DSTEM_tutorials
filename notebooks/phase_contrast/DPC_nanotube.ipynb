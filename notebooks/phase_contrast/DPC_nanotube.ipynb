{
 "cells": [
  {
   "cell_type": "markdown",
   "id": "033f8eb6",
   "metadata": {},
   "source": [
    "# py4DSTEM Tutorial - Differential Phase Contrast Reconstruction\n",
    "---\n",
    "\n",
    "### Introduction\n",
    "\n",
    "This is a tutorial notebook intended to teach you how to use py4DSTEM to perform a differential phase contrast (DPC) reconstruction from a 4D-STEM dataset. The steps we will perform are:\n",
    "\n",
    "* [Part 0 - Download and load the 4D-STEM dataset.](#part_00)\n",
    "* [Part 1 - Calculate the center-of-mass (CoM) for each probe position.](#part_01)\n",
    "* [Part 2 - Determine the relative rotation between the scan direction and the diffraction space images.](#part_02)\n",
    "* [Part 3 - Reconstruct the differential phase contrast (DPC) signal.](#part_03)\n",
    "\n",
    "A deep knowledge of the theory of DPC imaging is not required for this tutorial. All you need to know is that (given some assumptions) when a STEM probe passes through a sample potential, the STEM probe will deflect in the direction of the gradient of this potential. In a far field (diffraction space) measurement, we can directly measure the average momentum change of a STEM probe as a 2-element vector by taking the CoM of the electron counts. We repeat this process for all STEM probe positions. To reconstruct the sample's potential, we simply need to invert this 2D gradient measurement.\n",
    "\n",
    "For more information on the history and theory of DPC, and the algorithm used in py4DSTEM, see the following references:\n",
    "* N Dekkers & H De Lang, [Differential phase contrast in a STEM](http://xrm.phys.northwestern.edu/research/pdf_papers/1974/dekkers_optik_1974.pdf), Optik 41, 452–456 (1974).\n",
    "* A Lubk & J Zweck. [Differential phase contrast: An integral perspective](https://doi.org/10.1103/PhysRevA.91.023805), Phys Rev A 91, 023805 (2015).\n",
    "* B Savitzky et al., [py4DSTEM: A Software Package for Four-Dimensional Scanning Transmission Electron Microscopy Data Analysis](https://doi.org/10.1017/S1431927621000477), Microscopy and Microanalysis (2021).\n",
    "\n",
    "### Acknowledgements\n",
    "\n",
    "This tutorial was written by Colin Ophus at Berkeley Lab (clophus@lbl.gov).\n",
    "\n",
    "The 4D-STEM dataset used here is from Hao Yang, Pete Nellist, and collaborators, from this reference:\n",
    "* Yang, H, Rutte, R, Jones, L, Simson, M, Sagawa, R, Ryll, H, Huth, M, Pennycook, T, Green, M, Soltau, H, Kondo, Y, Davis, BG & Nellist, PD (2016 b). [Simultaneous atomic-resolution electron ptychography and Z-contrast imaging of light and heavy elements in complex nanostructures](https://doi.org/10.1038/ncomms12532) Nature Communications  7, 12532 (2016) \n",
    "\n",
    "\n",
    "### Version\n",
    "Last updated on 2021-06-01 with py4DSTEM version 0.12.0."
   ]
  },
  {
   "cell_type": "markdown",
   "id": "6261feb8",
   "metadata": {},
   "source": [
    "---\n",
    "# Part 0 - Download the datasets used in this tutorial <a class=\"anchor\" id=\"part_00\"></a>\n",
    "\n",
    "You can download the tutorial dataset here: (945 megabytes)\n",
    "* [Filled Carbon Nanotube](https://drive.google.com/file/d/1bHv3u61Cr-y_GkdWHrJGh1lw2VKmt3UM/view?usp=sharing)"
   ]
  },
  {
   "cell_type": "markdown",
   "id": "7bbce635",
   "metadata": {},
   "source": [
    "If you are running in **binder** run the cell below, otherwise skip."
   ]
  },
  {
   "cell_type": "code",
   "execution_count": 1,
   "id": "85f23cc5",
   "metadata": {},
   "outputs": [
    {
     "name": "stdout",
     "output_type": "stream",
     "text": [
      "Downloading\n"
     ]
    },
    {
     "ename": "FileNotFoundError",
     "evalue": "[Errno 2] No such file or directory: '/home/jovyan/data/carbon_nanotube_data.h5'",
     "output_type": "error",
     "traceback": [
      "\u001b[0;31m---------------------------------------------------------------------------\u001b[0m",
      "\u001b[0;31mFileNotFoundError\u001b[0m                         Traceback (most recent call last)",
      "\u001b[0;32m/tmp/ipykernel_1720513/4154325721.py\u001b[0m in \u001b[0;36m<module>\u001b[0;34m\u001b[0m\n\u001b[1;32m      1\u001b[0m \u001b[0;32mfrom\u001b[0m \u001b[0mpy4DSTEM\u001b[0m\u001b[0;34m.\u001b[0m\u001b[0mio\u001b[0m \u001b[0;32mimport\u001b[0m \u001b[0mdownload_file_from_google_drive\u001b[0m\u001b[0;34m\u001b[0m\u001b[0;34m\u001b[0m\u001b[0m\n\u001b[0;32m----> 2\u001b[0;31m \u001b[0mdownload_file_from_google_drive\u001b[0m\u001b[0;34m(\u001b[0m\u001b[0;34m\"1bHv3u61Cr-y_GkdWHrJGh1lw2VKmt3UM\"\u001b[0m\u001b[0;34m,\u001b[0m \u001b[0;34m\"/home/jovyan/data/carbon_nanotube_data.h5\"\u001b[0m\u001b[0;34m)\u001b[0m\u001b[0;34m\u001b[0m\u001b[0;34m\u001b[0m\u001b[0m\n\u001b[0m",
      "\u001b[0;32m~/repos/py4DSTEM/py4DSTEM/io/google_drive_downloader.py\u001b[0m in \u001b[0;36mdownload_file_from_google_drive\u001b[0;34m(id_, destination, overwrite)\u001b[0m\n\u001b[1;32m     52\u001b[0m         \u001b[0mresponse\u001b[0m \u001b[0;34m=\u001b[0m \u001b[0msession\u001b[0m\u001b[0;34m.\u001b[0m\u001b[0mget\u001b[0m\u001b[0;34m(\u001b[0m\u001b[0mURL\u001b[0m\u001b[0;34m,\u001b[0m \u001b[0mparams\u001b[0m \u001b[0;34m=\u001b[0m \u001b[0mparams\u001b[0m\u001b[0;34m,\u001b[0m \u001b[0mstream\u001b[0m \u001b[0;34m=\u001b[0m \u001b[0;32mTrue\u001b[0m\u001b[0;34m)\u001b[0m\u001b[0;34m\u001b[0m\u001b[0;34m\u001b[0m\u001b[0m\n\u001b[1;32m     53\u001b[0m \u001b[0;34m\u001b[0m\u001b[0m\n\u001b[0;32m---> 54\u001b[0;31m     \u001b[0msave_response_content\u001b[0m\u001b[0;34m(\u001b[0m\u001b[0mresponse\u001b[0m\u001b[0;34m,\u001b[0m \u001b[0mdestination\u001b[0m\u001b[0;34m)\u001b[0m\u001b[0;34m\u001b[0m\u001b[0;34m\u001b[0m\u001b[0m\n\u001b[0m\u001b[1;32m     55\u001b[0m \u001b[0;34m\u001b[0m\u001b[0m\n\u001b[1;32m     56\u001b[0m     \u001b[0;32mreturn\u001b[0m \u001b[0;32mNone\u001b[0m\u001b[0;34m\u001b[0m\u001b[0;34m\u001b[0m\u001b[0m\n",
      "\u001b[0;32m~/repos/py4DSTEM/py4DSTEM/io/google_drive_downloader.py\u001b[0m in \u001b[0;36msave_response_content\u001b[0;34m(response, destination)\u001b[0m\n\u001b[1;32m     36\u001b[0m         \u001b[0mCHUNK_SIZE\u001b[0m \u001b[0;34m=\u001b[0m \u001b[0;36m32768\u001b[0m\u001b[0;34m\u001b[0m\u001b[0;34m\u001b[0m\u001b[0m\n\u001b[1;32m     37\u001b[0m \u001b[0;34m\u001b[0m\u001b[0m\n\u001b[0;32m---> 38\u001b[0;31m         \u001b[0;32mwith\u001b[0m \u001b[0mopen\u001b[0m\u001b[0;34m(\u001b[0m\u001b[0mdestination\u001b[0m\u001b[0;34m,\u001b[0m \u001b[0;34m\"wb\"\u001b[0m\u001b[0;34m)\u001b[0m \u001b[0;32mas\u001b[0m \u001b[0mf\u001b[0m\u001b[0;34m:\u001b[0m\u001b[0;34m\u001b[0m\u001b[0;34m\u001b[0m\u001b[0m\n\u001b[0m\u001b[1;32m     39\u001b[0m             \u001b[0;32mfor\u001b[0m \u001b[0mchunk\u001b[0m \u001b[0;32min\u001b[0m \u001b[0mresponse\u001b[0m\u001b[0;34m.\u001b[0m\u001b[0miter_content\u001b[0m\u001b[0;34m(\u001b[0m\u001b[0mCHUNK_SIZE\u001b[0m\u001b[0;34m)\u001b[0m\u001b[0;34m:\u001b[0m\u001b[0;34m\u001b[0m\u001b[0;34m\u001b[0m\u001b[0m\n\u001b[1;32m     40\u001b[0m                 \u001b[0;32mif\u001b[0m \u001b[0mchunk\u001b[0m\u001b[0;34m:\u001b[0m \u001b[0;31m# filter out keep-alive new chunks\u001b[0m\u001b[0;34m\u001b[0m\u001b[0;34m\u001b[0m\u001b[0m\n",
      "\u001b[0;31mFileNotFoundError\u001b[0m: [Errno 2] No such file or directory: '/home/jovyan/data/carbon_nanotube_data.h5'"
     ]
    }
   ],
   "source": [
    "from py4DSTEM.io import download_file_from_google_drive\n",
    "download_file_from_google_drive(\"1bHv3u61Cr-y_GkdWHrJGh1lw2VKmt3UM\", \"/home/jovyan/data/carbon_nanotube_data.h5\")"
   ]
  },
  {
   "cell_type": "markdown",
   "id": "08e9995d",
   "metadata": {},
   "source": [
    "Once you have downloaded this data, update the variable `file_path_input` in the next cell to reflect that path to the file on your computer."
   ]
  },
  {
   "cell_type": "code",
   "execution_count": 6,
   "id": "97c951b9",
   "metadata": {},
   "outputs": [],
   "source": [
    "# Initialization - import the needed packages.\n",
    "# For this tutorial, we will need py4DSTEM, numpy, and h5py\n",
    "import py4DSTEM\n",
    "import numpy as np\n",
    "import h5py    "
   ]
  },
  {
   "cell_type": "code",
   "execution_count": 7,
   "id": "95ee1180",
   "metadata": {},
   "outputs": [],
   "source": [
    "# Set the file paths for the input datasets.\n",
    "# The location of these files may be different, depending on your operating system and browser download path.\n",
    "# If you are running this tutorial on Binder, you do not need to change this path.\n",
    "# file_path_input = '/home/jovyan/data/carbon_nanotube_data.h5'\n",
    "# file_path_input = 'C:/data/carbon_nanotube_data.h5'"
   ]
  },
  {
   "cell_type": "code",
   "execution_count": 8,
   "id": "803ce548",
   "metadata": {},
   "outputs": [
    {
     "ename": "OSError",
     "evalue": "Unable to open file (unable to open file: name = '/home/jovyan/data/carbon_nanotube_data.h5', errno = 2, error message = 'No such file or directory', flags = 0, o_flags = 0)",
     "output_type": "error",
     "traceback": [
      "\u001b[0;31m---------------------------------------------------------------------------\u001b[0m",
      "\u001b[0;31mOSError\u001b[0m                                   Traceback (most recent call last)",
      "\u001b[0;32m/tmp/ipykernel_1720513/3352335090.py\u001b[0m in \u001b[0;36m<module>\u001b[0;34m\u001b[0m\n\u001b[1;32m      7\u001b[0m         \u001b[0mprint\u001b[0m\u001b[0;34m(\u001b[0m\u001b[0;34m'%s %s'\u001b[0m \u001b[0;34m%\u001b[0m \u001b[0;34m(\u001b[0m\u001b[0mkey\u001b[0m\u001b[0;34m,\u001b[0m \u001b[0mval\u001b[0m\u001b[0;34m)\u001b[0m\u001b[0;34m)\u001b[0m\u001b[0;34m\u001b[0m\u001b[0;34m\u001b[0m\u001b[0m\n\u001b[1;32m      8\u001b[0m \u001b[0;34m\u001b[0m\u001b[0m\n\u001b[0;32m----> 9\u001b[0;31m \u001b[0mf\u001b[0m \u001b[0;34m=\u001b[0m \u001b[0mh5py\u001b[0m\u001b[0;34m.\u001b[0m\u001b[0mFile\u001b[0m\u001b[0;34m(\u001b[0m\u001b[0mfile_path_input\u001b[0m\u001b[0;34m,\u001b[0m\u001b[0;34m'r'\u001b[0m\u001b[0;34m)\u001b[0m\u001b[0;34m\u001b[0m\u001b[0;34m\u001b[0m\u001b[0m\n\u001b[0m\u001b[1;32m     10\u001b[0m \u001b[0mf\u001b[0m\u001b[0;34m.\u001b[0m\u001b[0mvisititems\u001b[0m\u001b[0;34m(\u001b[0m\u001b[0mprint_attrs\u001b[0m\u001b[0;34m)\u001b[0m\u001b[0;34m\u001b[0m\u001b[0;34m\u001b[0m\u001b[0m\n",
      "\u001b[0;32m~/anaconda3/envs/py4dstem_dev/lib/python3.8/site-packages/h5py/_hl/files.py\u001b[0m in \u001b[0;36m__init__\u001b[0;34m(self, name, mode, driver, libver, userblock_size, swmr, rdcc_nslots, rdcc_nbytes, rdcc_w0, track_order, **kwds)\u001b[0m\n\u001b[1;32m    404\u001b[0m             \u001b[0;32mwith\u001b[0m \u001b[0mphil\u001b[0m\u001b[0;34m:\u001b[0m\u001b[0;34m\u001b[0m\u001b[0;34m\u001b[0m\u001b[0m\n\u001b[1;32m    405\u001b[0m                 \u001b[0mfapl\u001b[0m \u001b[0;34m=\u001b[0m \u001b[0mmake_fapl\u001b[0m\u001b[0;34m(\u001b[0m\u001b[0mdriver\u001b[0m\u001b[0;34m,\u001b[0m \u001b[0mlibver\u001b[0m\u001b[0;34m,\u001b[0m \u001b[0mrdcc_nslots\u001b[0m\u001b[0;34m,\u001b[0m \u001b[0mrdcc_nbytes\u001b[0m\u001b[0;34m,\u001b[0m \u001b[0mrdcc_w0\u001b[0m\u001b[0;34m,\u001b[0m \u001b[0;34m**\u001b[0m\u001b[0mkwds\u001b[0m\u001b[0;34m)\u001b[0m\u001b[0;34m\u001b[0m\u001b[0;34m\u001b[0m\u001b[0m\n\u001b[0;32m--> 406\u001b[0;31m                 fid = make_fid(name, mode, userblock_size,\n\u001b[0m\u001b[1;32m    407\u001b[0m                                \u001b[0mfapl\u001b[0m\u001b[0;34m,\u001b[0m \u001b[0mfcpl\u001b[0m\u001b[0;34m=\u001b[0m\u001b[0mmake_fcpl\u001b[0m\u001b[0;34m(\u001b[0m\u001b[0mtrack_order\u001b[0m\u001b[0;34m=\u001b[0m\u001b[0mtrack_order\u001b[0m\u001b[0;34m)\u001b[0m\u001b[0;34m,\u001b[0m\u001b[0;34m\u001b[0m\u001b[0;34m\u001b[0m\u001b[0m\n\u001b[1;32m    408\u001b[0m                                swmr=swmr)\n",
      "\u001b[0;32m~/anaconda3/envs/py4dstem_dev/lib/python3.8/site-packages/h5py/_hl/files.py\u001b[0m in \u001b[0;36mmake_fid\u001b[0;34m(name, mode, userblock_size, fapl, fcpl, swmr)\u001b[0m\n\u001b[1;32m    171\u001b[0m         \u001b[0;32mif\u001b[0m \u001b[0mswmr\u001b[0m \u001b[0;32mand\u001b[0m \u001b[0mswmr_support\u001b[0m\u001b[0;34m:\u001b[0m\u001b[0;34m\u001b[0m\u001b[0;34m\u001b[0m\u001b[0m\n\u001b[1;32m    172\u001b[0m             \u001b[0mflags\u001b[0m \u001b[0;34m|=\u001b[0m \u001b[0mh5f\u001b[0m\u001b[0;34m.\u001b[0m\u001b[0mACC_SWMR_READ\u001b[0m\u001b[0;34m\u001b[0m\u001b[0;34m\u001b[0m\u001b[0m\n\u001b[0;32m--> 173\u001b[0;31m         \u001b[0mfid\u001b[0m \u001b[0;34m=\u001b[0m \u001b[0mh5f\u001b[0m\u001b[0;34m.\u001b[0m\u001b[0mopen\u001b[0m\u001b[0;34m(\u001b[0m\u001b[0mname\u001b[0m\u001b[0;34m,\u001b[0m \u001b[0mflags\u001b[0m\u001b[0;34m,\u001b[0m \u001b[0mfapl\u001b[0m\u001b[0;34m=\u001b[0m\u001b[0mfapl\u001b[0m\u001b[0;34m)\u001b[0m\u001b[0;34m\u001b[0m\u001b[0;34m\u001b[0m\u001b[0m\n\u001b[0m\u001b[1;32m    174\u001b[0m     \u001b[0;32melif\u001b[0m \u001b[0mmode\u001b[0m \u001b[0;34m==\u001b[0m \u001b[0;34m'r+'\u001b[0m\u001b[0;34m:\u001b[0m\u001b[0;34m\u001b[0m\u001b[0;34m\u001b[0m\u001b[0m\n\u001b[1;32m    175\u001b[0m         \u001b[0mfid\u001b[0m \u001b[0;34m=\u001b[0m \u001b[0mh5f\u001b[0m\u001b[0;34m.\u001b[0m\u001b[0mopen\u001b[0m\u001b[0;34m(\u001b[0m\u001b[0mname\u001b[0m\u001b[0;34m,\u001b[0m \u001b[0mh5f\u001b[0m\u001b[0;34m.\u001b[0m\u001b[0mACC_RDWR\u001b[0m\u001b[0;34m,\u001b[0m \u001b[0mfapl\u001b[0m\u001b[0;34m=\u001b[0m\u001b[0mfapl\u001b[0m\u001b[0;34m)\u001b[0m\u001b[0;34m\u001b[0m\u001b[0;34m\u001b[0m\u001b[0m\n",
      "\u001b[0;32mh5py/_objects.pyx\u001b[0m in \u001b[0;36mh5py._objects.with_phil.wrapper\u001b[0;34m()\u001b[0m\n",
      "\u001b[0;32mh5py/_objects.pyx\u001b[0m in \u001b[0;36mh5py._objects.with_phil.wrapper\u001b[0;34m()\u001b[0m\n",
      "\u001b[0;32mh5py/h5f.pyx\u001b[0m in \u001b[0;36mh5py.h5f.open\u001b[0;34m()\u001b[0m\n",
      "\u001b[0;31mOSError\u001b[0m: Unable to open file (unable to open file: name = '/home/jovyan/data/carbon_nanotube_data.h5', errno = 2, error message = 'No such file or directory', flags = 0, o_flags = 0)"
     ]
    }
   ],
   "source": [
    "# This dataset is stored in an HDF5 file, but is different from the current native py4DSTEM HDF5 / h5 format.\n",
    "\n",
    "# So, our first step is to list all of the groups inside the .h5 file: (code adapted from issue #406 on the h5py github repo)\n",
    "def print_attrs(name, obj):\n",
    "    print(name)\n",
    "    for key, val in obj.attrs.items():\n",
    "        print('%s %s' % (key, val))\n",
    "\n",
    "f = h5py.File(file_path_input,'r')\n",
    "f.visititems(print_attrs)"
   ]
  },
  {
   "cell_type": "markdown",
   "id": "6fa1164c",
   "metadata": {},
   "source": [
    "There are many `groups`, `datasets`, and `attributes` inside this .h5 file. However, we require only one, named:\n",
    "\n",
    "`4DSTEM_experiment/data/datacubes/datacube_0/datacube`"
   ]
  },
  {
   "cell_type": "code",
   "execution_count": null,
   "id": "77335222",
   "metadata": {},
   "outputs": [],
   "source": [
    "# The next step is to import this experiment as a py4DSTEM datacube.\n",
    "# note that we are accessing a \"dataset\" inside various groups (groups are the HDF5 equivalent of directories)\n",
    "dataset = py4DSTEM.io.DataCube(data=f['4DSTEM_experiment']['data']['datacubes']['datacube_0']['datacube'])"
   ]
  },
  {
   "cell_type": "code",
   "execution_count": null,
   "id": "0923cf08",
   "metadata": {},
   "outputs": [],
   "source": [
    "# Let's examine the mean diffraction space image, by taking the average over all probe positions:\n",
    "diffraction_pattern_mean = np.mean(dataset.data, axis=(0,1))\n",
    "py4DSTEM.visualize.show(diffraction_pattern_mean)"
   ]
  },
  {
   "cell_type": "markdown",
   "id": "1eac7f79",
   "metadata": {},
   "source": [
    "In the mean diffraction pattern image, we can clearly see the initial STEM probe. For a thin specimen, most of the electrons will remain inside the bright field (BF) disk, i.e. the angular range of the initial STEM beam). This means that changing the TEM camera length or cropping the dataset around the BF disk is reasonable, as is the case here."
   ]
  },
  {
   "cell_type": "code",
   "execution_count": null,
   "id": "77a717e2",
   "metadata": {},
   "outputs": [],
   "source": [
    "# Estimate the radius of the BF disk, and the center coordinates\n",
    "probe_semiangle, qx0, qy0 = py4DSTEM.process.calibration.get_probe_size(diffraction_pattern_mean)\n",
    "\n",
    "# plot the mean diffraction pattern, with the estimated probe radius overlaid as a circle\n",
    "py4DSTEM.visualize.show_circles(diffraction_pattern_mean, (qx0, qy0), probe_semiangle)\n",
    "\n",
    "# Print the estimate probe radius\n",
    "print('Estimated probe radius =', '%.2f' % probe_semiangle, 'pixels')"
   ]
  },
  {
   "cell_type": "markdown",
   "id": "fb390f34",
   "metadata": {},
   "source": [
    "By overlaying a circle, we can see a common artifact in STEM simulations: ellipticity of either the original probe aperture, or the projecter system of the TEM. This ellipticity will not affect our DPC measurement, although we should be careful to use a large enough virtual detector / cropping range to fully capture the BF signal for all probe positions."
   ]
  },
  {
   "cell_type": "code",
   "execution_count": null,
   "id": "9ed1630f",
   "metadata": {},
   "outputs": [],
   "source": [
    "# Next, create a bright field (BF) virtual detector using the the center beam position, and expanding the radius slightly (+ 2 px).\n",
    "expand_BF = 2.0\n",
    "image_BF = py4DSTEM.process.virtualimage.get_virtualimage_circ(dataset, qx0, qy0, probe_semiangle + expand_BF)\n",
    "\n",
    "# Show the BF image, next to the virtual detector we have used\n",
    "py4DSTEM.visualize.show_circles(diffraction_pattern_mean, (qx0, qy0), probe_semiangle + expand_BF, figsize=(3,3))\n",
    "py4DSTEM.visualize.show(image_BF)"
   ]
  },
  {
   "cell_type": "markdown",
   "id": "1fd48296",
   "metadata": {},
   "source": [
    "Virtually no contrast is visible in the virtual BF image - this image contrast roughly corresponds to the `amplitude` of the sample's exit wave. In the following sections, we will use CoM-DPC to measute the `phase`, which will hopefully produce significantly more signal in the image."
   ]
  },
  {
   "cell_type": "markdown",
   "id": "8bbe830f",
   "metadata": {},
   "source": [
    "---\n",
    "# Part 1 - Calculate the center-of-mass (CoM) for each probe position. <a class=\"anchor\" id=\"part_01\"></a>\n",
    "\n",
    "In this section, we will compute the (qx_shift, qy_shift) momentum vector estimate for all probe positions. We accomplish this by computing the first moment of the intentisty distribution in the x and y directions."
   ]
  },
  {
   "cell_type": "code",
   "execution_count": null,
   "id": "1bd8017a",
   "metadata": {},
   "outputs": [],
   "source": [
    "# Generate the circular mask, using the same coordinates determined above.\n",
    "mask = py4DSTEM.process.utils.make_circular_mask(shape = (dataset.Q_Nx,dataset.Q_Ny),\n",
    "                                               qxy0 = (qx0, qy0),\n",
    "                                               radius = probe_semiangle + expand_BF)\n",
    "    \n",
    "# Plot the mask\n",
    "py4DSTEM.visualize.show(mask, figsize=(4,4))"
   ]
  },
  {
   "cell_type": "code",
   "execution_count": null,
   "id": "e8883a0d",
   "metadata": {},
   "outputs": [],
   "source": [
    "# Calculate the center of mass for all probe positions\n",
    "CoMx, CoMy = py4DSTEM.process.dpc.get_CoM_images(dataset, mask=mask)"
   ]
  },
  {
   "cell_type": "code",
   "execution_count": null,
   "id": "a405da58",
   "metadata": {},
   "outputs": [],
   "source": [
    "# Plot the 2 CoM outputs, the x and y directions\n",
    "py4DSTEM.visualize.show_image_grid(\n",
    "    lambda i:[CoMx, CoMy][i],\n",
    "    H=1,\n",
    "    W=2,\n",
    "    cmap='RdBu')"
   ]
  },
  {
   "cell_type": "markdown",
   "id": "5d91525b",
   "metadata": {},
   "source": [
    "These images are significantly clearer than the virtual BF image!  \n",
    "\n",
    "Ideally, CoMx measures the beam deflection in the vertical direction.  As the probe scans downwards, we expect it to deflect in the positive direction (red) as it hits the edge of the sample, and then in the negative direction (blue as it leaves the sample). This is what we observe in the left plot. Similarly, the CoMy signal should show a positive and then negative deflection, as it scans from the left hand edge of the field of view to the right. This is also what we see in the above right side image. \n",
    "\n",
    "Therefore, it's likely that the scan directions of this experiment are properly aligned to the diffraction space image coordinates. We will however check this assumption in the next section. We will plot one more output first, the total gradient magnitude sqrt(CoMx^2 + CoMy^2), which is equal to the magnitude of the electric field at each probe position."
   ]
  },
  {
   "cell_type": "code",
   "execution_count": 5,
   "id": "0acfec02",
   "metadata": {},
   "outputs": [
    {
     "ename": "NameError",
     "evalue": "name 'py4DSTEM' is not defined",
     "output_type": "error",
     "traceback": [
      "\u001b[0;31m---------------------------------------------------------------------------\u001b[0m",
      "\u001b[0;31mNameError\u001b[0m                                 Traceback (most recent call last)",
      "\u001b[0;32m/tmp/ipykernel_1720513/2275761874.py\u001b[0m in \u001b[0;36m<module>\u001b[0;34m\u001b[0m\n\u001b[1;32m      1\u001b[0m \u001b[0;31m# Plot the gradient magnitude, from -1 to +5 standard deviations\u001b[0m\u001b[0;34m\u001b[0m\u001b[0;34m\u001b[0m\u001b[0;34m\u001b[0m\u001b[0m\n\u001b[0;32m----> 2\u001b[0;31m py4DSTEM.visualize.show(np.sqrt(CoMx**2 + CoMy**2),\n\u001b[0m\u001b[1;32m      3\u001b[0m                        \u001b[0mcmap\u001b[0m\u001b[0;34m=\u001b[0m\u001b[0;34m'inferno'\u001b[0m\u001b[0;34m,\u001b[0m\u001b[0;34m\u001b[0m\u001b[0;34m\u001b[0m\u001b[0m\n\u001b[1;32m      4\u001b[0m                        \u001b[0mclipvals\u001b[0m\u001b[0;34m=\u001b[0m\u001b[0;34m'std'\u001b[0m\u001b[0;34m,\u001b[0m\u001b[0;34m\u001b[0m\u001b[0;34m\u001b[0m\u001b[0m\n\u001b[1;32m      5\u001b[0m                        \u001b[0mmin\u001b[0m\u001b[0;34m=\u001b[0m\u001b[0;36m0.5\u001b[0m\u001b[0;34m,\u001b[0m\u001b[0;34m\u001b[0m\u001b[0;34m\u001b[0m\u001b[0m\n",
      "\u001b[0;31mNameError\u001b[0m: name 'py4DSTEM' is not defined"
     ]
    }
   ],
   "source": [
    "# Plot the gradient magnitude, from -1 to +5 standard deviations\n",
    "py4DSTEM.visualize.show(np.sqrt(CoMx**2 + CoMy**2),\n",
    "                       cmap='inferno',\n",
    "                       clipvals='std',\n",
    "                       min=0.5,\n",
    "                       max=4.5)"
   ]
  },
  {
   "cell_type": "markdown",
   "id": "8e171929",
   "metadata": {},
   "source": [
    "---\n",
    "# Part 2 - Determine the rotation between real and diffraction space. <a class=\"anchor\" id=\"part_02\"></a>\n",
    "\n",
    "Here, we will check to see if the real space coordinate directions (x,y) matches the diffraction space coordinate directions (qx, qy).  \n",
    "\n",
    "There are a few methods to perform this check in py4DSTEM.  We will simply test all rotation angles (and all rotation angles for a flipped dataset), and then select whichever angle produces the highest contrast.  Alternative methods include solving for the direction which sets the vector field curl as close to zero as possible, or a gradient search."
   ]
  },
  {
   "cell_type": "code",
   "execution_count": null,
   "id": "4e684ff7",
   "metadata": {},
   "outputs": [],
   "source": [
    "# Use one of the py4DSTEM algorithms to check for:\n",
    "# 1 - rotation offset between real and diffraction space coordinates\n",
    "# 2 - a flip / transpose of the two spaces\n",
    "theta, flip =  py4DSTEM.process.dpc.get_rotation_and_flip_maxcontrast(CoMx, CoMy, 360)"
   ]
  },
  {
   "cell_type": "code",
   "execution_count": 2,
   "id": "0ef26d07",
   "metadata": {},
   "outputs": [
    {
     "ename": "NameError",
     "evalue": "name 'np' is not defined",
     "output_type": "error",
     "traceback": [
      "\u001b[0;31m---------------------------------------------------------------------------\u001b[0m",
      "\u001b[0;31mNameError\u001b[0m                                 Traceback (most recent call last)",
      "\u001b[0;32m/tmp/ipykernel_1720513/1694720586.py\u001b[0m in \u001b[0;36m<module>\u001b[0;34m\u001b[0m\n\u001b[1;32m      1\u001b[0m \u001b[0;31m# Solve for minimum rotation from (-pi,pi) radian range\u001b[0m\u001b[0;34m\u001b[0m\u001b[0;34m\u001b[0m\u001b[0;34m\u001b[0m\u001b[0m\n\u001b[0;32m----> 2\u001b[0;31m \u001b[0mtheta\u001b[0m \u001b[0;34m=\u001b[0m \u001b[0mnp\u001b[0m\u001b[0;34m.\u001b[0m\u001b[0mmod\u001b[0m\u001b[0;34m(\u001b[0m\u001b[0mtheta\u001b[0m \u001b[0;34m+\u001b[0m \u001b[0mnp\u001b[0m\u001b[0;34m.\u001b[0m\u001b[0mpi\u001b[0m\u001b[0;34m,\u001b[0m \u001b[0;36m2\u001b[0m\u001b[0;34m*\u001b[0m\u001b[0mnp\u001b[0m\u001b[0;34m.\u001b[0m\u001b[0mpi\u001b[0m\u001b[0;34m)\u001b[0m \u001b[0;34m-\u001b[0m \u001b[0mnp\u001b[0m\u001b[0;34m.\u001b[0m\u001b[0mpi\u001b[0m\u001b[0;34m\u001b[0m\u001b[0;34m\u001b[0m\u001b[0m\n\u001b[0m\u001b[1;32m      3\u001b[0m \u001b[0mtheta_deg\u001b[0m \u001b[0;34m=\u001b[0m \u001b[0mtheta\u001b[0m\u001b[0;34m*\u001b[0m\u001b[0;36m180\u001b[0m\u001b[0;34m/\u001b[0m\u001b[0mnp\u001b[0m\u001b[0;34m.\u001b[0m\u001b[0mpi\u001b[0m\u001b[0;34m\u001b[0m\u001b[0;34m\u001b[0m\u001b[0m\n\u001b[1;32m      4\u001b[0m \u001b[0;34m\u001b[0m\u001b[0m\n\u001b[1;32m      5\u001b[0m \u001b[0;31m# Print the results\u001b[0m\u001b[0;34m\u001b[0m\u001b[0;34m\u001b[0m\u001b[0;34m\u001b[0m\u001b[0m\n",
      "\u001b[0;31mNameError\u001b[0m: name 'np' is not defined"
     ]
    }
   ],
   "source": [
    "# Solve for minimum rotation from (-pi,pi) radian range\n",
    "theta = np.mod(theta + np.pi, 2*np.pi) - np.pi\n",
    "theta_deg = theta*180/np.pi\n",
    "\n",
    "# Print the results\n",
    "print('Image flip detected =', flip);\n",
    "print('Best fit rotation = ', '%.4f' % theta_deg, 'degrees')"
   ]
  },
  {
   "cell_type": "markdown",
   "id": "ad7711c9",
   "metadata": {},
   "source": [
    "As we see, no image flip/transpose was detected. The best fit rotation is -12 degrees, which is within the measurement uncertainty range. \n",
    "\n",
    "Additionally, rotations that are significantly less than 45 degrees will not affect the reconstruction very much - DPC is quite robust!\n",
    "\n",
    "Thus we can proceed with the phase reconstruction."
   ]
  },
  {
   "cell_type": "markdown",
   "id": "e5a20fb1",
   "metadata": {},
   "source": [
    "---\n",
    "# Part 3 - Reconstruct the phase contrast signal. <a class=\"anchor\" id=\"part_03\"></a>\n",
    "\n",
    "The final step is to invert the above gradient measurements into the underlying scalar field, the phase shift or potential of the sample.\n",
    "\n",
    "### Brief description of our phase reconstruction method\n",
    "\n",
    "The CoM DPC signal measures the gradient of the sample's potential. If we had the potential, we could differentiate it numerically to obtain this gradient. We want to go the other direction however. We could in principle write down the series of linear equations for the center-difference numerical gradient operator, and solve for all of the pixels by inverting this sparse matrix (with some assumptions at the boundaries).  However constructing this matrix is tedious, and it's fairly unstable without regularzation. \n",
    "\n",
    "Fortunately, there is a better way! As in most microscopy data analysis problems, we will use Fourier transforms. Essentially, we will compute the \"inverse gradient\" to reconstruct the DPC phase signal.  For more information, see:\n",
    "B Savitzky et al., [py4DSTEM: A Software Package for Four-Dimensional Scanning Transmission Electron Microscopy Data Analysis](https://doi.org/10.1017/S1431927621000477), Microscopy and Microanalysis (2021)."
   ]
  },
  {
   "cell_type": "code",
   "execution_count": 3,
   "id": "baf487d1",
   "metadata": {},
   "outputs": [
    {
     "ename": "NameError",
     "evalue": "name 'theta' is not defined",
     "output_type": "error",
     "traceback": [
      "\u001b[0;31m---------------------------------------------------------------------------\u001b[0m",
      "\u001b[0;31mNameError\u001b[0m                                 Traceback (most recent call last)",
      "\u001b[0;32m/tmp/ipykernel_1720513/2386017395.py\u001b[0m in \u001b[0;36m<module>\u001b[0;34m\u001b[0m\n\u001b[1;32m      2\u001b[0m \u001b[0mregLowPass\u001b[0m \u001b[0;34m=\u001b[0m \u001b[0;36m0.0\u001b[0m\u001b[0;34m\u001b[0m\u001b[0;34m\u001b[0m\u001b[0m\n\u001b[1;32m      3\u001b[0m \u001b[0mregHighPass\u001b[0m \u001b[0;34m=\u001b[0m \u001b[0;36m0.0\u001b[0m\u001b[0;34m\u001b[0m\u001b[0;34m\u001b[0m\u001b[0m\n\u001b[0;32m----> 4\u001b[0;31m \u001b[0mtheta_recon\u001b[0m \u001b[0;34m=\u001b[0m \u001b[0mtheta\u001b[0m  \u001b[0;31m# We get the same reconstruction with 0 rotation - try it!\u001b[0m\u001b[0;34m\u001b[0m\u001b[0;34m\u001b[0m\u001b[0m\n\u001b[0m\u001b[1;32m      5\u001b[0m \u001b[0mflip_recon\u001b[0m \u001b[0;34m=\u001b[0m \u001b[0;32mFalse\u001b[0m   \u001b[0;31m# We just set this to False\u001b[0m\u001b[0;34m\u001b[0m\u001b[0;34m\u001b[0m\u001b[0m\n\u001b[1;32m      6\u001b[0m \u001b[0mpaddingfactor\u001b[0m \u001b[0;34m=\u001b[0m \u001b[0;36m2\u001b[0m    \u001b[0;31m# This parameter handles the boundary conditions via padding the reconstruction space\u001b[0m\u001b[0;34m\u001b[0m\u001b[0;34m\u001b[0m\u001b[0m\n",
      "\u001b[0;31mNameError\u001b[0m: name 'theta' is not defined"
     ]
    }
   ],
   "source": [
    "# Input parameters\n",
    "regLowPass = 0.0\n",
    "regHighPass = 0.0\n",
    "theta_recon = theta  # We get the same reconstruction with 0 rotation - try it!\n",
    "flip_recon = False   # We just set this to False\n",
    "paddingfactor = 2    # This parameter handles the boundary conditions via padding the reconstruction space\n",
    "stepsize = 1         # Step size for each iteration\n",
    "n_iter = 8         # Number of iterations\n",
    "\n",
    "# Reconstruct the phase\n",
    "phase, error = py4DSTEM.process.dpc.get_phase_from_CoM(\n",
    "    CoMx, \n",
    "    CoMy, \n",
    "    theta=theta_recon, \n",
    "    flip=flip_recon,\n",
    "    regLowPass=regLowPass, \n",
    "    regHighPass=regHighPass, \n",
    "    paddingfactor=paddingfactor,\n",
    "    stepsize=stepsize, \n",
    "    n_iter=n_iter)\n",
    "\n",
    "# Plot the output phase image\n",
    "py4DSTEM.visualize.show(phase,\n",
    "                       cmap='inferno',\n",
    "                       clipvals='std',\n",
    "                       min=-2,\n",
    "                       max=5)"
   ]
  },
  {
   "cell_type": "markdown",
   "id": "81afefbe",
   "metadata": {},
   "source": [
    "The nanotube image looks very good!  Even the very weak scattering due to objects inside the nanotube is clearly visible.\n",
    "\n",
    "However, we can see a long-range error in the lowest spatial frequencies. Out in vacuum, the phase shift should be flat. This is because the condition number worsens for DPC as we approach lower and lower spatial frequencies, eventually reaching the DC phase offset which cannot be measured at all.\n",
    "\n",
    "For this reason, we often apply a gentle high pass filter, and potentially a low pass filter if the measurement is extremely noisy.  In the next cell, we will re-run the reconstruction with some high pass filtering to regularize the result."
   ]
  },
  {
   "cell_type": "code",
   "execution_count": 4,
   "id": "81fc4579",
   "metadata": {},
   "outputs": [
    {
     "ename": "NameError",
     "evalue": "name 'theta' is not defined",
     "output_type": "error",
     "traceback": [
      "\u001b[0;31m---------------------------------------------------------------------------\u001b[0m",
      "\u001b[0;31mNameError\u001b[0m                                 Traceback (most recent call last)",
      "\u001b[0;32m/tmp/ipykernel_1720513/2246677829.py\u001b[0m in \u001b[0;36m<module>\u001b[0;34m\u001b[0m\n\u001b[1;32m      2\u001b[0m \u001b[0mregLowPass\u001b[0m \u001b[0;34m=\u001b[0m \u001b[0;36m0\u001b[0m\u001b[0;34m\u001b[0m\u001b[0;34m\u001b[0m\u001b[0m\n\u001b[1;32m      3\u001b[0m \u001b[0mregHighPass\u001b[0m \u001b[0;34m=\u001b[0m \u001b[0;36m0.001\u001b[0m\u001b[0;34m\u001b[0m\u001b[0;34m\u001b[0m\u001b[0m\n\u001b[0;32m----> 4\u001b[0;31m \u001b[0mtheta_recon\u001b[0m \u001b[0;34m=\u001b[0m \u001b[0mtheta\u001b[0m  \u001b[0;31m# We get the same reconstruction with 0 rotation - try it!\u001b[0m\u001b[0;34m\u001b[0m\u001b[0;34m\u001b[0m\u001b[0m\n\u001b[0m\u001b[1;32m      5\u001b[0m \u001b[0mflip_recon\u001b[0m \u001b[0;34m=\u001b[0m \u001b[0;32mFalse\u001b[0m   \u001b[0;31m# We just set this to False\u001b[0m\u001b[0;34m\u001b[0m\u001b[0;34m\u001b[0m\u001b[0m\n\u001b[1;32m      6\u001b[0m \u001b[0mpaddingfactor\u001b[0m \u001b[0;34m=\u001b[0m \u001b[0;36m2\u001b[0m    \u001b[0;31m# This parameter handles the boundary conditions via padding the reconstruction space\u001b[0m\u001b[0;34m\u001b[0m\u001b[0;34m\u001b[0m\u001b[0m\n",
      "\u001b[0;31mNameError\u001b[0m: name 'theta' is not defined"
     ]
    }
   ],
   "source": [
    "# Input parameters with slight regularization\n",
    "regLowPass = 0\n",
    "regHighPass = 0.001\n",
    "theta_recon = theta  # We get the same reconstruction with 0 rotation - try it!\n",
    "flip_recon = False   # We just set this to False\n",
    "paddingfactor = 2    # This parameter handles the boundary conditions via padding the reconstruction space\n",
    "stepsize = 1         # Step size for each iteration\n",
    "n_iter = 16           # Number of iterations\n",
    "\n",
    "# Reconstruct the phase\n",
    "phase_reg, error_ref = py4DSTEM.process.dpc.get_phase_from_CoM(\n",
    "    CoMx, \n",
    "    CoMy, \n",
    "    theta=theta_recon, \n",
    "    flip=flip_recon,\n",
    "    regLowPass=regLowPass, \n",
    "    regHighPass=regHighPass, \n",
    "    paddingfactor=paddingfactor,\n",
    "    stepsize=stepsize, \n",
    "    n_iter=n_iter)\n",
    "\n",
    "py4DSTEM.visualize.show_image_grid(\n",
    "    lambda i:[phase_reg, phase][i],\n",
    "    H=1,\n",
    "    W=2,\n",
    "    clipvals='std',\n",
    "    min=-3,\n",
    "    max=5,\n",
    "    cmap='inferno')"
   ]
  },
  {
   "cell_type": "code",
   "execution_count": null,
   "id": "82234d88",
   "metadata": {},
   "outputs": [],
   "source": []
  },
  {
   "cell_type": "code",
   "execution_count": null,
   "id": "aee2de62-9070-418d-b944-1d5c93599bb1",
   "metadata": {},
   "outputs": [],
   "source": []
  }
 ],
 "metadata": {
  "kernelspec": {
   "display_name": "Python 3",
   "language": "python",
   "name": "python3"
  },
  "language_info": {
   "codemirror_mode": {
    "name": "ipython",
    "version": 3
   },
   "file_extension": ".py",
   "mimetype": "text/x-python",
   "name": "python",
   "nbconvert_exporter": "python",
   "pygments_lexer": "ipython3",
   "version": "3.8.10"
  },
  "toc": {
   "base_numbering": 1,
   "nav_menu": {},
   "number_sections": true,
   "sideBar": true,
   "skip_h1_title": false,
   "title_cell": "Table of Contents",
   "title_sidebar": "Contents",
   "toc_cell": true,
   "toc_position": {},
   "toc_section_display": true,
   "toc_window_display": false
  },
  "varInspector": {
   "cols": {
    "lenName": 16,
    "lenType": 16,
    "lenVar": 40
   },
   "kernels_config": {
    "python": {
     "delete_cmd_postfix": "",
     "delete_cmd_prefix": "del ",
     "library": "var_list.py",
     "varRefreshCmd": "print(var_dic_list())"
    },
    "r": {
     "delete_cmd_postfix": ") ",
     "delete_cmd_prefix": "rm(",
     "library": "var_list.r",
     "varRefreshCmd": "cat(var_dic_list()) "
    }
   },
   "types_to_exclude": [
    "module",
    "function",
    "builtin_function_or_method",
    "instance",
    "_Feature"
   ],
   "window_display": false
  }
 },
 "nbformat": 4,
 "nbformat_minor": 5
}
