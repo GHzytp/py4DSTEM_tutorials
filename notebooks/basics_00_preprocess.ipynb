{
 "cells": [
  {
   "cell_type": "code",
   "execution_count": 1,
   "metadata": {},
   "outputs": [],
   "source": [
    "%load_ext autoreload\n",
    "%autoreload 2"
   ]
  },
  {
   "cell_type": "markdown",
   "metadata": {
    "id": "dWtjuR0PzrAJ"
   },
   "source": [
    "# Intro to 4D-STEM data: bin and crop\n",
    "\n",
    "Here we perform only the simplest preprocessing to reduce the data size, binning and cropping\n",
    "\n",
    "\n",
    "\n",
    "### Acknowledgements\n",
    "\n",
    "This tutorial was created by the py4DSTEM instructor team:\n",
    "- Ben Savitzky (bhsavitzky@lbl.gov)\n",
    "- Steve Zeltmann (steven.zeltmann@berkeley.edu)\n",
    "- Stephanie Ribet (sribet@u.northwestern.edu)\n",
    "- Alex Rakowski (arakowski@lbl.gov)\n",
    "- Colin Ophus (clophus@lbl.gov)\n",
    "\n",
    "\n",
    "Updated 11/3/2022"
   ]
  },
  {
   "cell_type": "markdown",
   "metadata": {
    "id": "wyDwnLNsz-pO"
   },
   "source": [
    "## Set up the environment"
   ]
  },
  {
   "cell_type": "code",
   "execution_count": 2,
   "metadata": {},
   "outputs": [
    {
     "data": {
      "text/plain": [
       "'0.14.0'"
      ]
     },
     "execution_count": 2,
     "metadata": {},
     "output_type": "execute_result"
    }
   ],
   "source": [
    "import py4DSTEM\n",
    "from py4DSTEM.visualize import show\n",
    "py4DSTEM.__version__"
   ]
  },
  {
   "cell_type": "markdown",
   "metadata": {},
   "source": [
    "---\n",
    "# Download the tutorial data <a class=\"anchor\" id=\"part_00\"></a>\n",
    "\n",
    "You can download the tutorial dataset here: (501 megabytes)\n",
    "* [Simulated single crystal and polycrystalline gold](https://drive.google.com/file/d/1PmbCYosA1eYydWmmZebvf6uon9k_5g_S/view?usp=sharing)"
   ]
  },
  {
   "cell_type": "markdown",
   "metadata": {
    "id": "bZfLN2Ra0jxG"
   },
   "source": [
    "# Load data"
   ]
  },
  {
   "cell_type": "code",
   "execution_count": 3,
   "metadata": {
    "colab": {
     "base_uri": "https://localhost:8080/"
    },
    "executionInfo": {
     "elapsed": 2683,
     "status": "ok",
     "timestamp": 1646781495318,
     "user": {
      "displayName": "Benjamin Savitzky",
      "photoUrl": "https://lh3.googleusercontent.com/a-/AOh14GhuUyU1rnhC9SeJ8DzVa-96cw06-D15BrLxJ1BR=s64",
      "userId": "01089621796660637532"
     },
     "user_tz": 300
    },
    "id": "SoU8kLbUnyf0",
    "outputId": "ab08c1a4-0d19-4d06-e6af-6dcd857f221e"
   },
   "outputs": [],
   "source": [
    "# Set the filepath\n",
    "\n",
    "from os.path import splitext\n",
    "\n",
    "filepath_data = \"/Users/Ben/work/data/py4DSTEM_sampleData/calibration_simulatedAuNanoplatelet/data_binned.h5\""
   ]
  },
  {
   "cell_type": "code",
   "execution_count": 4,
   "metadata": {
    "executionInfo": {
     "elapsed": 2639,
     "status": "ok",
     "timestamp": 1646781497953,
     "user": {
      "displayName": "Benjamin Savitzky",
      "photoUrl": "https://lh3.googleusercontent.com/a-/AOh14GhuUyU1rnhC9SeJ8DzVa-96cw06-D15BrLxJ1BR=s64",
      "userId": "01089621796660637532"
     },
     "user_tz": 300
    },
    "id": "Eur6TtF5qcZI"
   },
   "outputs": [
    {
     "data": {
      "text/plain": [
       "DataCube( A 4-dimensional array of shape (100, 84, 125, 125) called 'polyAu_4DSTEM',\n",
       "          with dimensions:\n",
       "\n",
       "          Rx = [0,1,...] pixels\n",
       "          Ry = [0,1,...] pixels\n",
       "          Qx = [0,1,...] pixels\n",
       "          Qy = [0,1,...] pixels\n",
       ")"
      ]
     },
     "execution_count": 4,
     "metadata": {},
     "output_type": "execute_result"
    }
   ],
   "source": [
    "# Load the datacube\n",
    "\n",
    "datacube = py4DSTEM.read(\n",
    "    filepath_data,\n",
    "    data_id = 'polyAu_4DSTEM'\n",
    ")\n",
    "\n",
    "datacube"
   ]
  },
  {
   "cell_type": "markdown",
   "metadata": {},
   "source": [
    "# Bin"
   ]
  },
  {
   "cell_type": "code",
   "execution_count": 5,
   "metadata": {},
   "outputs": [
    {
     "data": {
      "text/plain": [
       "array([ 0,  1,  2,  3,  4,  5,  6,  7,  8,  9, 10, 11, 12, 13, 14, 15, 16,\n",
       "       17, 18, 19, 20, 21, 22, 23, 24, 25, 26, 27, 28, 29, 30, 31, 32, 33,\n",
       "       34, 35, 36, 37, 38, 39, 40, 41, 42, 43, 44, 45, 46, 47, 48, 49, 50,\n",
       "       51, 52, 53, 54, 55, 56, 57, 58, 59, 60, 61, 62, 63, 64, 65, 66, 67,\n",
       "       68, 69, 70, 71, 72, 73, 74, 75, 76, 77, 78, 79, 80, 81, 82, 83, 84,\n",
       "       85, 86, 87, 88, 89, 90, 91, 92, 93, 94, 95, 96, 97, 98, 99])"
      ]
     },
     "execution_count": 5,
     "metadata": {},
     "output_type": "execute_result"
    }
   ],
   "source": [
    "datacube.dim(0)"
   ]
  },
  {
   "cell_type": "code",
   "execution_count": 6,
   "metadata": {},
   "outputs": [
    {
     "data": {
      "text/plain": [
       "DataCube( A 4-dimensional array of shape (100, 84, 125, 125) called 'polyAu_4DSTEM',\n",
       "          with dimensions:\n",
       "\n",
       "          Rx = [0,1,...] pixels\n",
       "          Ry = [0,1,...] pixels\n",
       "          Qx = [0,1,...] pixels\n",
       "          Qy = [0,1,...] pixels\n",
       ")"
      ]
     },
     "execution_count": 6,
     "metadata": {},
     "output_type": "execute_result"
    }
   ],
   "source": [
    "datacube.set_scan_shape((100,84))"
   ]
  },
  {
   "cell_type": "code",
   "execution_count": 7,
   "metadata": {},
   "outputs": [
    {
     "data": {
      "text/plain": [
       "(100, 84, 125, 125)"
      ]
     },
     "execution_count": 7,
     "metadata": {},
     "output_type": "execute_result"
    }
   ],
   "source": [
    "datacube.shape"
   ]
  },
  {
   "cell_type": "code",
   "execution_count": 8,
   "metadata": {},
   "outputs": [
    {
     "data": {
      "text/plain": [
       "DataCube( A 4-dimensional array of shape (25, 30, 125, 125) called 'polyAu_4DSTEM',\n",
       "          with dimensions:\n",
       "\n",
       "          Rx = [0,1,...] pixels\n",
       "          Ry = [0,1,...] pixels\n",
       "          Qx = [0,1,...] pixels\n",
       "          Qy = [0,1,...] pixels\n",
       ")"
      ]
     },
     "execution_count": 8,
     "metadata": {},
     "output_type": "execute_result"
    }
   ],
   "source": [
    "datacube.crop_R((0,25,0,30))"
   ]
  },
  {
   "cell_type": "code",
   "execution_count": 9,
   "metadata": {},
   "outputs": [
    {
     "data": {
      "text/plain": [
       "array([ 0,  1,  2,  3,  4,  5,  6,  7,  8,  9, 10, 11, 12, 13, 14, 15, 16,\n",
       "       17, 18, 19, 20, 21, 22, 23, 24])"
      ]
     },
     "execution_count": 9,
     "metadata": {},
     "output_type": "execute_result"
    }
   ],
   "source": [
    "datacube.dim(0)"
   ]
  },
  {
   "cell_type": "code",
   "execution_count": 10,
   "metadata": {},
   "outputs": [],
   "source": [
    "datacube.calibration.set_R_pixel_size(5)\n",
    "datacube.calibration.set_R_pixel_units('nm')\n",
    "\n",
    "datacube.calibration.set_Q_pixel_size(0.032)\n",
    "datacube.calibration.set_Q_pixel_units('A^-1')"
   ]
  },
  {
   "cell_type": "code",
   "execution_count": 11,
   "metadata": {},
   "outputs": [
    {
     "data": {
      "text/plain": [
       "DataCube( A 4-dimensional array of shape (25, 30, 121, 119) called 'polyAu_4DSTEM',\n",
       "          with dimensions:\n",
       "\n",
       "          Rx = [0,5,...] nm\n",
       "          Ry = [0,5,...] nm\n",
       "          Qx = [0.0,0.032,...] A^-1\n",
       "          Qy = [0.0,0.032,...] A^-1\n",
       ")"
      ]
     },
     "execution_count": 11,
     "metadata": {},
     "output_type": "execute_result"
    }
   ],
   "source": [
    "datacube.crop_Q((1,122,2,121))"
   ]
  },
  {
   "cell_type": "code",
   "execution_count": 12,
   "metadata": {},
   "outputs": [
    {
     "data": {
      "text/plain": [
       "(array([  0,   5,  10,  15,  20,  25,  30,  35,  40,  45,  50,  55,  60,\n",
       "         65,  70,  75,  80,  85,  90,  95, 100, 105, 110, 115, 120]),\n",
       " array([  0,   5,  10,  15,  20,  25,  30,  35,  40,  45,  50,  55,  60,\n",
       "         65,  70,  75,  80,  85,  90,  95, 100, 105, 110, 115, 120, 125,\n",
       "        130, 135, 140, 145]),\n",
       " array([0.   , 0.032, 0.064, 0.096, 0.128, 0.16 , 0.192, 0.224, 0.256,\n",
       "        0.288, 0.32 , 0.352, 0.384, 0.416, 0.448, 0.48 , 0.512, 0.544,\n",
       "        0.576, 0.608, 0.64 , 0.672, 0.704, 0.736, 0.768, 0.8  , 0.832,\n",
       "        0.864, 0.896, 0.928, 0.96 , 0.992, 1.024, 1.056, 1.088, 1.12 ,\n",
       "        1.152, 1.184, 1.216, 1.248, 1.28 , 1.312, 1.344, 1.376, 1.408,\n",
       "        1.44 , 1.472, 1.504, 1.536, 1.568, 1.6  , 1.632, 1.664, 1.696,\n",
       "        1.728, 1.76 , 1.792, 1.824, 1.856, 1.888, 1.92 , 1.952, 1.984,\n",
       "        2.016, 2.048, 2.08 , 2.112, 2.144, 2.176, 2.208, 2.24 , 2.272,\n",
       "        2.304, 2.336, 2.368, 2.4  , 2.432, 2.464, 2.496, 2.528, 2.56 ,\n",
       "        2.592, 2.624, 2.656, 2.688, 2.72 , 2.752, 2.784, 2.816, 2.848,\n",
       "        2.88 , 2.912, 2.944, 2.976, 3.008, 3.04 , 3.072, 3.104, 3.136,\n",
       "        3.168, 3.2  , 3.232, 3.264, 3.296, 3.328, 3.36 , 3.392, 3.424,\n",
       "        3.456, 3.488, 3.52 , 3.552, 3.584, 3.616, 3.648, 3.68 , 3.712,\n",
       "        3.744, 3.776, 3.808, 3.84 ]),\n",
       " array([0.   , 0.032, 0.064, 0.096, 0.128, 0.16 , 0.192, 0.224, 0.256,\n",
       "        0.288, 0.32 , 0.352, 0.384, 0.416, 0.448, 0.48 , 0.512, 0.544,\n",
       "        0.576, 0.608, 0.64 , 0.672, 0.704, 0.736, 0.768, 0.8  , 0.832,\n",
       "        0.864, 0.896, 0.928, 0.96 , 0.992, 1.024, 1.056, 1.088, 1.12 ,\n",
       "        1.152, 1.184, 1.216, 1.248, 1.28 , 1.312, 1.344, 1.376, 1.408,\n",
       "        1.44 , 1.472, 1.504, 1.536, 1.568, 1.6  , 1.632, 1.664, 1.696,\n",
       "        1.728, 1.76 , 1.792, 1.824, 1.856, 1.888, 1.92 , 1.952, 1.984,\n",
       "        2.016, 2.048, 2.08 , 2.112, 2.144, 2.176, 2.208, 2.24 , 2.272,\n",
       "        2.304, 2.336, 2.368, 2.4  , 2.432, 2.464, 2.496, 2.528, 2.56 ,\n",
       "        2.592, 2.624, 2.656, 2.688, 2.72 , 2.752, 2.784, 2.816, 2.848,\n",
       "        2.88 , 2.912, 2.944, 2.976, 3.008, 3.04 , 3.072, 3.104, 3.136,\n",
       "        3.168, 3.2  , 3.232, 3.264, 3.296, 3.328, 3.36 , 3.392, 3.424,\n",
       "        3.456, 3.488, 3.52 , 3.552, 3.584, 3.616, 3.648, 3.68 , 3.712,\n",
       "        3.744, 3.776]))"
      ]
     },
     "execution_count": 12,
     "metadata": {},
     "output_type": "execute_result"
    }
   ],
   "source": [
    "datacube.dims"
   ]
  },
  {
   "cell_type": "code",
   "execution_count": 13,
   "metadata": {},
   "outputs": [
    {
     "data": {
      "text/plain": [
       "0.032"
      ]
     },
     "execution_count": 13,
     "metadata": {},
     "output_type": "execute_result"
    }
   ],
   "source": [
    "datacube.calibration.get_Q_pixel_size()"
   ]
  },
  {
   "cell_type": "code",
   "execution_count": 14,
   "metadata": {},
   "outputs": [
    {
     "data": {
      "text/plain": [
       "DataCube( A 4-dimensional array of shape (25, 30, 40, 39) called 'polyAu_4DSTEM',\n",
       "          with dimensions:\n",
       "\n",
       "          Rx = [0,5,...] nm\n",
       "          Ry = [0,5,...] nm\n",
       "          Qx = [0.0,0.096,...] A^-1\n",
       "          Qy = [0.0,0.096,...] A^-1\n",
       ")"
      ]
     },
     "execution_count": 14,
     "metadata": {},
     "output_type": "execute_result"
    }
   ],
   "source": [
    "datacube.bin_Q(3)"
   ]
  },
  {
   "cell_type": "code",
   "execution_count": 15,
   "metadata": {},
   "outputs": [
    {
     "data": {
      "image/png": "[encoded data removed]",
      "text/plain": [
       "<Figure size 800x800 with 1 Axes>"
      ]
     },
     "metadata": {},
     "output_type": "display_data"
    }
   ],
   "source": [
    "py4DSTEM.show(datacube[2,3])"
   ]
  },
  {
   "cell_type": "code",
   "execution_count": 16,
   "metadata": {},
   "outputs": [
    {
     "data": {
      "text/plain": [
       "(array([  0,   5,  10,  15,  20,  25,  30,  35,  40,  45,  50,  55,  60,\n",
       "         65,  70,  75,  80,  85,  90,  95, 100, 105, 110, 115, 120]),\n",
       " array([  0,   5,  10,  15,  20,  25,  30,  35,  40,  45,  50,  55,  60,\n",
       "         65,  70,  75,  80,  85,  90,  95, 100, 105, 110, 115, 120, 125,\n",
       "        130, 135, 140, 145]),\n",
       " array([0.   , 0.096, 0.192, 0.288, 0.384, 0.48 , 0.576, 0.672, 0.768,\n",
       "        0.864, 0.96 , 1.056, 1.152, 1.248, 1.344, 1.44 , 1.536, 1.632,\n",
       "        1.728, 1.824, 1.92 , 2.016, 2.112, 2.208, 2.304, 2.4  , 2.496,\n",
       "        2.592, 2.688, 2.784, 2.88 , 2.976, 3.072, 3.168, 3.264, 3.36 ,\n",
       "        3.456, 3.552, 3.648, 3.744]),\n",
       " array([0.   , 0.096, 0.192, 0.288, 0.384, 0.48 , 0.576, 0.672, 0.768,\n",
       "        0.864, 0.96 , 1.056, 1.152, 1.248, 1.344, 1.44 , 1.536, 1.632,\n",
       "        1.728, 1.824, 1.92 , 2.016, 2.112, 2.208, 2.304, 2.4  , 2.496,\n",
       "        2.592, 2.688, 2.784, 2.88 , 2.976, 3.072, 3.168, 3.264, 3.36 ,\n",
       "        3.456, 3.552, 3.648]))"
      ]
     },
     "execution_count": 16,
     "metadata": {},
     "output_type": "execute_result"
    }
   ],
   "source": [
    "datacube.dims"
   ]
  },
  {
   "cell_type": "code",
   "execution_count": 17,
   "metadata": {},
   "outputs": [
    {
     "data": {
      "text/plain": [
       "0.096"
      ]
     },
     "execution_count": 17,
     "metadata": {},
     "output_type": "execute_result"
    }
   ],
   "source": [
    "datacube.calibration.get_Q_pixel_size()"
   ]
  },
  {
   "cell_type": "markdown",
   "metadata": {},
   "source": [
    "# Write and read"
   ]
  },
  {
   "cell_type": "code",
   "execution_count": 18,
   "metadata": {},
   "outputs": [],
   "source": [
    "# set a filepath\n",
    "\n",
    "filepath = splitext(filepath_data)[0] + '_analysis_basics_00.h5'"
   ]
  },
  {
   "cell_type": "code",
   "execution_count": 19,
   "metadata": {},
   "outputs": [
    {
     "name": "stdout",
     "output_type": "stream",
     "text": [
      "/\n"
     ]
    }
   ],
   "source": [
    "# inspect what's in the data tree\n",
    "\n",
    "datacube.tree()"
   ]
  },
  {
   "cell_type": "code",
   "execution_count": 20,
   "metadata": {},
   "outputs": [],
   "source": [
    "# save\n",
    "\n",
    "py4DSTEM.save(\n",
    "    filepath,\n",
    "    datacube,\n",
    "    mode = 'o'\n",
    ")"
   ]
  },
  {
   "cell_type": "code",
   "execution_count": 21,
   "metadata": {},
   "outputs": [
    {
     "name": "stdout",
     "output_type": "stream",
     "text": [
      "/\n",
      "|---polyAu_4DSTEM\n",
      "    |---polyAu_4DSTEM\n",
      "\n",
      "\n"
     ]
    }
   ],
   "source": [
    "# inspect the resulting HDF5 file\n",
    "\n",
    "py4DSTEM.print_h5_tree(filepath)"
   ]
  },
  {
   "cell_type": "code",
   "execution_count": 22,
   "metadata": {},
   "outputs": [],
   "source": [
    "# read\n",
    "\n",
    "d = py4DSTEM.read(\n",
    "    filepath,\n",
    ")"
   ]
  },
  {
   "cell_type": "code",
   "execution_count": 23,
   "metadata": {},
   "outputs": [
    {
     "data": {
      "text/plain": [
       "DataCube( A 4-dimensional array of shape (25, 30, 40, 39) called 'polyAu_4DSTEM',\n",
       "          with dimensions:\n",
       "\n",
       "          Rx = [0,5,...] nm\n",
       "          Ry = [0,5,...] nm\n",
       "          Qx = [0.0,0.096,...] A^-1\n",
       "          Qy = [0.0,0.096,...] A^-1\n",
       ")"
      ]
     },
     "execution_count": 23,
     "metadata": {},
     "output_type": "execute_result"
    }
   ],
   "source": [
    "d"
   ]
  },
  {
   "cell_type": "code",
   "execution_count": 24,
   "metadata": {},
   "outputs": [
    {
     "data": {
      "text/plain": [
       "(array([  0,   5,  10,  15,  20,  25,  30,  35,  40,  45,  50,  55,  60,\n",
       "         65,  70,  75,  80,  85,  90,  95, 100, 105, 110, 115, 120]),\n",
       " array([  0,   5,  10,  15,  20,  25,  30,  35,  40,  45,  50,  55,  60,\n",
       "         65,  70,  75,  80,  85,  90,  95, 100, 105, 110, 115, 120, 125,\n",
       "        130, 135, 140, 145]),\n",
       " array([0.   , 0.096, 0.192, 0.288, 0.384, 0.48 , 0.576, 0.672, 0.768,\n",
       "        0.864, 0.96 , 1.056, 1.152, 1.248, 1.344, 1.44 , 1.536, 1.632,\n",
       "        1.728, 1.824, 1.92 , 2.016, 2.112, 2.208, 2.304, 2.4  , 2.496,\n",
       "        2.592, 2.688, 2.784, 2.88 , 2.976, 3.072, 3.168, 3.264, 3.36 ,\n",
       "        3.456, 3.552, 3.648, 3.744]),\n",
       " array([0.   , 0.096, 0.192, 0.288, 0.384, 0.48 , 0.576, 0.672, 0.768,\n",
       "        0.864, 0.96 , 1.056, 1.152, 1.248, 1.344, 1.44 , 1.536, 1.632,\n",
       "        1.728, 1.824, 1.92 , 2.016, 2.112, 2.208, 2.304, 2.4  , 2.496,\n",
       "        2.592, 2.688, 2.784, 2.88 , 2.976, 3.072, 3.168, 3.264, 3.36 ,\n",
       "        3.456, 3.552, 3.648]))"
      ]
     },
     "execution_count": 24,
     "metadata": {},
     "output_type": "execute_result"
    }
   ],
   "source": [
    "d.dims"
   ]
  },
  {
   "cell_type": "code",
   "execution_count": 25,
   "metadata": {},
   "outputs": [
    {
     "data": {
      "text/plain": [
       "Calibration( A Metadata instance called 'calibration', containing the following fields:\n",
       "\n",
       "             Q_pixel_size:    0.096\n",
       "             R_pixel_size:    5\n",
       "             Q_pixel_units:   A^-1\n",
       "             R_pixel_units:   nm\n",
       ")"
      ]
     },
     "execution_count": 25,
     "metadata": {},
     "output_type": "execute_result"
    }
   ],
   "source": [
    "d.calibration"
   ]
  },
  {
   "cell_type": "code",
   "execution_count": null,
   "metadata": {},
   "outputs": [],
   "source": []
  }
 ],
 "metadata": {
  "colab": {
   "collapsed_sections": [],
   "name": "4DSTEM basics and visualization.ipynb",
   "provenance": []
  },
  "kernelspec": {
   "display_name": "Python 3 (ipykernel)",
   "language": "python",
   "name": "python3"
  },
  "language_info": {
   "codemirror_mode": {
    "name": "ipython",
    "version": 3
   },
   "file_extension": ".py",
   "mimetype": "text/x-python",
   "name": "python",
   "nbconvert_exporter": "python",
   "pygments_lexer": "ipython3",
   "version": "3.10.9"
  }
 },
 "nbformat": 4,
 "nbformat_minor": 4
}
