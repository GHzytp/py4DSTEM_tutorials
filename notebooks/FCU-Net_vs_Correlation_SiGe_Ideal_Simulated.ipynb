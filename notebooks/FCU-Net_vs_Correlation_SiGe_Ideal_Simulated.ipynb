{
 "cells": [
  {
   "cell_type": "markdown",
   "id": "e9c7bf34-d2a4-4b2b-8a96-4fa588a5365e",
   "metadata": {},
   "source": [
    "# Strain mapping of simulated Ge/SiGe multilayer stacks\n",
    "\n",
    "This notebook measures the strain fields of a simulated 4D-STEM dataset  which consists of alternating $Si / Si_{50}Ge_{50}$ multilayer stacks, on a $Si_{25}Ge_{75}$ substrate using both FCU-Net and a correlation based approach implemented in py4DSTEM library.  This notebook uses the \"ideal\" simulation, where the sample is aligned perfectly along the zone axis. All of the non-uniformity of the diffracted disks is due to multiple scattering.\n",
    "\n",
    "[Download the simulated Ge/SiGe multilayer dataset with an ideal structure, after it has been cropped.](https://drive.google.com/file/d/1C6rPB9KpNML_w1wbZrhUE0MORhxDD6_V/view?usp=sharing)\n",
    "\n",
    "### Simulation Parameters\n",
    "\n",
    "|Parameter | Value | Units |\n",
    "|:--- |:--- |:--- |\n",
    "| accelerating voltage | 200 | kV |\n",
    "| wavelength | 0.02508 | Ang |\n",
    "| convergence semiangle | 2 | mrads |\n",
    "| cell dimensions | (1008.28,   253.58,  404.14) | Ang |\n",
    "| algorithm | PRISM |  |\n",
    "| interpolation factors | (12, 3) |  |\n",
    "| scan range x | (0.1, 0.9) | Ang |\n",
    "| scan range y | (0.1, 0.9) | Ang |\n",
    "| probe step x | 4.03 | Ang |\n",
    "| probe step y | 4.06 | Ang |\n",
    "\n",
    "### Acknowledgements\n",
    "\n",
    "This tutorial was written by  Alex Rakowski (arakowski@lbl.gov) with assistance from Ben Savitzky (bhsavitzky@lbl.gov), Joydeep Munshi, and Colin Ophus (clophus@lbl.gov) at Berkeley Lab.\n",
    "\n",
    "The dataset was simulated by Alexander Rakowski (arakowski@lbl.gov) and Colin Ophus (clophus@lbl.gov), using the [Prismatic simulation code](https://prism-em.com/), with help from Luis Rangel DaCosta (luisrd@berkeley.edu ).\n",
    "\n",
    "### Version\n",
    "Last updated with py4DSTEM version 0.13.14"
   ]
  },
  {
   "cell_type": "markdown",
   "id": "02049d90-a193-4b54-85c4-6f078b536ce7",
   "metadata": {},
   "source": [
    "## Download Data"
   ]
  },
  {
   "cell_type": "code",
   "execution_count": null,
   "id": "0cc2faa7-f0e3-4eb3-ae52-808b13ec9e22",
   "metadata": {},
   "outputs": [],
   "source": [
    "# #Download the required database directly from google drive\n",
    "from py4DSTEM.io import download_file_from_google_drive\n",
    "# #Change the 2nd argument of the function according to location of your local drive\n",
    "download_file_from_google_drive(\"1tqYFJN1GHatOu8blu4s9X_TdnWIgkr0F\", \"./Si_SiGe_ideal_50x200_201x50x256x256.h5\")\n",
    "download_file_from_google_drive(\"1-tLGhJyCqMxxz5gg9_R6MfowOK5KI_hv\", \"./strain_profile_simulated.csv\")"
   ]
  },
  {
   "cell_type": "markdown",
   "id": "5bb69b96-6112-4ba2-ad8c-e81e4988ad2b",
   "metadata": {},
   "source": [
    "## Imports "
   ]
  },
  {
   "cell_type": "code",
   "execution_count": null,
   "id": "85143417-3998-4755-8e73-9e5bfea098f7",
   "metadata": {},
   "outputs": [],
   "source": [
    "# Setting a couple of environment parameters to handle the Tensorflow Behaviour\n",
    "import os\n",
    "os.environ[\"TF_FORCE_GPU_ALLOW_GROWTH\"]=\"true\" \n",
    "os.environ['TF_CPP_MIN_LOG_LEVEL'] = '2' \n",
    "import tensorflow as tf\n",
    "import tensorflow_addons as tfa\n",
    "import py4DSTEM\n",
    "import crystal4D\n",
    "import matplotlib.pyplot as plt\n",
    "import numpy as np\n",
    "import h5py\n",
    "import cupy as cp"
   ]
  },
  {
   "cell_type": "markdown",
   "id": "26a5c424-ff3c-4f15-ba0d-01e4f657a3db",
   "metadata": {},
   "source": [
    "## Check the install appears correct:"
   ]
  },
  {
   "cell_type": "code",
   "execution_count": null,
   "id": "debd59ec-f84f-4468-b564-dd6ab3b6a602",
   "metadata": {},
   "outputs": [],
   "source": [
    "print(f\"py4DSTEM version: {py4DSTEM.__version__}\")\n",
    "print(f\"Crystal4D version: {crystal4D.__version__}\")\n",
    "print(f\"Tensorflow version: {tf.__version__}\")\n",
    "print(f\"Tensorflow-Addons version: {tfa.__version__}\")\n",
    "print(f\"Cupy version: {cp.__version__}\")\n",
    "print(f\"Number of GPUs detected: {len(tf.config.list_physical_devices('GPU'))}\")\n",
    "print(\"Cuda envionment:\", \"cudatoolkit: 11.0.3\", \"cudnn: 8.1.0.77\", sep='\\n') "
   ]
  },
  {
   "cell_type": "markdown",
   "id": "ccd1858f-ed98-456a-bada-4a847aa9d60a",
   "metadata": {},
   "source": [
    "## Set file Paths"
   ]
  },
  {
   "cell_type": "code",
   "execution_count": null,
   "id": "22eed445-b224-4f1c-a38b-45a6006e0dde",
   "metadata": {},
   "outputs": [],
   "source": [
    "# File paths - output files will be augmented with the correct file extension\n",
    "file_path_input = './Si_SiGe_ideal_50x200_201x50x256x256.h5'\n",
    "file_path_output = './Si_SiGe_ideal_analysis.h5'"
   ]
  },
  {
   "cell_type": "markdown",
   "id": "f337b43c-4204-4e08-bfc2-595e238886b7",
   "metadata": {},
   "source": [
    "## Load the Files"
   ]
  },
  {
   "cell_type": "code",
   "execution_count": null,
   "id": "e858fded-68af-4126-a38a-16a5f80e0afe",
   "metadata": {},
   "outputs": [],
   "source": [
    "with h5py.File(file_path_input, 'r') as f:\n",
    "    # print(f.keys())\n",
    "    probe = py4DSTEM.io.Probe(data = f['probe'][...])\n",
    "    datacube = py4DSTEM.io.DataCube(data = np.moveaxis(f['datacube'][...], (0,1), (1,0)))\n",
    "#     datacube = py4DSTEM.io.DataCube(data = f['datacube'][...])"
   ]
  },
  {
   "cell_type": "markdown",
   "id": "7ba54665-80bb-4dcb-9856-08b2bec8e3b2",
   "metadata": {},
   "source": [
    "## Plot Median Diffraction Pattern"
   ]
  },
  {
   "cell_type": "code",
   "execution_count": null,
   "id": "2b22f2dc-897b-4a01-977a-a1eedeef252f",
   "metadata": {},
   "outputs": [],
   "source": [
    "# calculate the mean CBED\n",
    "datacube.get_dp_mean(returncalc=False) \n",
    "# plot the mean CBED\n",
    "py4DSTEM.show(\n",
    "    datacube.tree['dp_mean'],\n",
    "    scaling='power',\n",
    "    power=0.5,\n",
    "    cmap='inferno')"
   ]
  },
  {
   "cell_type": "code",
   "execution_count": null,
   "id": "7cb7841b-206d-4d86-9817-b319f62ba14f",
   "metadata": {},
   "outputs": [],
   "source": [
    "# Estimate the radius of the BF disk, and the center coordinates\n",
    "probe_semiangle, probe_qx0, probe_qy0 = probe.get_probe_size(thresh_upper=0.9, )\n",
    "print(f'Estimated probe radius = {probe_semiangle.round(3)}')"
   ]
  },
  {
   "cell_type": "markdown",
   "id": "4ad00770-43ce-4ca2-86a6-a694d6372ae1",
   "metadata": {},
   "source": [
    "## Generate Virtual Images"
   ]
  },
  {
   "cell_type": "code",
   "execution_count": null,
   "id": "5c996097-d16f-417b-b9cf-4878d830af3c",
   "metadata": {},
   "outputs": [],
   "source": [
    "# Generate some Virtual Images \n",
    "expand_BF = 4.0\n",
    "\n",
    "center = (probe_qx0, probe_qy0)\n",
    "radius = probe_semiangle + expand_BF\n",
    "\n",
    "\n",
    "datacube.get_virtual_image(\n",
    "    mode = 'circle',\n",
    "    geometry = (center,radius),\n",
    "    name = 'bright_field',\n",
    ")\n",
    "\n",
    "\n",
    "radii = (probe_semiangle + expand_BF, 1e3)\n",
    "\n",
    "datacube.get_virtual_image(\n",
    "    mode = 'annulus',\n",
    "    geometry = (center,radii),\n",
    "    name = 'dark_field',\n",
    ");"
   ]
  },
  {
   "cell_type": "code",
   "execution_count": null,
   "id": "1ddd4ae9-bdcd-4d44-9fe4-02fb7bb07a2a",
   "metadata": {},
   "outputs": [],
   "source": [
    "py4DSTEM.show(\n",
    "    datacube.tree['bright_field'].data,\n",
    "    figsize=(16,2),\n",
    "    bordercolor = 'w',\n",
    "    cmap='gray',\n",
    "    title='Virtual Bright Field',\n",
    ")\n",
    "py4DSTEM.show(\n",
    "    datacube.tree['dark_field'].data,\n",
    "    figsize=(16,2),\n",
    "    bordercolor = 'w',\n",
    "    cmap = 'gray',\n",
    "    title='Virtual Dark Field',\n",
    ")"
   ]
  },
  {
   "cell_type": "markdown",
   "id": "5ca721dc-427b-4ceb-912d-4cee2f402a5b",
   "metadata": {},
   "source": [
    "## Get the Probe Kernel"
   ]
  },
  {
   "cell_type": "code",
   "execution_count": null,
   "id": "812e5a61-22ea-4d06-aeae-6991dacc7c0f",
   "metadata": {},
   "outputs": [],
   "source": [
    "probe.get_kernel(\n",
    "    mode='sigmoid', \n",
    "    radii = (probe_semiangle*1.0, probe_semiangle * 4.0),\n",
    "    returncalc=False)\n",
    "\n",
    "py4DSTEM.visualize.show_kernel(\n",
    "    probe.kernel,\n",
    "    R = 20,\n",
    "    L = 20,\n",
    "    W = 1\n",
    ")"
   ]
  },
  {
   "cell_type": "markdown",
   "id": "cbbe02d3-fb81-442b-9b2f-461fed03a60d",
   "metadata": {},
   "source": [
    "## Disk Detection"
   ]
  },
  {
   "cell_type": "code",
   "execution_count": null,
   "id": "7753d1a8-3b75-4bf2-a9ad-672754132e7e",
   "metadata": {},
   "outputs": [],
   "source": [
    "# Choose a subset of diffraction patterns to use for hyperparameter tuning\n",
    "\n",
    "rxs = 25, 25, 25, 25, 25, 25\n",
    "rys = 17, 39, 74, 94, 120, 160\n",
    "\n",
    "# rxs = 17, 39, 74, 94, 163, 180\n",
    "# rys = 25,25,25,25,25,25\n",
    "colors=['r','limegreen','c','g','orange', 'violet']\n",
    "\n",
    "py4DSTEM.visualize.show_points(\n",
    "    datacube.tree['dark_field'],\n",
    "    x=rxs,\n",
    "    y=rys,\n",
    "    pointcolor=colors,\n",
    "    figsize=(8,8)\n",
    ")"
   ]
  },
  {
   "cell_type": "code",
   "execution_count": null,
   "id": "99ce0bb4-07de-477a-b351-be183764371c",
   "metadata": {},
   "outputs": [],
   "source": [
    "# Test hyperparameters on a few probe positions\n",
    "# Visualize the diffraction patterns and the located disk positions\n",
    "\n",
    "\n",
    "# Hyperparameters\n",
    "detect_params_corr = {\n",
    "    'corrPower': 1.0,\n",
    "    'sigma': 0,\n",
    "    'edgeBoundary': 16,\n",
    "    'minRelativeIntensity': 0.001,\n",
    "    'minAbsoluteIntensity':2e-6,\n",
    "    'minPeakSpacing': 20,\n",
    "    'subpixel' : 'multicorr',\n",
    "    'upsample_factor': 32,\n",
    "    'maxNumPeaks': 200,\n",
    "}\n",
    "\n",
    "\n",
    "pixelSizeInvAng = 0.0217\n",
    "detect_params_ml = {\n",
    "    'minPeakSpacing': 0.45/pixelSizeInvAng, \n",
    "    'minRelativeIntensity': 0, \n",
    "    'minAbsoluteIntensity': 16, \n",
    "    'edgeBoundary': 4,\n",
    "    'subpixel': 'multicorr',\n",
    "    'upsample_factor': 32,\n",
    "}\n",
    "\n",
    "disks_selected = datacube.find_Bragg_disks(\n",
    "    data = (rxs, rys),\n",
    "    template = probe.kernel,\n",
    "    **detect_params_corr,\n",
    ")\n",
    "\n",
    "\n",
    "py4DSTEM.visualize.show_image_grid(\n",
    "    get_ar = lambda i:datacube.data[rxs[i],rys[i],:,:],\n",
    "    H=2, \n",
    "    W=3,\n",
    "    axsize=(5,5),\n",
    "    intensity_range='absolute',\n",
    "    vmin=0,\n",
    "    vmax=5e-5,\n",
    "    # scaling='power',\n",
    "    # power=0.5,\n",
    "    get_bordercolor = lambda i:colors[i],\n",
    "    get_x = lambda i: disks_selected[i].data['qx'],\n",
    "    get_y = lambda i: disks_selected[i].data['qy'],\n",
    "    get_pointcolors = lambda i: colors[i],\n",
    "    open_circles = True,\n",
    "    scale = 700,\n",
    ")"
   ]
  },
  {
   "cell_type": "markdown",
   "id": "9ec827d3-e1a5-4bbd-8931-d6b80f65afe7",
   "metadata": {},
   "source": [
    "## Using *traditional* Cross correlation method"
   ]
  },
  {
   "cell_type": "code",
   "execution_count": null,
   "id": "a865c30d-46d3-42e0-a7c2-8f4a1735590f",
   "metadata": {},
   "outputs": [],
   "source": [
    "datacube.find_Bragg_disks(template=probe.kernel, \n",
    "                          name='bv_cor', \n",
    "                          **detect_params_corr,\n",
    "                          returncalc=False)"
   ]
  },
  {
   "cell_type": "code",
   "execution_count": null,
   "id": "ae630c20-5f9a-4e46-91f8-b615d71487d7",
   "metadata": {},
   "outputs": [],
   "source": [
    "# we can see that the results are automagically added to the datacube\n",
    "datacube.tree"
   ]
  },
  {
   "cell_type": "markdown",
   "id": "cffcbb6f-fe0a-42cb-a12b-4407b785732d",
   "metadata": {},
   "source": [
    "## Using FCU-Net Machine Learning method"
   ]
  },
  {
   "cell_type": "code",
   "execution_count": null,
   "id": "4d2eceb8-b08e-42ec-b805-82b22f68a69d",
   "metadata": {},
   "outputs": [],
   "source": [
    "datacube.find_Bragg_disks(template=probe.probe, \n",
    "                          name='bv_ml',\n",
    "                          ML=True, \n",
    "                          CUDA = True,\n",
    "                          **detect_params_ml,\n",
    "                          returncalc=False)"
   ]
  },
  {
   "cell_type": "code",
   "execution_count": null,
   "id": "172edbda-1780-402c-a2c3-e99f6ee47ef6",
   "metadata": {},
   "outputs": [],
   "source": [
    "# Again the results are added automagically to the datacube\n",
    "datacube.tree"
   ]
  },
  {
   "cell_type": "markdown",
   "id": "da4182db-019e-4c77-a6cf-3ed0dc3fe5d5",
   "metadata": {},
   "source": [
    "# Working with Bragg Vectors"
   ]
  },
  {
   "cell_type": "code",
   "execution_count": null,
   "id": "22e7a475-018a-4a12-b222-2e8d1f43e1ed",
   "metadata": {},
   "outputs": [],
   "source": [
    "# create separate varabiles \n",
    "bragg_vectors_corr = datacube.tree['bv_cor']\n",
    "bragg_vectors_ml = datacube.tree['bv_ml']"
   ]
  },
  {
   "cell_type": "markdown",
   "id": "181d7c6f-cfec-4114-95f6-d41e02c56c96",
   "metadata": {},
   "source": [
    "# Center coordinate system\n"
   ]
  },
  {
   "cell_type": "code",
   "execution_count": null,
   "id": "b666e6e2-49a4-452c-bb42-ebcc076d848e",
   "metadata": {},
   "outputs": [],
   "source": [
    "# Compute a Bragg vector map (BVM), \n",
    "# a 2D histogram of the Bragg peak positions, \n",
    "# weighted by their correlation intensities\n",
    "bragg_vectors_ml.get_bvm(mode='raw')\n",
    "bragg_vectors_corr.get_bvm(mode='raw');"
   ]
  },
  {
   "cell_type": "code",
   "execution_count": null,
   "id": "0c50261f-cea5-420b-a682-97915b1c59e4",
   "metadata": {},
   "outputs": [],
   "source": [
    "# Compute a Bragg vector map (BVM), \n",
    "# a 2D histogram of the Bragg peak positions, \n",
    "# weighted by their correlation intensities\n",
    "\n",
    "# Plot BVMs\n",
    "bvm_vis_params_ml = {\n",
    "#     'scaling':'power',\n",
    "#     'power':0.5,\n",
    "    'intensity_range':'absolute',\n",
    "    'vmin':0,\n",
    "    'vmax':50,\n",
    "    'cmap':'inferno',\n",
    "    'figsize': (4,4),\n",
    "}\n",
    "py4DSTEM.show(\n",
    "    bragg_vectors_ml.bvm_raw,\n",
    "    **bvm_vis_params_ml\n",
    ")\n",
    "\n",
    "bvm_vis_params_corr = {\n",
    "#     'scaling':'power',\n",
    "#     'power':0.5,\n",
    "    'intensity_range':'absolute',\n",
    "    'vmin':0,\n",
    "    'vmax':1e-2, # note how much lower the intensity is than ML BVM\n",
    "    'cmap':'inferno',\n",
    "    'figsize': (4,4),\n",
    "}\n",
    "\n",
    "py4DSTEM.show(\n",
    "    bragg_vectors_corr.bvm_raw,\n",
    "    **bvm_vis_params_corr\n",
    ")"
   ]
  },
  {
   "cell_type": "code",
   "execution_count": null,
   "id": "d14b0a7a-8414-4f84-a75f-d6cd56791002",
   "metadata": {},
   "outputs": [],
   "source": [
    "center_guess = (probe_qx0, probe_qy0)\n",
    "# Compute the origin position pattern-by-pattern\n",
    "origin_meas_ml = bragg_vectors_ml.measure_origin(\n",
    "    mode = 'no_beamstop',\n",
    "    center_guess = center_guess,\n",
    ")\n",
    "\n",
    "\n",
    "origin_meas_corr = bragg_vectors_corr.measure_origin(\n",
    "    mode = 'no_beamstop',\n",
    "    center_guess = center_guess,\n",
    ")\n",
    "\n",
    "# Some local variation in the position of the origin due to electron-sample interaction is\n",
    "# expected, and constitutes meaningful signal that we would not want to subtract away.\n",
    "# In fitting a plane or parabolic surface to the measured origin shifts, we aim to\n",
    "# capture the systematic shift of the beam due to the changing scan coils,\n",
    "# while removing as little physically meaningful signal we can.\n",
    "\n",
    "qx0_fit_ml,qy0_fit_ml,qx0_residuals_ml,qy0_residuals_ml = bragg_vectors_ml.fit_origin()\n",
    "\n",
    "qx0_fit_corr,qy0_fit_corr,qx0_residuals_corr,qy0_residuals_corr = bragg_vectors_corr.fit_origin()"
   ]
  },
  {
   "cell_type": "code",
   "execution_count": null,
   "id": "f823e719-087e-4803-b9d5-fcfe1bd1ae23",
   "metadata": {},
   "outputs": [],
   "source": [
    "# Center the disk positions about the origin\n",
    "bragg_vectors_ml.calibrate()\n",
    "bragg_vectors_corr.calibrate()"
   ]
  },
  {
   "cell_type": "code",
   "execution_count": null,
   "id": "63983022-7a4e-4198-9090-d2cfecacd49d",
   "metadata": {},
   "outputs": [],
   "source": [
    "# see how the x and y coordinates are now centered \n",
    "print(bragg_vectors_corr.vectors_uncal.get_pointlist(0,0).data[0])\n",
    "print(bragg_vectors_corr.vectors.get_pointlist(0,0).data[0])"
   ]
  },
  {
   "cell_type": "code",
   "execution_count": null,
   "id": "e5509ce6-2b8c-4b72-97ec-71e90cc59cb7",
   "metadata": {},
   "outputs": [],
   "source": [
    "bragg_vectors_ml.get_bvm(mode='centered')\n",
    "bragg_vectors_corr.get_bvm(mode='centered')\n",
    "\n",
    "# Plot the BVM\n",
    "bvm_vis_params_ml = {\n",
    "#     'scaling':'power',\n",
    "#     'power':0.5,\n",
    "    'intensity_range':'absolute',\n",
    "    'vmin':0,\n",
    "    'vmax':50,\n",
    "    'cmap':'inferno',\n",
    "#     'figsize': (4,4),\n",
    "}\n",
    "py4DSTEM.show(\n",
    "    bragg_vectors_ml.bvm_centered,\n",
    "    **bvm_vis_params_ml\n",
    ")\n",
    "\n",
    "bvm_vis_params_corr = {\n",
    "#     'scaling':'power',\n",
    "#     'power':0.5,\n",
    "    'intensity_range':'absolute',\n",
    "    'vmin':0,\n",
    "    'vmax':1e-2,\n",
    "    'cmap':'inferno',\n",
    "#     'figsize': (4,4),\n",
    "}\n",
    "\n",
    "py4DSTEM.show(\n",
    "    bragg_vectors_corr.bvm_centered,\n",
    "    **bvm_vis_params_corr\n",
    ")"
   ]
  },
  {
   "cell_type": "code",
   "execution_count": null,
   "id": "9d1ef959-6d02-42f0-b92c-93e6e1131c45",
   "metadata": {},
   "outputs": [],
   "source": [
    "bragg_vectors_corr.choose_lattice_vectors(\n",
    "    0,\n",
    "    3,\n",
    "    2,\n",
    "    sigma=0, \n",
    "    minSpacing=13,\n",
    "    minAbsoluteIntensity=1e-4,\n",
    "    maxNumPeaks=100,\n",
    "    subpixel='multicorr',\n",
    "    bvm_vis_params = bvm_vis_params_corr,\n",
    ")\n",
    "\n",
    "\n",
    "bragg_vectors_ml.choose_lattice_vectors(\n",
    "    0,\n",
    "    5,\n",
    "    3,\n",
    "    sigma=0, \n",
    "    minSpacing=13,\n",
    "    minAbsoluteIntensity=1e-1,\n",
    "    maxNumPeaks=100,\n",
    "    subpixel='multicorr',\n",
    "    bvm_vis_params = bvm_vis_params_ml,\n",
    ")"
   ]
  },
  {
   "cell_type": "code",
   "execution_count": null,
   "id": "403725af-2621-48d8-981e-991adac5e1cb",
   "metadata": {},
   "outputs": [],
   "source": [
    "bragg_vectors_corr.index_bragg_directions(bvm_vis_params = bvm_vis_params_corr)\n",
    "bragg_vectors_ml.index_bragg_directions(bvm_vis_params = bvm_vis_params_ml)"
   ]
  },
  {
   "cell_type": "code",
   "execution_count": null,
   "id": "2a19b10a-ba5b-44a1-a8f6-e1c8280fc07e",
   "metadata": {},
   "outputs": [],
   "source": [
    "# maximum peak spacing from expected positions\n",
    "max_peak_spacing = 2\n",
    "\n",
    "# add the lattice indices to all Bragg peaks\n",
    "bragg_vectors_corr.add_indices_to_braggpeaks(\n",
    "    maxPeakSpacing = max_peak_spacing,\n",
    ")\n",
    "\n",
    "bragg_vectors_ml.add_indices_to_braggpeaks(\n",
    "    maxPeakSpacing = max_peak_spacing,\n",
    ")"
   ]
  },
  {
   "cell_type": "code",
   "execution_count": null,
   "id": "0bb8cb07-9b4a-4527-895c-bf16b0f9f7a0",
   "metadata": {},
   "outputs": [],
   "source": [
    "# loop through all probe positions and find the best fit lattice\n",
    "\n",
    "bragg_vectors_corr.fit_lattice_vectors_all_DPs()\n",
    "bragg_vectors_ml.fit_lattice_vectors_all_DPs()"
   ]
  },
  {
   "cell_type": "code",
   "execution_count": null,
   "id": "89039271-39a1-48c6-a85e-2dbf1ec5ed8e",
   "metadata": {},
   "outputs": [],
   "source": [
    "# To calculate strain, we need to find how lattice vector changes from a reference region.\n",
    "\n",
    "# Initially, we will define the reference region to be all pixels, and compute the strain\n",
    "mask_ml = np.ones((bragg_vectors_ml.shape[0],bragg_vectors_ml.shape[1]),dtype=bool)\n",
    "bragg_vectors_ml.get_strain_from_reference_region(mask = mask_ml )\n",
    "\n",
    "# Calculate the strain maps, referenced to the median lattice vectors of all probe positions\n",
    "strainmap_median_ml = bragg_vectors_ml.get_rotated_strain_map(mode = 'median')\n",
    "\n",
    "# plot the 4 components of the strain tensor\n",
    "py4DSTEM.visualize.show_strain(\n",
    "    strainmap_median_ml,\n",
    "    vrange_exx = [-3.0, 3.0],\n",
    "    vrange_theta = [-3.0, 3.0],\n",
    "    ticknumber = 3,\n",
    "    axes_plots = (),\n",
    "    bkgrd = False,\n",
    "    figsize = (14,4)\n",
    ")\n",
    "\n",
    "\n",
    "# To calculate strain, we need to find how lattice vector changes from a reference region.\n",
    "\n",
    "# Initially, we will define the reference region to be all pixels, and compute the strain\n",
    "mask_corr = np.ones((bragg_vectors_corr.shape[0],bragg_vectors_corr.shape[1]),dtype=bool)\n",
    "bragg_vectors_corr.get_strain_from_reference_region(mask = mask_corr )\n",
    "\n",
    "# Calculate the strain maps, referenced to the median lattice vectors of all probe positions\n",
    "strainmap_median_corr = bragg_vectors_corr.get_rotated_strain_map(mode = 'median')\n",
    "\n",
    "# plot the 4 components of the strain tensor\n",
    "py4DSTEM.visualize.show_strain(\n",
    "    strainmap_median_corr,\n",
    "    vrange_exx = [-3.0, 3.0],\n",
    "    vrange_theta = [-3.0, 3.0],\n",
    "    ticknumber = 3,\n",
    "    axes_plots = (),\n",
    "    bkgrd = False,\n",
    "    figsize = (14,4)\n",
    ")\n",
    "\n"
   ]
  },
  {
   "cell_type": "code",
   "execution_count": null,
   "id": "4c08a687-a706-4722-9e14-0cb61fc0f788",
   "metadata": {},
   "outputs": [],
   "source": [
    "# Choose a reference lattice location to be the probe positions inside the substrate.\n",
    "x0,xf = 0,50\n",
    "y0,yf = 150, 200\n",
    "\n",
    "py4DSTEM.show(\n",
    "    strainmap_median_ml.get_slice('e_yy').data,              \n",
    "    mask = mask_ml,\n",
    "    figsize = (7, 20), \n",
    "    cmap = 'RdBu',\n",
    "    intensity_range = 'absolute',\n",
    "    vmin = -0.1,\n",
    "    vmax = 0.1,\n",
    "    rectangle={'lims':(x0,xf,y0,yf),'fill':False,'color':'k'}\n",
    ")\n",
    "\n",
    "py4DSTEM.show(\n",
    "    strainmap_median_corr.get_slice('e_yy').data,              \n",
    "    mask = mask_corr,\n",
    "    figsize = (7, 20), \n",
    "    cmap = 'RdBu',\n",
    "    intensity_range = 'absolute',\n",
    "    vmin = -0.1,\n",
    "    vmax = 0.1,\n",
    "    rectangle={'lims':(x0,xf,y0,yf),'fill':False,'color':'k'}\n",
    ")"
   ]
  },
  {
   "cell_type": "code",
   "execution_count": null,
   "id": "ca82c131-db01-46e0-a58d-41da5dba8954",
   "metadata": {},
   "outputs": [],
   "source": [
    "# Get new reference lattice vectors\n",
    "mask_ml[:] = False\n",
    "mask_ml[x0:xf,y0:yf] = True\n",
    "\n",
    "mask_corr[:] = False\n",
    "mask_corr[x0:xf,y0:yf] = True\n",
    "\n",
    "bragg_vectors_ml.get_strain_from_reference_g1g2(mask_ml)\n",
    "bragg_vectors_corr.get_strain_from_reference_g1g2(mask_corr)\n",
    "\n",
    "\n",
    "strainmap_ROI_ml = bragg_vectors_ml.get_rotated_strain_map(mode = 'reference')\n",
    "strainmap_ROI_corr = bragg_vectors_corr.get_rotated_strain_map(mode = 'reference')\n",
    "\n",
    "# plot the 4 components of the strain tensor\n",
    "fig,axs = py4DSTEM.visualize.show_strain(\n",
    "    strainmap_ROI_ml,\n",
    "    vrange_exx = [-3.0, 3.0],\n",
    "    vrange_theta = [-3.0, 3.0],\n",
    "    ticknumber = 3,\n",
    "    axes_plots = (),\n",
    "    bkgrd = False,\n",
    "    figsize = (14,5),\n",
    "    returnfig = True\n",
    ")\n",
    "\n",
    "\n",
    "# plot the 4 components of the strain tensor\n",
    "fig,axs = py4DSTEM.visualize.show_strain(\n",
    "    strainmap_ROI_corr,\n",
    "    vrange_exx = [-3.0, 3.0],\n",
    "    vrange_theta = [-3.0, 3.0],\n",
    "    ticknumber = 3,\n",
    "    axes_plots = (),\n",
    "    bkgrd = False,\n",
    "    figsize = (14,5),\n",
    "    returnfig = True\n",
    ")"
   ]
  },
  {
   "cell_type": "markdown",
   "id": "7a0e3718-94fd-4220-8dba-396b6459e6fc",
   "metadata": {},
   "source": [
    "# Plot line traces for the mean strain values"
   ]
  },
  {
   "cell_type": "code",
   "execution_count": null,
   "id": "7870c97e-908c-475a-b132-d24adb36ab45",
   "metadata": {},
   "outputs": [],
   "source": [
    "# get the ideal strain profile from csv file\n",
    "import pandas as pd\n",
    "strain_prof = pd.read_csv('./strain_profile_simulated.csv')\n",
    "probe_step_x = strain_prof['position']\n",
    "strain_ideal_e_xx =  strain_prof['strain']\n",
    "strain_ideal_e_yy = np.zeros_like(probe_step_x)"
   ]
  },
  {
   "cell_type": "code",
   "execution_count": null,
   "id": "fcae15cf-bc91-470d-8ef3-d07df0255072",
   "metadata": {},
   "outputs": [],
   "source": [
    "# Note to save time, we will just manually specify the probe positions\n",
    "probe_step_x_ = np.arange(0,strainmap_ROI_ml.data.shape[1]) * 4.033104 + 100.82759"
   ]
  },
  {
   "cell_type": "code",
   "execution_count": null,
   "id": "8a657b46-043f-4a94-85fb-2aa024ad13b3",
   "metadata": {},
   "outputs": [],
   "source": [
    "strain_ideal_e_xx.shape,strain_mean_e_xx_ml.shape"
   ]
  },
  {
   "cell_type": "code",
   "execution_count": null,
   "id": "3daff9fc-3f98-4154-b729-2f504a023985",
   "metadata": {},
   "outputs": [],
   "source": [
    "# Get mean E_xx and E_yy strain maps along the perpendicular to growth direction\n",
    "strain_mean_e_xx_ml = np.mean(strainmap_ROI_ml['e_xx'].data,axis=0)\n",
    "strain_mean_e_yy_ml = np.mean(strainmap_ROI_ml['e_yy'].data,axis=0)\n",
    "\n",
    "strain_mean_e_xx_corr= np.mean(strainmap_ROI_corr['e_xx'].data,axis=0)\n",
    "strain_mean_e_yy_corr = np.mean(strainmap_ROI_corr['e_yy'].data,axis=0)\n",
    "\n",
    "\n",
    "\n",
    "# Plotting\n",
    "fig, axs = plt.subplots(1,2,figsize=(16,4))\n",
    "\n",
    "# strain along x direction\n",
    "axs[0].plot(\n",
    "    probe_step_x, \n",
    "    strain_ideal_e_xx,\n",
    "    color='k',\n",
    "    linestyle=':');\n",
    "axs[0].plot(\n",
    "    probe_step_x_, \n",
    "    strain_mean_e_xx_ml+1,\n",
    "    color='r',\n",
    "    label='ML')\n",
    "axs[0].plot(\n",
    "    probe_step_x_, \n",
    "    strain_mean_e_xx_corr+1,\n",
    "    color='g',\n",
    "    label='Corr')\n",
    "axs[0].set_xlim(95,900)\n",
    "axs[0].set_ylim(0.975,1.015)\n",
    "axs[0].legend()\n",
    "# strain along y direction\n",
    "axs[1].plot(\n",
    "    probe_step_x, \n",
    "    strain_ideal_e_yy,\n",
    "    color='k',\n",
    "    linestyle=':');\n",
    "axs[1].plot(\n",
    "    probe_step_x_, \n",
    "    strain_mean_e_yy_ml,\n",
    "    color='r',\n",
    "    label='ML')\n",
    "axs[1].plot(\n",
    "    probe_step_x_, \n",
    "    strain_mean_e_yy_corr,\n",
    "    color='g',\n",
    "    label='Corr')\n",
    "axs[1].set_xlim(95,900)\n",
    "axs[1].set_ylim(-0.03, 0.03)\n",
    "plt.show()"
   ]
  },
  {
   "cell_type": "markdown",
   "id": "79939832-ed68-4c6f-8012-bf4650ff90bd",
   "metadata": {},
   "source": [
    "# Bonus: Accessing the FCU-Net model as a tensorflow model"
   ]
  },
  {
   "cell_type": "code",
   "execution_count": null,
   "id": "1e22c125-f3d0-4c38-b6ad-312609d8eb52",
   "metadata": {},
   "outputs": [],
   "source": [
    "from py4DSTEM.process.diskdetection.diskdetection_aiml import _get_latest_model\n",
    "# from py4DSTEM.process.diskdetection.diskdetection import find_Bragg_disks_aiml, get_maxima_2D\n",
    "\n",
    "# Load the Model\n",
    "model = _get_latest_model()\n",
    "\n",
    "# Looking at the inputs to the Model\n",
    "plt.imshow(\n",
    "    np.hstack([probe.probe*10, \n",
    "               datacube.data[12,0]**0.5,\n",
    "               ]))\n",
    "plt.show()\n",
    "\n",
    "# Predict with the model shape of inputs must be Bx256x256x2,\n",
    "# where B is the Batchsize\n",
    "ml_out = model.predict([probe.probe.reshape(1,256,256,1), datacube.data[12,0].reshape(1,256,256,1)])\n",
    "\n",
    "plt.imshow(ml_out[0,...,0],\n",
    "          vmin=0,\n",
    "          vmax=1e2)\n",
    "plt.show()"
   ]
  }
 ],
 "metadata": {
  "kernelspec": {
   "display_name": "editable-ml-ai",
   "language": "python",
   "name": "ml-ai"
  },
  "language_info": {
   "codemirror_mode": {
    "name": "ipython",
    "version": 3
   },
   "file_extension": ".py",
   "mimetype": "text/x-python",
   "name": "python",
   "nbconvert_exporter": "python",
   "pygments_lexer": "ipython3",
   "version": "3.8.16"
  }
 },
 "nbformat": 4,
 "nbformat_minor": 5
}
