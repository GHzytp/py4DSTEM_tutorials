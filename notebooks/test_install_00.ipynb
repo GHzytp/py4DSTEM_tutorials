{
 "cells": [
  {
   "cell_type": "markdown",
   "metadata": {
    "id": "dWtjuR0PzrAJ"
   },
   "source": [
    "# py4DSTEM installation test\n",
    "\n",
    "Here we:\n",
    "- import py4DSTEM\n",
    "- check the current configuration\n",
    "- load a 4D datacube\n",
    "\n",
    "\n",
    "\n",
    "### Acknowledgements\n",
    "\n",
    "This tutorial was created by:\n",
    "- Ben Savitzky (bhsavitzky@lbl.gov)\n",
    "\n",
    "### Last updated\n",
    "\n",
    "- Date: 08/07/2023\n",
    "- Version: 0.14.3"
   ]
  },
  {
   "cell_type": "markdown",
   "metadata": {
    "id": "wyDwnLNsz-pO"
   },
   "source": [
    "# Import"
   ]
  },
  {
   "cell_type": "code",
   "execution_count": 1,
   "metadata": {},
   "outputs": [
    {
     "name": "stdout",
     "output_type": "stream",
     "text": [
      "0.14.3\n"
     ]
    }
   ],
   "source": [
    "import py4DSTEM\n",
    "\n",
    "print(py4DSTEM.__version__)"
   ]
  },
  {
   "cell_type": "code",
   "execution_count": 2,
   "metadata": {},
   "outputs": [
    {
     "name": "stdout",
     "output_type": "stream",
     "text": [
      "\u001b[1mChecking Module Dependencies\u001b[0m\n",
      "\u001b[7;92m All Dependencies for Base are Installed \u001b[0m\n",
      "\u001b[7;91m Not All Dependencies for Ipyparallel are Installed\u001b[0m\n",
      "\u001b[7;91m Not All Dependencies for Cuda are Installed\u001b[0m\n",
      "\u001b[7;91m Not All Dependencies for Acom are Installed\u001b[0m\n",
      "\u001b[7;91m Not All Dependencies for Aiml are Installed\u001b[0m\n",
      "\u001b[7;91m Not All Dependencies for Aiml-cuda are Installed\u001b[0m\n",
      "\u001b[7;91m Not All Dependencies for Numba are Installed\u001b[0m\n"
     ]
    }
   ],
   "source": [
    "# Check the configuration\n",
    "\n",
    "# If you did a basic installation, only Base dependency should be installed\n",
    "# For instructions for installing additional dependencies, see https://github.com/py4dstem/py4DSTEM#install\n",
    "\n",
    "\n",
    "py4DSTEM.check_config()"
   ]
  },
  {
   "cell_type": "markdown",
   "metadata": {
    "id": "bZfLN2Ra0jxG"
   },
   "source": [
    "# Load data"
   ]
  },
  {
   "cell_type": "markdown",
   "metadata": {},
   "source": [
    "---\n",
    "## Data download\n",
    "\n",
    "You can download the test dataset here: (200 megabytes)\n",
    "* [Small .dm4 vacuum probe file](https://drive.google.com/file/d/1QTcSKzZjHZd1fDimSI_q9_WsAU25NIXe/view?usp=drive_link)\n",
    "\n",
    "Make sure you note where on your computer's filesystem you save this file - you'll need it in the cell below!"
   ]
  },
  {
   "cell_type": "code",
   "execution_count": 3,
   "metadata": {
    "colab": {
     "base_uri": "https://localhost:8080/"
    },
    "executionInfo": {
     "elapsed": 2683,
     "status": "ok",
     "timestamp": 1646781495318,
     "user": {
      "displayName": "Benjamin Savitzky",
      "photoUrl": "https://lh3.googleusercontent.com/a-/AOh14GhuUyU1rnhC9SeJ8DzVa-96cw06-D15BrLxJ1BR=s64",
      "userId": "01089621796660637532"
     },
     "user_tz": 300
    },
    "id": "SoU8kLbUnyf0",
    "outputId": "ab08c1a4-0d19-4d06-e6af-6dcd857f221e"
   },
   "outputs": [],
   "source": [
    "# Set the filepath\n",
    "\n",
    "# Here writing down a string which is used to identify where the data file lives on your computer.\n",
    "# It must be updated below to describe the file's path: that is, the sequence of folders to the file,\n",
    "# each separated by a '/' character, and ending with the name of the file itself.\n",
    "\n",
    "# You need to update this string for the code to work! Right now, it describes where this file exists on\n",
    "# my computer - you need to change it to represent the file's location on your machine.\n",
    "\n",
    "\n",
    "filepath_data = \"/Users/Ben/work/data/py4DSTEM_sampleData/vacuum_probe_20x20.dm4\"\n",
    "\n",
    "filepath_data = r\"/Users/Ben/work/data/py4DSTEM_sampleData/vacuum_probe_20x20.dm4\""
   ]
  },
  {
   "cell_type": "code",
   "execution_count": 4,
   "metadata": {
    "executionInfo": {
     "elapsed": 2639,
     "status": "ok",
     "timestamp": 1646781497953,
     "user": {
      "displayName": "Benjamin Savitzky",
      "photoUrl": "https://lh3.googleusercontent.com/a-/AOh14GhuUyU1rnhC9SeJ8DzVa-96cw06-D15BrLxJ1BR=s64",
      "userId": "01089621796660637532"
     },
     "user_tz": 300
    },
    "id": "Eur6TtF5qcZI"
   },
   "outputs": [],
   "source": [
    "# Load a datacube from a .dm4 file\n",
    "\n",
    "# py4DSTEM uses `import_file` for loading file formats other than it's own,\n",
    "# and uses `read` for native files, i.e. files that py4DSTEM wrote\n",
    "\n",
    "# This is a .dm4 file, so we'll use `import_file`\n",
    "\n",
    "\n",
    "datacube = py4DSTEM.import_file(\n",
    "    filepath_data,\n",
    ")"
   ]
  },
  {
   "cell_type": "code",
   "execution_count": 5,
   "metadata": {},
   "outputs": [
    {
     "data": {
      "text/plain": [
       "DataCube( A 4-dimensional array of shape (20, 20, 512, 512) called 'dm_dataset',\n",
       "          with dimensions:\n",
       "\n",
       "              Rx = [0.0,1.0,2.0,...] pixels\n",
       "              Ry = [0.0,1.0,2.0,...] pixels\n",
       "              Qx = [0.0,0.0046968888491392136,0.009393777698278427,...] A^-1\n",
       "              Qy = [0.0,0.0046968888491392136,0.009393777698278427,...] A^-1\n",
       ")"
      ]
     },
     "execution_count": 5,
     "metadata": {},
     "output_type": "execute_result"
    }
   ],
   "source": [
    "# If it worked, passing the variable `datacube` directly to the Python interpreter should\n",
    "# print a short description of the 4D dataset, starting with `DataCube( ... `\n",
    "\n",
    "\n",
    "datacube"
   ]
  },
  {
   "cell_type": "code",
   "execution_count": null,
   "metadata": {},
   "outputs": [],
   "source": []
  }
 ],
 "metadata": {
  "colab": {
   "collapsed_sections": [],
   "name": "4DSTEM basics and visualization.ipynb",
   "provenance": []
  },
  "kernelspec": {
   "display_name": "Python 3 (ipykernel)",
   "language": "python",
   "name": "python3"
  },
  "language_info": {
   "codemirror_mode": {
    "name": "ipython",
    "version": 3
   },
   "file_extension": ".py",
   "mimetype": "text/x-python",
   "name": "python",
   "nbconvert_exporter": "python",
   "pygments_lexer": "ipython3",
   "version": "3.10.9"
  }
 },
 "nbformat": 4,
 "nbformat_minor": 4
}
