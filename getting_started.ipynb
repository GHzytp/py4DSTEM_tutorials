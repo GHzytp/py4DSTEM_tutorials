{
 "cells": [
  {
   "cell_type": "markdown",
   "id": "320d8dcd-0311-461a-84c2-faa73cc50bf9",
   "metadata": {},
   "source": [
    "# Getting started with py4DSTEM\n",
    "\n",
    "This notebook is a very simple introduction to py4DSTEM.  This notebook is intended to help you get comfortable with using the basic functonality of py4DSTEM, including concepts such as loading or saving data, or plotting images.\n",
    "\n",
    "### Table of Contents\n",
    "\n",
    "* [Part 0 - Import py4DSTEM, download a 4D-STEM dataset, load it.](#part_00)\n",
    "* [Part 1 - Basic visualization](#part_01)\n",
    "* [Part 2 - Fancy visualization](#part_02)\n",
    "\n",
    "\n",
    "\n",
    "### Acknowledgements\n",
    "\n",
    "This notebook was made by the py4DSTEM team. The 4DSTEM data used here was collected by Steven Zeltmann."
   ]
  },
  {
   "cell_type": "markdown",
   "id": "782ec807-de69-4788-811d-0944505a0acd",
   "metadata": {},
   "source": [
    "---\n",
    "<a class=\"anchor\" id=\"part_00\"></a>\n",
    "# Part 0 - Import py4DSTEM, download a 4D-STEM dataset."
   ]
  },
  {
   "cell_type": "code",
   "execution_count": 1,
   "id": "c3c3e7d9-c1a2-4b40-8d9b-59b070c5a023",
   "metadata": {},
   "outputs": [],
   "source": [
    "# Initialization - import the needed packages.\n",
    "# For this tutorial, we will need py4DSTEM and numpy.\n",
    "# numpy is the package we use to interact with vectors and arrays, and perform math operations.\n",
    "import py4DSTEM\n",
    "import numpy as np"
   ]
  },
  {
   "cell_type": "markdown",
   "id": "992e79e9-9249-4176-91a1-5f02a71b190b",
   "metadata": {},
   "source": [
    "You can download the tutorial dataset here: (51.8 megabytes)\n",
    "* [10 x 10 probe positions 4D-STEM scan in dm3 format](https://drive.google.com/file/d/1B-xX3F65JcWzAg0v7f1aVwnawPIfb5_o/view?usp=sharing)"
   ]
  },
  {
   "cell_type": "markdown",
   "id": "aa1e4884-9bd6-4126-b533-33e2eb48545c",
   "metadata": {},
   "source": [
    "If you are running in **Binder** run the cell below, otherwise skip"
   ]
  },
  {
   "cell_type": "code",
   "execution_count": 2,
   "id": "2e9ee3a2-1683-4699-8456-0057165af127",
   "metadata": {},
   "outputs": [
    {
     "ename": "ImportError",
     "evalue": "cannot import name 'download_file_from_google_drive' from 'py4DSTEM.io' (c:\\users\\cophus\\repos\\py4dstem\\py4DSTEM\\io\\__init__.py)",
     "output_type": "error",
     "traceback": [
      "\u001b[1;31m---------------------------------------------------------------------------\u001b[0m",
      "\u001b[1;31mImportError\u001b[0m                               Traceback (most recent call last)",
      "\u001b[1;32m<ipython-input-2-13755d3a6929>\u001b[0m in \u001b[0;36m<module>\u001b[1;34m\u001b[0m\n\u001b[1;32m----> 1\u001b[1;33m \u001b[1;32mfrom\u001b[0m \u001b[0mpy4DSTEM\u001b[0m\u001b[1;33m.\u001b[0m\u001b[0mio\u001b[0m \u001b[1;32mimport\u001b[0m \u001b[0mdownload_file_from_google_drive\u001b[0m\u001b[1;33m\u001b[0m\u001b[0m\n\u001b[0m\u001b[0;32m      2\u001b[0m \u001b[0mdownload_file_from_google_drive\u001b[0m\u001b[1;33m(\u001b[0m\u001b[1;34m\"1B-xX3F65JcWzAg0v7f1aVwnawPIfb5_o\"\u001b[0m\u001b[1;33m,\u001b[0m \u001b[1;34m\"/home/jovyan/data/small4DSTEMscan_10x10.dm3\"\u001b[0m\u001b[1;33m)\u001b[0m\u001b[1;33m\u001b[0m\u001b[0m\n",
      "\u001b[1;31mImportError\u001b[0m: cannot import name 'download_file_from_google_drive' from 'py4DSTEM.io' (c:\\users\\cophus\\repos\\py4dstem\\py4DSTEM\\io\\__init__.py)"
     ]
    }
   ],
   "source": [
    "from py4DSTEM.io import download_file_from_google_drive\n",
    "download_file_from_google_drive(\"1B-xX3F65JcWzAg0v7f1aVwnawPIfb5_o\", \"/home/jovyan/data/small4DSTEMscan_10x10.dm3\")"
   ]
  },
  {
   "cell_type": "code",
   "execution_count": null,
   "id": "effecc4f-21ec-40fb-b15e-7da2ae772ca8",
   "metadata": {},
   "outputs": [],
   "source": [
    "# Set the file paths for the input datasets.\n",
    "# The location of these files may be different, depending on your operating system and browser download path.\n",
    "# If you are running this tutorial on Binder, you do not need to change this path.\n",
    "# file_path_input = '/home/jovyan/data/small4DSTEMscan_10x10.dm3'\n",
    "file_path_input = 'C:/data/small4DSTEMscan_10x10.dm3'"
   ]
  },
  {
   "cell_type": "code",
   "execution_count": null,
   "id": "0ea159d0-278d-408c-951e-4cdc92636b3a",
   "metadata": {},
   "outputs": [],
   "source": [
    "# Load the dm3 file (Gatan digital micrograph format) whose path we just defined\n",
    "datacube = py4DSTEM.io.read(file_path_input)"
   ]
  },
  {
   "cell_type": "code",
   "execution_count": null,
   "id": "5cf5519d-8bca-4811-80b5-bd3596eb0e84",
   "metadata": {},
   "outputs": [],
   "source": [
    "# What we just did was 'open' the dm3 file, but as a py4DSTEM DataCube.\n",
    "# But, what exactly is a py4DSTEM datacube?  Let's try just running it as a python console input:\n",
    "datacube"
   ]
  },
  {
   "cell_type": "markdown",
   "id": "cdc58f18-2a8a-414c-95ff-7b8698bf5da1",
   "metadata": {},
   "source": [
    "Well that wasn't very helpful if you don't already know what a DataCube is!  A py4DSTEM Datacube is a python class. Classes can have properties and methods. The object we defined is named 'datacube', but what it is, is a DataCube-type object. \n",
    "\n",
    "You yourself have a name, but we could perhaps say your class is 'human' (or so I assume)."
   ]
  },
  {
   "cell_type": "code",
   "execution_count": null,
   "id": "847d5828-9411-4ae4-a55e-02590503b97e",
   "metadata": {},
   "outputs": [],
   "source": [
    "# Let's look at some properties of our class, by putting them in square brackets (a python list)\n",
    "[datacube.data, datacube.R_N, datacube.Q_Nx, datacube.Q_Ny]"
   ]
  },
  {
   "cell_type": "markdown",
   "id": "58426bbd-7cac-40cf-b3b4-c7765f988cf3",
   "metadata": {},
   "source": [
    "The first object in our list is the dataset itself - it's quite large, so python (smartly) displays only a little bit of it.\n",
    "\n",
    "We can see some other properties below the dataset:\n",
    "* datacube.R_N  = 100\n",
    "* datacube.Q_Nx = 512\n",
    "* datacube.Q_Ny = 512\n",
    "\n",
    "You may have already guessed based on the names, but these are the size of the (3D) array 'data' - The diffraction space dimensions (labeled with Q) are 512 x 512 pixels, and we have recorded 100 probe positions. This shows one of the limitations of the dm3 format - it can only store a 3D array, not a 4D array. However, from the file name we see this scan recorded 10 x 10 probe positions."
   ]
  },
  {
   "cell_type": "code",
   "execution_count": null,
   "id": "57130aea-2891-43f9-803b-ebc5f0f07021",
   "metadata": {},
   "outputs": [],
   "source": [
    "# We will try manually reshaping the dataset to have the correct shape, using a DataCube method 'set_scan_shape'\n",
    "datacube.set_scan_shape(100,100)"
   ]
  },
  {
   "cell_type": "code",
   "execution_count": null,
   "id": "ed213760-7e14-4cbe-be0b-7e42316c792a",
   "metadata": {},
   "outputs": [],
   "source": [
    "# Oops!  A typo - this demonstrates the method knows when the new shape is impossible. \n",
    "# Set the correct shape:\n",
    "datacube.set_scan_shape(10,10)"
   ]
  },
  {
   "cell_type": "markdown",
   "id": "29136297-b92b-4dc6-ab9a-515adf39a1f7",
   "metadata": {},
   "source": [
    "---\n",
    "<a class=\"anchor\" id=\"part_01\"></a>\n",
    "# Part 1 - Basic Visualization.\n",
    "\n",
    "Evaluating data quality and deciding how to proceed with the analysis almost always begins with visualization. Here, we will go through some visualization functions py4DSTEM uses to visualize 4D data.\n",
    "\n",
    "Let's first look at a single diffraction pattern.  We know the dataset size is [10 x 10 x 512 x 512], so we much select an x_probe and y_probe coordinate in the range 0:10 (which in python means from index 0 to 9). Let's choose probe position (5,4) - but feel free to change these indices below!"
   ]
  },
  {
   "cell_type": "code",
   "execution_count": null,
   "id": "2269184a-349f-4d29-b693-3599cebb64ba",
   "metadata": {},
   "outputs": [],
   "source": [
    "# We will use the basic image plotting function in py4DSTEM, 'show'.\n",
    "# 4D-STEM datasets in py4DSTEM are 4D numpy arrays - to access a subset of the array values, we need to specify 4 values, on for each dimension.  \n",
    "# These are:  \n",
    "#     1st dim = 5, this means probe x position index 5 (vertical from the upper left origin point).\n",
    "#     2nd dim = 4, this means probe y position index 4 (horizontal from the upper left origin point).\n",
    "#     3rd dim = :, this means 'return all values along this dimension'\n",
    "#     4th dim = :, this means 'return all values along this dimension'\n",
    "py4DSTEM.visualize.show(datacube.data[5,4,:,:])"
   ]
  },
  {
   "cell_type": "markdown",
   "id": "cddfadb3-074a-4e51-b6b2-75e9f6ca7dfe",
   "metadata": {},
   "source": [
    "It's easy to plot this diffraction image, but we can't see any interesting features. We can only see the central spot, i.e. the unscattered Bragg disk.  \n",
    "\n",
    "To see more details, we need to either use a nonlinear map of intensity --> color, or adjust the color axis range. Both of these are accessed by changing the 'clipvals' mode of py4DSTEM.visualize.show()."
   ]
  },
  {
   "cell_type": "code",
   "execution_count": null,
   "id": "cf273477-3c5b-42e3-8eff-f3582db352be",
   "metadata": {},
   "outputs": [],
   "source": [
    "# We will start by adjusting the color axis range. \n",
    "# This means specifiying which pixel intensity values we set to black (min) and which we set to white (max).\n",
    "# To tell py4DSTEM we want to manually specify the color range to range from 0 to 500, we use these arguments:\n",
    "py4DSTEM.visualize.show(datacube.data[5,4,:,:],\n",
    "                        clipvals='manual',\n",
    "                        min=0,\n",
    "                        max=500)"
   ]
  },
  {
   "cell_type": "markdown",
   "id": "7891f775-8efd-4f1b-8e79-aa851545d7a0",
   "metadata": {},
   "source": [
    "Much more interesting!  We can see several diffracted Bragg disks, and the distribution of electrons scattered randomly to low angles (characteristic of amorphous samples, or a plasmon background).\n",
    "\n",
    "However, we had to saturate the center Bragg disk in order to see the weak features.  Can we see both strong and weak features?  \n",
    "\n",
    "Yes!  We just need to use logarithmic or power law scaling of the image intensity."
   ]
  },
  {
   "cell_type": "code",
   "execution_count": null,
   "id": "ec849619-dd89-4341-9b5c-409eb04faeba",
   "metadata": {},
   "outputs": [],
   "source": [
    "# Let's first try logarithmic scaling \n",
    "py4DSTEM.visualize.show(datacube.data[5,4,:,:],\n",
    "                        scaling='log')"
   ]
  },
  {
   "cell_type": "markdown",
   "id": "4e58db59-c3cb-4992-94af-7267337f4980",
   "metadata": {},
   "source": [
    "Now we can appreciate the full range of features present in the data:\n",
    "- the very bright center disk\n",
    "- somewhat weaker crystalline Bragg diffracted spots\n",
    "- a small number of electrons randomly scattered to low angles\n",
    "- a hard aperture blocking all electrons at high angles (likely the HAADF detector).\n",
    "- The extremely weak 'dark current' noise outside of the hard aperture.\n",
    "\n",
    "We can manually specify the intensity range for logarithm scaling too:"
   ]
  },
  {
   "cell_type": "code",
   "execution_count": null,
   "id": "403677fc-4dd7-4a10-a891-aec6ba59de36",
   "metadata": {},
   "outputs": [],
   "source": [
    "py4DSTEM.visualize.show(datacube.data[5,4,:,:],\n",
    "                        scaling='log',\n",
    "                        clipvals='manual',\n",
    "                        min=20,\n",
    "                        max=10000)"
   ]
  },
  {
   "cell_type": "markdown",
   "id": "7aed6ca7-19a4-4ca3-b319-679a626f3b3e",
   "metadata": {},
   "source": [
    "Logarithmic scaling is best when the features of interest have intensities which vary by multiple orders of magnitude.\n",
    "\n",
    "However for visualization of diffraction patterns, scaling by a power law is often more useful. This is because we can tune the power (intensity^power) to achieve the desired scaling, and because the extremely weak features (such as detector dark current) are typically not that interesting."
   ]
  },
  {
   "cell_type": "code",
   "execution_count": null,
   "id": "1f4fa6bd-a45f-4a91-9a1c-565aee80983e",
   "metadata": {},
   "outputs": [],
   "source": [
    "# Power law scaling using the square root:\n",
    "py4DSTEM.visualize.show(datacube.data[5,4,:,:],\n",
    "                        scaling='power',\n",
    "                        power=0.5)"
   ]
  },
  {
   "cell_type": "code",
   "execution_count": null,
   "id": "6abc85cf-1cd6-46cc-82b6-fe19e7e0f428",
   "metadata": {},
   "outputs": [],
   "source": [
    "# Power law scaling using the cube root:\n",
    "py4DSTEM.visualize.show(datacube.data[5,4,:,:],\n",
    "                        scaling='power',\n",
    "                        power=0.333)"
   ]
  },
  {
   "cell_type": "markdown",
   "id": "ccf58129-06fd-48f5-91d4-2fc72b52114a",
   "metadata": {},
   "source": [
    "The above is an example for a single diffraction pattern. Real experiments might consist of thousands or even millions of diffraction patterns however. We want to evaluate the contents of the dataset as quickly as possible - is it single crystal?  Polycrstalline?  Amorphous?  A mixture?  To answer these questions, we need to operate on the entire dataset - the simplest such operation is to calculate the mean diffraction pattern."
   ]
  },
  {
   "cell_type": "code",
   "execution_count": null,
   "id": "84739892-343c-4a7f-924f-2da4b8f0fb49",
   "metadata": {},
   "outputs": [],
   "source": [
    "# Calculate the mean diffraction pattern over axis=0 and 1 (the probe x and y scan directions)\n",
    "diff_mean = np.mean(datacube.data,axis=(0,1))\n",
    "\n",
    "# Plot the mean diffraction pattern\n",
    "py4DSTEM.visualize.show(diff_mean,\n",
    "                       scaling='power',\n",
    "                       power=0.333)"
   ]
  },
  {
   "cell_type": "markdown",
   "id": "547b8958-b8ed-4872-9dca-075a9a07453f",
   "metadata": {},
   "source": [
    "We see a few interesting features, such as the center beam smearing out due to shifts of the diffraction pattern during the scan (due to de-scan of the STEM probe).\n",
    "\n",
    "However, it's very difficult to see diffraction features which may occur in a small number of scan positions.\n",
    "\n",
    "We have a standard solution to this problem - we typically visualize the **maximum** diffraction pattern, rather than the mean.  By this, we mean the maximum signal of each pixel in diffraction space over all probe positons."
   ]
  },
  {
   "cell_type": "code",
   "execution_count": null,
   "id": "55560af1-7621-4eb3-8cdc-62836b84c5a5",
   "metadata": {},
   "outputs": [],
   "source": [
    "# Calculate the mean diffraction pattern over axis=0 and 1 (the probe x and y scan directions)\n",
    "diff_max = np.max(datacube.data,axis=(0,1))\n",
    "\n",
    "# Plot the mean diffraction pattern\n",
    "py4DSTEM.visualize.show(diff_max,\n",
    "                       scaling='power',\n",
    "                       power=0.25)"
   ]
  },
  {
   "cell_type": "markdown",
   "id": "10c8c695-2252-4d70-abfc-b679558debb1",
   "metadata": {},
   "source": [
    "Now we have a good idea of the contents of this 10 x 10 position dataset - various randomly oriented grains with strong Bragg diffraction, and a significant amount of diffraction shift (note the rectnagular shape traced out by the center beam).\n",
    "\n",
    "Next, let's visualize this data in real space using virtual detectors. Specifically, we will generate a virtual bright field (BF) and virtual dark field (DF) image. For this, we need to know the position of the center disk and an approximate ratius for it."
   ]
  },
  {
   "cell_type": "code",
   "execution_count": null,
   "id": "46f65758-e11f-4651-b47e-dfd65b904c9e",
   "metadata": {},
   "outputs": [],
   "source": [
    "# Estimate the radius of the BF disk, and the center coordinates\n",
    "probe_semiangle, qx0, qy0 = py4DSTEM.process.calibration.get_probe_size(diff_mean)\n",
    "\n",
    "# plot the mean diffraction pattern, with the estimated probe radius overlaid as a circle\n",
    "py4DSTEM.visualize.show_circles(\n",
    "    diff_mean, \n",
    "    (qx0, qy0), \n",
    "    probe_semiangle)\n",
    "\n",
    "# Print the estimate probe radius\n",
    "print('Estimated probe radius =', '%.2f' % probe_semiangle, 'pixels')"
   ]
  },
  {
   "cell_type": "markdown",
   "id": "e367edc2-4e0e-4a08-82dc-50f88b593fbd",
   "metadata": {},
   "source": [
    "The estimated probe size is too small, because of the diffraction shift of this pattern.  We could align all of the images, but it's typically much faster to just expand the bright field detector range. "
   ]
  },
  {
   "cell_type": "code",
   "execution_count": null,
   "id": "edeb0914-e147-4ec3-86e2-ef3302a0f603",
   "metadata": {},
   "outputs": [],
   "source": [
    "# Create a bright field (BF) virtual detector using the the center beam position, and expanding the radius slightly (+ 10 px).\n",
    "expand_BF = 10.0\n",
    "image_BF = py4DSTEM.process.virtualimage.get_virtualimage_circ(datacube, \n",
    "                                                               qx0, qy0, \n",
    "                                                               probe_semiangle + expand_BF)\n",
    "\n",
    "# Show the BF image, next to the virtual detector we have used\n",
    "py4DSTEM.visualize.show_circles(diff_mean, \n",
    "                                (qx0, qy0), \n",
    "                                probe_semiangle + expand_BF, \n",
    "                                figsize=(3,3))\n",
    "py4DSTEM.visualize.show(\n",
    "    image_BF,\n",
    "    figsize=(3,3),\n",
    "    cmap='viridis')"
   ]
  },
  {
   "cell_type": "code",
   "execution_count": null,
   "id": "fe826364-b803-4ad7-9ab9-a88127df2718",
   "metadata": {},
   "outputs": [],
   "source": [
    "# Create a dark field (DF) virtual detector using the the center beam position, with an inner angle laeger than  (+ 10 px).\n",
    "expand_BF = 10.0\n",
    "image_DF = py4DSTEM.process.virtualimage.get_virtualimage_ann(\n",
    "    datacube, \n",
    "    qx0, qy0, \n",
    "    probe_semiangle + expand_BF,\n",
    "    1e3)\n",
    "\n",
    "# Show the BF image, next to the virtual detector we have used\n",
    "py4DSTEM.visualize.show_circles(diff_mean, \n",
    "                                (qx0, qy0), \n",
    "                                probe_semiangle + expand_BF, \n",
    "                                figsize=(3,3))\n",
    "py4DSTEM.visualize.show(\n",
    "    image_DF,\n",
    "    figsize=(3,3),\n",
    "    cmap='viridis')"
   ]
  },
  {
   "cell_type": "code",
   "execution_count": null,
   "id": "e1346097-72c0-4a5a-a6e2-d155da2b0797",
   "metadata": {},
   "outputs": [],
   "source": []
  },
  {
   "cell_type": "code",
   "execution_count": null,
   "id": "32d4812c-c38e-4f57-88ab-f25883f4e075",
   "metadata": {},
   "outputs": [],
   "source": []
  },
  {
   "cell_type": "code",
   "execution_count": null,
   "id": "c4138316-0012-4cc0-bc78-0186dc85aa65",
   "metadata": {},
   "outputs": [],
   "source": []
  },
  {
   "cell_type": "markdown",
   "id": "f0b2ef7e-1a23-4e91-8eec-bbb68cdf38d1",
   "metadata": {},
   "source": [
    "---\n",
    "<a class=\"anchor\" id=\"part_02\"></a>\n",
    "# Part 2 - Advanced Visualization.\n",
    "\n",
    "py4DSTEM also supports various fancier visualization methods.  We will go through a few examples here. (TODO)"
   ]
  },
  {
   "cell_type": "code",
   "execution_count": null,
   "id": "b2cd1cc7-380a-47eb-a6bb-f7acb89bd0ea",
   "metadata": {},
   "outputs": [],
   "source": []
  }
 ],
 "metadata": {
  "kernelspec": {
   "display_name": "Python 3",
   "language": "python",
   "name": "python3"
  },
  "language_info": {
   "codemirror_mode": {
    "name": "ipython",
    "version": 3
   },
   "file_extension": ".py",
   "mimetype": "text/x-python",
   "name": "python",
   "nbconvert_exporter": "python",
   "pygments_lexer": "ipython3",
   "version": "3.7.0"
  }
 },
 "nbformat": 4,
 "nbformat_minor": 5
}
