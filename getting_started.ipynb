{
 "cells": [
  {
   "cell_type": "markdown",
   "id": "320d8dcd-0311-461a-84c2-faa73cc50bf9",
   "metadata": {},
   "source": [
    "# Getting started with py4DSTEM\n",
    "\n",
    "This notebook is a very simple introduction to py4DSTEM.  This notebook is intended to help you get comfortable with using the basic functonality of py4DSTEM, including concepts such as loading or saving data, or plotting images.\n",
    "\n",
    "### Table of Contents\n",
    "\n",
    "* [Part 0 - Import py4DSTEM, download a 4D-STEM dataset, load it.](#part_00)\n",
    "* [Part 1 - Basic visualization](#part_01)\n",
    "* [Part 2 - Basic visualization](#part_01)\n",
    "\n",
    "\n",
    "\n",
    "### Acknowledgements\n",
    "\n",
    "This notebook was made by the py4DSTEM team.\n"
   ]
  },
  {
   "cell_type": "markdown",
   "id": "782ec807-de69-4788-811d-0944505a0acd",
   "metadata": {},
   "source": [
    "---\n",
    "# Part 0 - Import py4DSTEM, download a 4D-STEM dataset.<a class=\"anchor\" id=\"part_00\"></a>\n"
   ]
  },
  {
   "cell_type": "code",
   "execution_count": 6,
   "id": "c3c3e7d9-c1a2-4b40-8d9b-59b070c5a023",
   "metadata": {},
   "outputs": [],
   "source": [
    "# Initialization - import the needed packages.\n",
    "# For this tutorial, we will need py4DSTEM and numpy.\n",
    "# numpy is the package we use to interact with vectors and arrays, and perform math operations.\n",
    "import py4DSTEM\n",
    "import numpy as np"
   ]
  },
  {
   "cell_type": "markdown",
   "id": "992e79e9-9249-4176-91a1-5f02a71b190b",
   "metadata": {},
   "source": [
    "You can download the tutorial dataset here: (51.8 megabytes)\n",
    "* [10 x 10 probe positions 4D-STEM scan in dm3 format](https://drive.google.com/file/d/1B-xX3F65JcWzAg0v7f1aVwnawPIfb5_o/view?usp=sharing)"
   ]
  },
  {
   "cell_type": "markdown",
   "id": "aa1e4884-9bd6-4126-b533-33e2eb48545c",
   "metadata": {},
   "source": [
    "If you are running in **Binder** run the cell below, otherwise skip"
   ]
  },
  {
   "cell_type": "code",
   "execution_count": 8,
   "id": "2e9ee3a2-1683-4699-8456-0057165af127",
   "metadata": {},
   "outputs": [],
   "source": [
    "# TODO - add binder link to file_getter\n",
    "# %run /home/jovyan/file_getter.py --dpc_nanotube"
   ]
  },
  {
   "cell_type": "code",
   "execution_count": 9,
   "id": "effecc4f-21ec-40fb-b15e-7da2ae772ca8",
   "metadata": {},
   "outputs": [],
   "source": [
    "# Set the file paths for the input datasets.\n",
    "# The location of these files may be different, depending on your operating system and browser download path.\n",
    "# If you are running this tutorial on Binder, you do not need to change this path.\n",
    "# file_path_input = '/home/jovyan/data/carbon_nanotube_data.h5'\n",
    "file_path_input = 'C:/data/small4DSTEMscan_10x10.dm3'"
   ]
  },
  {
   "cell_type": "code",
   "execution_count": 16,
   "id": "0ea159d0-278d-408c-951e-4cdc92636b3a",
   "metadata": {},
   "outputs": [],
   "source": [
    "# Load the dm3 file (Gatan digital micrograph format) whose path we just defined\n",
    "datacube = py4DSTEM.io.read(file_path_input)"
   ]
  },
  {
   "cell_type": "code",
   "execution_count": 17,
   "id": "5cf5519d-8bca-4811-80b5-bd3596eb0e84",
   "metadata": {},
   "outputs": [
    {
     "data": {
      "text/plain": [
       "<py4DSTEM.io.datastructure.datacube.DataCube at 0x24f961207b8>"
      ]
     },
     "execution_count": 17,
     "metadata": {},
     "output_type": "execute_result"
    }
   ],
   "source": [
    "# What we just did was 'open' the dm3 file, but as a py4DSTEM DataCube.\n",
    "# But, what exactly is a py4DSTEM datacube?  Let's try just running it as a python console input:\n",
    "datacube"
   ]
  },
  {
   "cell_type": "markdown",
   "id": "cdc58f18-2a8a-414c-95ff-7b8698bf5da1",
   "metadata": {},
   "source": [
    "Well that wasn't very helpful if you don't already know what a DataCube is!  A py4DSTEM Datacube is a python class. Classes can have properties and methods. The object we defined is named 'datacube', but what it is, is a DataCube-type object. \n",
    "\n",
    "You yourself have a name, but we could perhaps say your class is 'human' (or so I assume)."
   ]
  },
  {
   "cell_type": "code",
   "execution_count": 26,
   "id": "847d5828-9411-4ae4-a55e-02590503b97e",
   "metadata": {},
   "outputs": [
    {
     "data": {
      "text/plain": [
       "[array([[[[23, 10,  0, ..., 17, 24,  5],\n",
       "          [ 6,  0,  0, ..., 18,  6,  0],\n",
       "          [ 0,  0, 26, ...,  5,  0,  0],\n",
       "          ...,\n",
       "          [ 0,  5,  0, ...,  5,  0,  9],\n",
       "          [ 0,  0,  0, ...,  9,  0, 21],\n",
       "          [27,  0, 11, ...,  0,  0, 17]]],\n",
       " \n",
       " \n",
       "        [[[23, 12,  0, ..., 10,  1,  0],\n",
       "          [ 1,  0,  0, ...,  0,  6,  0],\n",
       "          [ 0,  0, 23, ...,  3,  0,  0],\n",
       "          ...,\n",
       "          [ 0,  3,  3, ...,  0,  0,  3],\n",
       "          [ 7,  9,  0, ...,  2,  0, 23],\n",
       "          [29,  0, 10, ...,  0,  0,  0]]],\n",
       " \n",
       " \n",
       "        [[[20,  7, 12, ...,  0,  5,  9],\n",
       "          [ 0,  0,  0, ..., 16,  5,  0],\n",
       "          [ 0,  0, 13, ...,  3,  0,  0],\n",
       "          ...,\n",
       "          [ 0, 12,  1, ...,  3,  1, 17],\n",
       "          [ 0, 18,  0, ...,  0,  0, 18],\n",
       "          [38,  0,  0, ...,  0,  0, 13]]],\n",
       " \n",
       " \n",
       "        ...,\n",
       " \n",
       " \n",
       "        [[[21,  8, 11, ..., 10, 14,  3],\n",
       "          [ 5,  0,  0, ..., 27,  4,  0],\n",
       "          [ 1,  0, 25, ..., 11,  0,  0],\n",
       "          ...,\n",
       "          [ 0, 12, 11, ...,  6,  0,  9],\n",
       "          [ 5, 15,  0, ..., 10,  0, 17],\n",
       "          [22,  4,  8, ...,  0,  0, 13]]],\n",
       " \n",
       " \n",
       "        [[[31, 17,  8, ...,  0, 21,  0],\n",
       "          [ 4,  0,  3, ...,  0, 15,  0],\n",
       "          [ 0,  2, 13, ..., 12,  0,  0],\n",
       "          ...,\n",
       "          [ 4, 17,  0, ...,  0,  5, 23],\n",
       "          [ 4, 30,  0, ...,  7,  0, 32],\n",
       "          [26,  0,  0, ...,  0,  0,  3]]],\n",
       " \n",
       " \n",
       "        [[[22,  0, 16, ...,  3, 16,  1],\n",
       "          [ 0,  0,  5, ..., 15, 10,  0],\n",
       "          [14,  0, 29, ...,  9,  0,  0],\n",
       "          ...,\n",
       "          [ 0,  3,  0, ...,  3,  0, 10],\n",
       "          [ 0, 28,  0, ...,  3,  0, 27],\n",
       "          [27,  0,  3, ...,  0,  0,  8]]]], dtype=uint16),\n",
       " 100,\n",
       " 512,\n",
       " 512]"
      ]
     },
     "execution_count": 26,
     "metadata": {},
     "output_type": "execute_result"
    }
   ],
   "source": [
    "# Let's look at some properties of our class, by putting them in square brackets (a python list)\n",
    "[datacube.data, datacube.R_N, datacube.Q_Nx, datacube.Q_Ny]"
   ]
  },
  {
   "cell_type": "markdown",
   "id": "58426bbd-7cac-40cf-b3b4-c7765f988cf3",
   "metadata": {},
   "source": [
    "The first object in our list is the dataset itself - it's quite large, so python (smartly) displays only a little bit of it.\n",
    "\n",
    "We can see some other properies below the dataset:\n",
    "* datacube.R_N  = 100\n",
    "* datacube.Q_Nx = 512\n",
    "* datacube.Q_Ny = 512\n",
    "\n",
    "You may have already guessed based on the names, but these are the size of the (3D) array 'data' - The diffraction space dimensions (labeled with Q) are 512 x 512 pixels, and we have recorded 100 probe positions. This shows one of the limitations of the dm3 format - it can only store a 3D array, not a 4D array. However, from the file name we see this scan recorded 10 x 10 probe positions."
   ]
  },
  {
   "cell_type": "code",
   "execution_count": 33,
   "id": "57130aea-2891-43f9-803b-ebc5f0f07021",
   "metadata": {},
   "outputs": [
    {
     "name": "stdout",
     "output_type": "stream",
     "text": [
      "Can't reshape 100 scan positions into a 100x100 array.\n"
     ]
    }
   ],
   "source": [
    "# We will try manually reshaping the dataset to have the correct shape, using a DataCube method 'set_scan_shape'\n",
    "datacube.set_scan_shape(100,100)"
   ]
  },
  {
   "cell_type": "code",
   "execution_count": 34,
   "id": "ed213760-7e14-4cbe-be0b-7e42316c792a",
   "metadata": {},
   "outputs": [],
   "source": [
    "# Oops!  A typo - this demonstrates the method is smart enough to know when our new shape is impossible. \n",
    "# Setting the correct shape:\n",
    "datacube.set_scan_shape(10,10)"
   ]
  },
  {
   "cell_type": "code",
   "execution_count": null,
   "id": "f8bcc754-2eb2-4d19-b1f7-558fff21243a",
   "metadata": {},
   "outputs": [],
   "source": []
  },
  {
   "cell_type": "code",
   "execution_count": null,
   "id": "84739892-343c-4a7f-924f-2da4b8f0fb49",
   "metadata": {},
   "outputs": [],
   "source": []
  },
  {
   "cell_type": "code",
   "execution_count": null,
   "id": "596235a0-db4a-4b40-ba01-5c41a5e47a56",
   "metadata": {},
   "outputs": [],
   "source": []
  },
  {
   "cell_type": "code",
   "execution_count": null,
   "id": "55560af1-7621-4eb3-8cdc-62836b84c5a5",
   "metadata": {},
   "outputs": [],
   "source": []
  },
  {
   "cell_type": "code",
   "execution_count": null,
   "id": "59cf1d7e-2f34-402d-a646-a6cb3793f5af",
   "metadata": {},
   "outputs": [],
   "source": []
  },
  {
   "cell_type": "code",
   "execution_count": null,
   "id": "46f65758-e11f-4651-b47e-dfd65b904c9e",
   "metadata": {},
   "outputs": [],
   "source": []
  },
  {
   "cell_type": "code",
   "execution_count": null,
   "id": "730fa1eb-ba2f-479e-a98c-4ad1c00198bf",
   "metadata": {},
   "outputs": [],
   "source": []
  },
  {
   "cell_type": "code",
   "execution_count": null,
   "id": "455f5b88-2d79-4984-94a9-8cba3c323d28",
   "metadata": {},
   "outputs": [],
   "source": []
  },
  {
   "cell_type": "code",
   "execution_count": null,
   "id": "ae36ebc8-34f1-4c67-a3c0-8f040c4f8a2e",
   "metadata": {},
   "outputs": [],
   "source": []
  },
  {
   "cell_type": "code",
   "execution_count": null,
   "id": "e1346097-72c0-4a5a-a6e2-d155da2b0797",
   "metadata": {},
   "outputs": [],
   "source": []
  },
  {
   "cell_type": "code",
   "execution_count": null,
   "id": "32d4812c-c38e-4f57-88ab-f25883f4e075",
   "metadata": {},
   "outputs": [],
   "source": []
  },
  {
   "cell_type": "code",
   "execution_count": null,
   "id": "c4138316-0012-4cc0-bc78-0186dc85aa65",
   "metadata": {},
   "outputs": [],
   "source": []
  },
  {
   "cell_type": "code",
   "execution_count": null,
   "id": "c27beec2-78cb-453b-8365-855dfc2a4cf6",
   "metadata": {},
   "outputs": [],
   "source": []
  },
  {
   "cell_type": "code",
   "execution_count": null,
   "id": "2d12ae2c-8ff1-4493-aad7-be78a67bea1c",
   "metadata": {},
   "outputs": [],
   "source": []
  },
  {
   "cell_type": "code",
   "execution_count": null,
   "id": "4f5d3bc0-5e3d-4806-be69-53d08fdf558d",
   "metadata": {},
   "outputs": [],
   "source": []
  },
  {
   "cell_type": "code",
   "execution_count": null,
   "id": "945814c3-1a41-4fbd-b279-078982aba081",
   "metadata": {},
   "outputs": [],
   "source": []
  },
  {
   "cell_type": "code",
   "execution_count": null,
   "id": "690f918b-4b7b-4013-95e0-b184d2c4d0b0",
   "metadata": {},
   "outputs": [],
   "source": []
  },
  {
   "cell_type": "code",
   "execution_count": null,
   "id": "b05b5016-9338-423c-9f54-1143acca7c4f",
   "metadata": {},
   "outputs": [],
   "source": []
  },
  {
   "cell_type": "code",
   "execution_count": null,
   "id": "b2cd1cc7-380a-47eb-a6bb-f7acb89bd0ea",
   "metadata": {},
   "outputs": [],
   "source": []
  }
 ],
 "metadata": {
  "kernelspec": {
   "display_name": "Python 3",
   "language": "python",
   "name": "python3"
  },
  "language_info": {
   "codemirror_mode": {
    "name": "ipython",
    "version": 3
   },
   "file_extension": ".py",
   "mimetype": "text/x-python",
   "name": "python",
   "nbconvert_exporter": "python",
   "pygments_lexer": "ipython3",
   "version": "3.7.0"
  }
 },
 "nbformat": 4,
 "nbformat_minor": 5
}
